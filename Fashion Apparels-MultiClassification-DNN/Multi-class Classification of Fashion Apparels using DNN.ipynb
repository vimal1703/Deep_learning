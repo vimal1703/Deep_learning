{
 "cells": [
  {
   "cell_type": "markdown",
   "id": "3f1aa7ca",
   "metadata": {
    "id": "3f1aa7ca"
   },
   "source": [
    "# Multi-class Classification of Fashion Apparels using DNN"
   ]
  },
  {
   "cell_type": "markdown",
   "id": "5fb38a78",
   "metadata": {
    "id": "5fb38a78"
   },
   "source": [
    "### 1. Open fashion_mnist dataset from keras"
   ]
  },
  {
   "cell_type": "code",
   "execution_count": 1,
   "id": "64d7df70",
   "metadata": {
    "id": "64d7df70"
   },
   "outputs": [],
   "source": [
    "import numpy as np\n",
    "import matplotlib.pyplot as plt\n",
    "import tensorflow as tf\n",
    "from tensorflow.keras.models import Sequential\n",
    "from tensorflow.keras.layers import Dense, Flatten"
   ]
  },
  {
   "cell_type": "code",
   "execution_count": 2,
   "id": "d0cb53ed",
   "metadata": {
    "id": "d0cb53ed"
   },
   "outputs": [
    {
     "name": "stdout",
     "output_type": "stream",
     "text": [
      "Downloading data from https://storage.googleapis.com/tensorflow/tf-keras-datasets/train-labels-idx1-ubyte.gz\n",
      "29515/29515 [==============================] - 0s 6us/step\n",
      "Downloading data from https://storage.googleapis.com/tensorflow/tf-keras-datasets/train-images-idx3-ubyte.gz\n",
      "26421880/26421880 [==============================] - 29s 1us/step\n",
      "Downloading data from https://storage.googleapis.com/tensorflow/tf-keras-datasets/t10k-labels-idx1-ubyte.gz\n",
      "5148/5148 [==============================] - 0s 0s/step\n",
      "Downloading data from https://storage.googleapis.com/tensorflow/tf-keras-datasets/t10k-images-idx3-ubyte.gz\n",
      "4422102/4422102 [==============================] - 3s 1us/step\n"
     ]
    }
   ],
   "source": [
    "dataset = tf.keras.datasets.fashion_mnist.load_data()"
   ]
  },
  {
   "cell_type": "markdown",
   "id": "e82e9a62",
   "metadata": {
    "id": "e82e9a62"
   },
   "source": [
    "### 2. Perform basic EDA:"
   ]
  },
  {
   "cell_type": "code",
   "execution_count": 3,
   "id": "IleG5gNqi3d0",
   "metadata": {
    "id": "IleG5gNqi3d0"
   },
   "outputs": [],
   "source": [
    "(X_train, y_train), (X_test, y_test) = dataset"
   ]
  },
  {
   "cell_type": "code",
   "execution_count": 4,
   "id": "7ebbbef0",
   "metadata": {
    "colab": {
     "base_uri": "https://localhost:8080/"
    },
    "id": "7ebbbef0",
    "outputId": "fe9b819f-aa3f-4c23-d1fb-8ea291393f2a"
   },
   "outputs": [
    {
     "name": "stdout",
     "output_type": "stream",
     "text": [
      "X_train shape: (60000, 28, 28)            y_train shape: (60000,)\n",
      "X_test shape: (10000, 28, 28)             y_test shape: (10000,)\n"
     ]
    }
   ],
   "source": [
    "print(\"X_train shape:\", X_train.shape, \"           y_train shape:\", y_train.shape)\n",
    "print(\"X_test shape:\", X_test.shape, \"            y_test shape:\", y_test.shape)"
   ]
  },
  {
   "cell_type": "code",
   "execution_count": 5,
   "id": "1f73addb",
   "metadata": {
    "colab": {
     "base_uri": "https://localhost:8080/"
    },
    "id": "1f73addb",
    "outputId": "fa4fa8f6-842e-4e9a-cd8b-eb3e23ea2d34"
   },
   "outputs": [
    {
     "name": "stdout",
     "output_type": "stream",
     "text": [
      "X_train size: 47040000            y_train size: 60000\n",
      "X_test size: 7840000           y_test size: 10000\n"
     ]
    }
   ],
   "source": [
    "print(\"X_train size:\", X_train.size, \"           y_train size:\", y_train.size)\n",
    "print(\"X_test size:\", X_test.size, \"          y_test size:\", y_test.size)"
   ]
  },
  {
   "cell_type": "code",
   "execution_count": 6,
   "id": "8jQ1MoyPj8VY",
   "metadata": {
    "colab": {
     "base_uri": "https://localhost:8080/"
    },
    "id": "8jQ1MoyPj8VY",
    "outputId": "eb94693f-ab6f-4d9a-fbdc-a674a49cb500"
   },
   "outputs": [
    {
     "data": {
      "text/plain": [
       "array([[  0,   0,   1,   1,   0,   1,   0,   0,   0,   0,  34,  95,   0,\n",
       "          0,   0,   0,  52,  70,   0,   0,   0,   2,   1,   0,   1,   0,\n",
       "          0,   0],\n",
       "       [  0,   0,   0,   1,   1,   0,   0,  11,  59, 111, 113, 182, 169,\n",
       "        226, 255, 188, 175, 162, 105,  85,  31,   0,   0,   0,   1,   0,\n",
       "          0,   0],\n",
       "       [  0,   0,   1,   0,   0,  27,  89, 127, 127, 115, 101,  86,  81,\n",
       "         95,  91,  88,  78,  92, 115, 136, 139, 126,  73,   1,   0,   0,\n",
       "          0,   0],\n",
       "       [  0,   0,   0,   0,  49, 117, 113,  95,  94,  97,  98, 102, 101,\n",
       "         98,  91,  97, 104,  97, 101,  92,  95, 111, 128,  82,   1,   0,\n",
       "          0,   0],\n",
       "       [  0,   0,   0,  18, 118, 102,  92,  92,  92,  89,  94,  92,  86,\n",
       "         85,  88,  94,  92,  92,  95,  99,  95,  98,  89, 126,  24,   0,\n",
       "          0,   0],\n",
       "       [  0,   0,   0,  59, 127, 102,  95,  94,  97,  91,  86,  91,  92,\n",
       "         88,  86,  89,  91,  99, 102, 101,  98,  94,  99, 121,  57,   0,\n",
       "          0,   0],\n",
       "       [  0,   0,   0,  95, 118, 107,  98,  89,  84,  86,  86,  86,  89,\n",
       "         89,  85,  85,  92,  92,  89,  89,  88,  97, 107, 111,  97,   0,\n",
       "          0,   0],\n",
       "       [  0,   0,   0, 111, 126, 123, 111, 102, 102,  94,  91,  88,  89,\n",
       "         91,  86,  86,  95,  97,  91,  98, 104, 102, 111, 102, 111,   0,\n",
       "          0,   0],\n",
       "       [  0,   0,   0, 108, 107, 117, 146, 169, 111, 105,  91,  91,  88,\n",
       "         84,  88,  91,  92,  94, 105,  97, 136, 162, 104,  97, 114,   0,\n",
       "          0,   0],\n",
       "       [  0,   0,   1, 118, 104, 114, 169, 130,  85,  86,  82,  85,  85,\n",
       "         85,  86,  88,  88,  92,  92,  94,  95, 155, 104, 104, 123,   5,\n",
       "          0,   0],\n",
       "       [  0,   0,   4, 126,  97, 120,  92,  63, 104,  82,  86,  86,  84,\n",
       "         81,  82,  82,  82,  89,  84,  99,  65,  89, 130,  92, 120,  27,\n",
       "          0,   0],\n",
       "       [  0,   0,  10, 123,  95, 121,  66,  52, 117,  78,  86,  84,  76,\n",
       "         86,  88,  84,  84,  85,  81, 113,  55,  47, 149,  94, 124,  37,\n",
       "          0,   0],\n",
       "       [  0,   0,  14, 121,  98, 136,  70,   7, 140,  79,  88,  92,  81,\n",
       "         97,  85,  85,  91,  85,  79, 130,  27,  24, 160,  98, 127,  43,\n",
       "          0,   0],\n",
       "       [  0,   0,  20, 115,  91, 149,  46,   0, 130,  88,  88, 105,  89,\n",
       "         89,  85,  94,  99,  92,  82, 123,   8,  15, 160, 111, 121,  43,\n",
       "          0,   0],\n",
       "       [  0,   0,  31, 118,  89, 140,  13,   0, 113, 105,  97,  91,  94,\n",
       "         88,  94,  92,  97,  95,  89, 128,   4,   0, 159, 118, 121,  39,\n",
       "          0,   0],\n",
       "       [  0,   0,  42, 120,  86, 133,   4,   0, 110, 113, 101,  92,  89,\n",
       "         91,  89,  97,  94,  97,  89, 131,   0,   0, 155, 117, 126,  55,\n",
       "          0,   0],\n",
       "       [  0,   0,  55, 104,  86, 117,   1,   0, 127, 111,  92,  97,  94,\n",
       "         84,  98,  92,  95, 101,  92, 130,   2,   0, 134, 104, 114,  68,\n",
       "          0,   0],\n",
       "       [  0,   0,  70, 104,  97, 105,   0,   0, 130, 105,  95,  97,  95,\n",
       "         89,  97,  95,  92,  99,  98, 124,  11,   0, 113, 101, 108,  66,\n",
       "          0,   0],\n",
       "       [  0,   0,  76, 110,  99, 115,   0,   1, 131, 104,  98,  95,  98,\n",
       "         94,  95,  98,  91,  97, 102, 120,  11,   0,  91, 118, 114,  68,\n",
       "          0,   0],\n",
       "       [  0,   0,  65, 115,  99, 114,   0,  15, 139, 102,  97,  92,  95,\n",
       "         95,  94,  98,  94,  97, 102, 124,  14,   0,  79, 126, 118,  63,\n",
       "          0,   0],\n",
       "       [  0,   0,  49, 118, 105,  97,   0,  31, 139,  98, 102, 102, 101,\n",
       "         98, 101, 101, 101,  95,  94, 131,  39,   0,  82, 118, 118,  52,\n",
       "          0,   0],\n",
       "       [  0,   0,  43, 113, 108,  91,   0,  63, 137,  89, 101, 102, 107,\n",
       "        105, 107, 107, 104, 102,  91, 120,  55,   0,  82, 124, 118,  47,\n",
       "          0,   0],\n",
       "       [  0,   0,  43, 118, 114,  89,   0,  97, 121,  95, 102, 104, 107,\n",
       "        104, 104, 104,  97, 104,  95, 111,  68,   0,  79, 123, 115,  44,\n",
       "          0,   0],\n",
       "       [  0,   0,  42, 120, 118,  69,   0, 114, 111, 104, 104, 105, 108,\n",
       "        108, 108, 108, 102, 105, 104, 123,  92,   0,  75, 130, 124,  46,\n",
       "          0,   0],\n",
       "       [  0,   0,  44, 120, 117,  63,   0, 149, 124, 120, 120, 121, 124,\n",
       "        121, 118, 118, 117, 120, 115, 123, 117,   0,  69, 117, 123,  49,\n",
       "          0,   0],\n",
       "       [  0,   0,  50, 117, 117,  69,   1, 149, 136, 131, 134, 134, 136,\n",
       "        131, 130, 131, 131, 137, 133, 143, 147,   0,  75, 124, 117,  50,\n",
       "          0,   0],\n",
       "       [  0,   0,  65, 156, 150,  73,   0,   1,   0,   1,   2,   2,   2,\n",
       "          2,   2,   2,   2,   1,   2,   4,   8,   0,  81, 134, 131,  63,\n",
       "          0,   0],\n",
       "       [  0,   0,  14,  50,  33,  10,   0,   0,   0,   0,   0,   0,   0,\n",
       "          0,   0,   0,   0,   0,   0,   0,   0,   0,  20,  55,  59,  17,\n",
       "          0,   0]], dtype=uint8)"
      ]
     },
     "execution_count": 6,
     "metadata": {},
     "output_type": "execute_result"
    }
   ],
   "source": [
    "X_train[37]"
   ]
  },
  {
   "cell_type": "code",
   "execution_count": 7,
   "id": "9S5Zm-Mbj8Yt",
   "metadata": {
    "colab": {
     "base_uri": "https://localhost:8080/"
    },
    "id": "9S5Zm-Mbj8Yt",
    "outputId": "22ffb93b-5fd2-4a2b-805f-3d992f8a1681"
   },
   "outputs": [
    {
     "data": {
      "text/plain": [
       "2"
      ]
     },
     "execution_count": 7,
     "metadata": {},
     "output_type": "execute_result"
    }
   ],
   "source": [
    "y_train[37]"
   ]
  },
  {
   "cell_type": "code",
   "execution_count": 8,
   "id": "39eba96f",
   "metadata": {
    "colab": {
     "base_uri": "https://localhost:8080/",
     "height": 275
    },
    "id": "39eba96f",
    "outputId": "d4bfb40e-17e3-4a7b-e5a5-28d6915bff79"
   },
   "outputs": [
    {
     "data": {
      "image/png": "[encoded data removed]",
      "text/plain": [
       "<Figure size 288x288 with 1 Axes>"
      ]
     },
     "metadata": {
      "needs_background": "light"
     },
     "output_type": "display_data"
    }
   ],
   "source": [
    "plt.matshow(X_train[37])\n",
    "plt.show()"
   ]
  },
  {
   "cell_type": "markdown",
   "id": "b2aaa9e9",
   "metadata": {
    "id": "b2aaa9e9"
   },
   "source": [
    "### 3. Normalize:"
   ]
  },
  {
   "cell_type": "code",
   "execution_count": 9,
   "id": "ZolSeTMvlzx4",
   "metadata": {
    "id": "ZolSeTMvlzx4"
   },
   "outputs": [],
   "source": [
    "X_train = X_train.reshape((X_train.shape[0], 28*28)).astype('float32')\n",
    "X_test = X_test.reshape((X_test.shape[0], 28*28)).astype('float32')"
   ]
  },
  {
   "cell_type": "code",
   "execution_count": 10,
   "id": "mzNWqS2-lz2E",
   "metadata": {
    "id": "mzNWqS2-lz2E"
   },
   "outputs": [],
   "source": [
    "X_train = X_train / 255\n",
    "X_test = X_test / 255"
   ]
  },
  {
   "cell_type": "code",
   "execution_count": 11,
   "id": "dc4813fb",
   "metadata": {
    "colab": {
     "base_uri": "https://localhost:8080/"
    },
    "id": "dc4813fb",
    "outputId": "42fbd597-1360-4ae4-a617-31a74bfe6130"
   },
   "outputs": [
    {
     "data": {
      "text/plain": [
       "array([0.        , 0.        , 0.00392157, 0.00392157, 0.        ,\n",
       "       0.00392157, 0.        , 0.        , 0.        , 0.        ,\n",
       "       0.13333334, 0.37254903, 0.        , 0.        , 0.        ,\n",
       "       0.        , 0.20392157, 0.27450982, 0.        , 0.        ,\n",
       "       0.        , 0.00784314, 0.00392157, 0.        , 0.00392157,\n",
       "       0.        , 0.        , 0.        , 0.        , 0.        ,\n",
       "       0.        , 0.00392157, 0.00392157, 0.        , 0.        ,\n",
       "       0.04313726, 0.23137255, 0.43529412, 0.44313726, 0.7137255 ,\n",
       "       0.6627451 , 0.8862745 , 1.        , 0.7372549 , 0.6862745 ,\n",
       "       0.63529414, 0.4117647 , 0.33333334, 0.12156863, 0.        ,\n",
       "       0.        , 0.        , 0.00392157, 0.        , 0.        ,\n",
       "       0.        , 0.        , 0.        , 0.00392157, 0.        ,\n",
       "       0.        , 0.10588235, 0.34901962, 0.49803922, 0.49803922,\n",
       "       0.4509804 , 0.39607844, 0.3372549 , 0.31764707, 0.37254903,\n",
       "       0.35686275, 0.34509805, 0.30588236, 0.36078432, 0.4509804 ,\n",
       "       0.53333336, 0.54509807, 0.49411765, 0.28627452, 0.00392157,\n",
       "       0.        , 0.        , 0.        , 0.        , 0.        ,\n",
       "       0.        , 0.        , 0.        , 0.19215687, 0.45882353,\n",
       "       0.44313726, 0.37254903, 0.36862746, 0.38039216, 0.38431373,\n",
       "       0.4       , 0.39607844, 0.38431373, 0.35686275, 0.38039216,\n",
       "       0.40784314, 0.38039216, 0.39607844, 0.36078432, 0.37254903,\n",
       "       0.43529412, 0.5019608 , 0.32156864, 0.00392157, 0.        ,\n",
       "       0.        , 0.        , 0.        , 0.        , 0.        ,\n",
       "       0.07058824, 0.4627451 , 0.4       , 0.36078432, 0.36078432,\n",
       "       0.36078432, 0.34901962, 0.36862746, 0.36078432, 0.3372549 ,\n",
       "       0.33333334, 0.34509805, 0.36862746, 0.36078432, 0.36078432,\n",
       "       0.37254903, 0.3882353 , 0.37254903, 0.38431373, 0.34901962,\n",
       "       0.49411765, 0.09411765, 0.        , 0.        , 0.        ,\n",
       "       0.        , 0.        , 0.        , 0.23137255, 0.49803922,\n",
       "       0.4       , 0.37254903, 0.36862746, 0.38039216, 0.35686275,\n",
       "       0.3372549 , 0.35686275, 0.36078432, 0.34509805, 0.3372549 ,\n",
       "       0.34901962, 0.35686275, 0.3882353 , 0.4       , 0.39607844,\n",
       "       0.38431373, 0.36862746, 0.3882353 , 0.4745098 , 0.22352941,\n",
       "       0.        , 0.        , 0.        , 0.        , 0.        ,\n",
       "       0.        , 0.37254903, 0.4627451 , 0.41960785, 0.38431373,\n",
       "       0.34901962, 0.32941177, 0.3372549 , 0.3372549 , 0.3372549 ,\n",
       "       0.34901962, 0.34901962, 0.33333334, 0.33333334, 0.36078432,\n",
       "       0.36078432, 0.34901962, 0.34901962, 0.34509805, 0.38039216,\n",
       "       0.41960785, 0.43529412, 0.38039216, 0.        , 0.        ,\n",
       "       0.        , 0.        , 0.        , 0.        , 0.43529412,\n",
       "       0.49411765, 0.48235294, 0.43529412, 0.4       , 0.4       ,\n",
       "       0.36862746, 0.35686275, 0.34509805, 0.34901962, 0.35686275,\n",
       "       0.3372549 , 0.3372549 , 0.37254903, 0.38039216, 0.35686275,\n",
       "       0.38431373, 0.40784314, 0.4       , 0.43529412, 0.4       ,\n",
       "       0.43529412, 0.        , 0.        , 0.        , 0.        ,\n",
       "       0.        , 0.        , 0.42352942, 0.41960785, 0.45882353,\n",
       "       0.57254905, 0.6627451 , 0.43529412, 0.4117647 , 0.35686275,\n",
       "       0.35686275, 0.34509805, 0.32941177, 0.34509805, 0.35686275,\n",
       "       0.36078432, 0.36862746, 0.4117647 , 0.38039216, 0.53333336,\n",
       "       0.63529414, 0.40784314, 0.38039216, 0.44705883, 0.        ,\n",
       "       0.        , 0.        , 0.        , 0.        , 0.00392157,\n",
       "       0.4627451 , 0.40784314, 0.44705883, 0.6627451 , 0.50980395,\n",
       "       0.33333334, 0.3372549 , 0.32156864, 0.33333334, 0.33333334,\n",
       "       0.33333334, 0.3372549 , 0.34509805, 0.34509805, 0.36078432,\n",
       "       0.36078432, 0.36862746, 0.37254903, 0.60784316, 0.40784314,\n",
       "       0.40784314, 0.48235294, 0.01960784, 0.        , 0.        ,\n",
       "       0.        , 0.        , 0.01568628, 0.49411765, 0.38039216,\n",
       "       0.47058824, 0.36078432, 0.24705882, 0.40784314, 0.32156864,\n",
       "       0.3372549 , 0.3372549 , 0.32941177, 0.31764707, 0.32156864,\n",
       "       0.32156864, 0.32156864, 0.34901962, 0.32941177, 0.3882353 ,\n",
       "       0.25490198, 0.34901962, 0.50980395, 0.36078432, 0.47058824,\n",
       "       0.10588235, 0.        , 0.        , 0.        , 0.        ,\n",
       "       0.03921569, 0.48235294, 0.37254903, 0.4745098 , 0.25882354,\n",
       "       0.20392157, 0.45882353, 0.30588236, 0.3372549 , 0.32941177,\n",
       "       0.29803923, 0.3372549 , 0.34509805, 0.32941177, 0.32941177,\n",
       "       0.33333334, 0.31764707, 0.44313726, 0.21568628, 0.18431373,\n",
       "       0.58431375, 0.36862746, 0.4862745 , 0.14509805, 0.        ,\n",
       "       0.        , 0.        , 0.        , 0.05490196, 0.4745098 ,\n",
       "       0.38431373, 0.53333336, 0.27450982, 0.02745098, 0.54901963,\n",
       "       0.30980393, 0.34509805, 0.36078432, 0.31764707, 0.38039216,\n",
       "       0.33333334, 0.33333334, 0.35686275, 0.33333334, 0.30980393,\n",
       "       0.50980395, 0.10588235, 0.09411765, 0.627451  , 0.38431373,\n",
       "       0.49803922, 0.16862746, 0.        , 0.        , 0.        ,\n",
       "       0.        , 0.07843138, 0.4509804 , 0.35686275, 0.58431375,\n",
       "       0.18039216, 0.        , 0.50980395, 0.34509805, 0.34509805,\n",
       "       0.4117647 , 0.34901962, 0.34901962, 0.33333334, 0.36862746,\n",
       "       0.3882353 , 0.36078432, 0.32156864, 0.48235294, 0.03137255,\n",
       "       0.05882353, 0.627451  , 0.43529412, 0.4745098 , 0.16862746,\n",
       "       0.        , 0.        , 0.        , 0.        , 0.12156863,\n",
       "       0.4627451 , 0.34901962, 0.54901963, 0.05098039, 0.        ,\n",
       "       0.44313726, 0.4117647 , 0.38039216, 0.35686275, 0.36862746,\n",
       "       0.34509805, 0.36862746, 0.36078432, 0.38039216, 0.37254903,\n",
       "       0.34901962, 0.5019608 , 0.01568628, 0.        , 0.62352943,\n",
       "       0.4627451 , 0.4745098 , 0.15294118, 0.        , 0.        ,\n",
       "       0.        , 0.        , 0.16470589, 0.47058824, 0.3372549 ,\n",
       "       0.52156866, 0.01568628, 0.        , 0.43137255, 0.44313726,\n",
       "       0.39607844, 0.36078432, 0.34901962, 0.35686275, 0.34901962,\n",
       "       0.38039216, 0.36862746, 0.38039216, 0.34901962, 0.5137255 ,\n",
       "       0.        , 0.        , 0.60784316, 0.45882353, 0.49411765,\n",
       "       0.21568628, 0.        , 0.        , 0.        , 0.        ,\n",
       "       0.21568628, 0.40784314, 0.3372549 , 0.45882353, 0.00392157,\n",
       "       0.        , 0.49803922, 0.43529412, 0.36078432, 0.38039216,\n",
       "       0.36862746, 0.32941177, 0.38431373, 0.36078432, 0.37254903,\n",
       "       0.39607844, 0.36078432, 0.50980395, 0.00784314, 0.        ,\n",
       "       0.5254902 , 0.40784314, 0.44705883, 0.26666668, 0.        ,\n",
       "       0.        , 0.        , 0.        , 0.27450982, 0.40784314,\n",
       "       0.38039216, 0.4117647 , 0.        , 0.        , 0.50980395,\n",
       "       0.4117647 , 0.37254903, 0.38039216, 0.37254903, 0.34901962,\n",
       "       0.38039216, 0.37254903, 0.36078432, 0.3882353 , 0.38431373,\n",
       "       0.4862745 , 0.04313726, 0.        , 0.44313726, 0.39607844,\n",
       "       0.42352942, 0.25882354, 0.        , 0.        , 0.        ,\n",
       "       0.        , 0.29803923, 0.43137255, 0.3882353 , 0.4509804 ,\n",
       "       0.        , 0.00392157, 0.5137255 , 0.40784314, 0.38431373,\n",
       "       0.37254903, 0.38431373, 0.36862746, 0.37254903, 0.38431373,\n",
       "       0.35686275, 0.38039216, 0.4       , 0.47058824, 0.04313726,\n",
       "       0.        , 0.35686275, 0.4627451 , 0.44705883, 0.26666668,\n",
       "       0.        , 0.        , 0.        , 0.        , 0.25490198,\n",
       "       0.4509804 , 0.3882353 , 0.44705883, 0.        , 0.05882353,\n",
       "       0.54509807, 0.4       , 0.38039216, 0.36078432, 0.37254903,\n",
       "       0.37254903, 0.36862746, 0.38431373, 0.36862746, 0.38039216,\n",
       "       0.4       , 0.4862745 , 0.05490196, 0.        , 0.30980393,\n",
       "       0.49411765, 0.4627451 , 0.24705882, 0.        , 0.        ,\n",
       "       0.        , 0.        , 0.19215687, 0.4627451 , 0.4117647 ,\n",
       "       0.38039216, 0.        , 0.12156863, 0.54509807, 0.38431373,\n",
       "       0.4       , 0.4       , 0.39607844, 0.38431373, 0.39607844,\n",
       "       0.39607844, 0.39607844, 0.37254903, 0.36862746, 0.5137255 ,\n",
       "       0.15294118, 0.        , 0.32156864, 0.4627451 , 0.4627451 ,\n",
       "       0.20392157, 0.        , 0.        , 0.        , 0.        ,\n",
       "       0.16862746, 0.44313726, 0.42352942, 0.35686275, 0.        ,\n",
       "       0.24705882, 0.5372549 , 0.34901962, 0.39607844, 0.4       ,\n",
       "       0.41960785, 0.4117647 , 0.41960785, 0.41960785, 0.40784314,\n",
       "       0.4       , 0.35686275, 0.47058824, 0.21568628, 0.        ,\n",
       "       0.32156864, 0.4862745 , 0.4627451 , 0.18431373, 0.        ,\n",
       "       0.        , 0.        , 0.        , 0.16862746, 0.4627451 ,\n",
       "       0.44705883, 0.34901962, 0.        , 0.38039216, 0.4745098 ,\n",
       "       0.37254903, 0.4       , 0.40784314, 0.41960785, 0.40784314,\n",
       "       0.40784314, 0.40784314, 0.38039216, 0.40784314, 0.37254903,\n",
       "       0.43529412, 0.26666668, 0.        , 0.30980393, 0.48235294,\n",
       "       0.4509804 , 0.17254902, 0.        , 0.        , 0.        ,\n",
       "       0.        , 0.16470589, 0.47058824, 0.4627451 , 0.27058825,\n",
       "       0.        , 0.44705883, 0.43529412, 0.40784314, 0.40784314,\n",
       "       0.4117647 , 0.42352942, 0.42352942, 0.42352942, 0.42352942,\n",
       "       0.4       , 0.4117647 , 0.40784314, 0.48235294, 0.36078432,\n",
       "       0.        , 0.29411766, 0.50980395, 0.4862745 , 0.18039216,\n",
       "       0.        , 0.        , 0.        , 0.        , 0.17254902,\n",
       "       0.47058824, 0.45882353, 0.24705882, 0.        , 0.58431375,\n",
       "       0.4862745 , 0.47058824, 0.47058824, 0.4745098 , 0.4862745 ,\n",
       "       0.4745098 , 0.4627451 , 0.4627451 , 0.45882353, 0.47058824,\n",
       "       0.4509804 , 0.48235294, 0.45882353, 0.        , 0.27058825,\n",
       "       0.45882353, 0.48235294, 0.19215687, 0.        , 0.        ,\n",
       "       0.        , 0.        , 0.19607843, 0.45882353, 0.45882353,\n",
       "       0.27058825, 0.00392157, 0.58431375, 0.53333336, 0.5137255 ,\n",
       "       0.5254902 , 0.5254902 , 0.53333336, 0.5137255 , 0.50980395,\n",
       "       0.5137255 , 0.5137255 , 0.5372549 , 0.52156866, 0.56078434,\n",
       "       0.5764706 , 0.        , 0.29411766, 0.4862745 , 0.45882353,\n",
       "       0.19607843, 0.        , 0.        , 0.        , 0.        ,\n",
       "       0.25490198, 0.6117647 , 0.5882353 , 0.28627452, 0.        ,\n",
       "       0.00392157, 0.        , 0.00392157, 0.00784314, 0.00784314,\n",
       "       0.00784314, 0.00784314, 0.00784314, 0.00784314, 0.00784314,\n",
       "       0.00392157, 0.00784314, 0.01568628, 0.03137255, 0.        ,\n",
       "       0.31764707, 0.5254902 , 0.5137255 , 0.24705882, 0.        ,\n",
       "       0.        , 0.        , 0.        , 0.05490196, 0.19607843,\n",
       "       0.12941177, 0.03921569, 0.        , 0.        , 0.        ,\n",
       "       0.        , 0.        , 0.        , 0.        , 0.        ,\n",
       "       0.        , 0.        , 0.        , 0.        , 0.        ,\n",
       "       0.        , 0.        , 0.        , 0.07843138, 0.21568628,\n",
       "       0.23137255, 0.06666667, 0.        , 0.        ], dtype=float32)"
      ]
     },
     "execution_count": 11,
     "metadata": {},
     "output_type": "execute_result"
    }
   ],
   "source": [
    "X_train[37]"
   ]
  },
  {
   "cell_type": "markdown",
   "id": "c53d2ea9",
   "metadata": {
    "id": "c53d2ea9"
   },
   "source": [
    "### 4. Build a simple baseline model:"
   ]
  },
  {
   "cell_type": "code",
   "execution_count": 12,
   "id": "26aaf516",
   "metadata": {
    "id": "26aaf516"
   },
   "outputs": [],
   "source": [
    "model = Sequential()\n",
    "model.add(Dense(512, input_dim=28*28, activation='relu'))\n",
    "model.add(Dense(10, activation='softmax'))"
   ]
  },
  {
   "cell_type": "code",
   "execution_count": 13,
   "id": "yKAjAavjmWoc",
   "metadata": {
    "id": "yKAjAavjmWoc"
   },
   "outputs": [],
   "source": [
    "model.compile(loss='mean_squared_error', metrics=['accuracy'])"
   ]
  },
  {
   "cell_type": "code",
   "execution_count": 14,
   "id": "ZGK68covmWqc",
   "metadata": {
    "colab": {
     "base_uri": "https://localhost:8080/"
    },
    "id": "ZGK68covmWqc",
    "outputId": "b98a5dfc-b76c-4c6b-d802-e6b353afb07f"
   },
   "outputs": [
    {
     "name": "stdout",
     "output_type": "stream",
     "text": [
      "Epoch 1/10\n",
      "1875/1875 [==============================] - 27s 13ms/step - loss: 27.6104 - accuracy: 0.0993\n",
      "Epoch 2/10\n",
      "1875/1875 [==============================] - 25s 13ms/step - loss: 27.6101 - accuracy: 0.0994\n",
      "Epoch 3/10\n",
      "1875/1875 [==============================] - 25s 13ms/step - loss: 27.6101 - accuracy: 0.0993\n",
      "Epoch 4/10\n",
      "1875/1875 [==============================] - 27s 14ms/step - loss: 27.6101 - accuracy: 0.1002\n",
      "Epoch 5/10\n",
      "1875/1875 [==============================] - 26s 14ms/step - loss: 27.6101 - accuracy: 0.0985\n",
      "Epoch 6/10\n",
      "1875/1875 [==============================] - 28s 15ms/step - loss: 27.6101 - accuracy: 0.0975\n",
      "Epoch 7/10\n",
      "1875/1875 [==============================] - 26s 14ms/step - loss: 27.6101 - accuracy: 0.1011\n",
      "Epoch 8/10\n",
      "1875/1875 [==============================] - 26s 14ms/step - loss: 27.6101 - accuracy: 0.0993\n",
      "Epoch 9/10\n",
      "1875/1875 [==============================] - 25s 14ms/step - loss: 27.6101 - accuracy: 0.1033\n",
      "Epoch 10/10\n",
      "1875/1875 [==============================] - 23s 12ms/step - loss: 27.6101 - accuracy: 0.1012\n"
     ]
    },
    {
     "data": {
      "text/plain": [
       "<keras.callbacks.History at 0x1b9cfdb22e0>"
      ]
     },
     "execution_count": 14,
     "metadata": {},
     "output_type": "execute_result"
    }
   ],
   "source": [
    "model.fit(X_train, y_train, epochs=10)"
   ]
  },
  {
   "cell_type": "code",
   "execution_count": 15,
   "id": "oMWTr11BmWuM",
   "metadata": {
    "colab": {
     "base_uri": "https://localhost:8080/"
    },
    "id": "oMWTr11BmWuM",
    "outputId": "bd2adc43-0f90-4b4a-e7d2-0a480b125e4a"
   },
   "outputs": [
    {
     "name": "stdout",
     "output_type": "stream",
     "text": [
      "313/313 [==============================] - 2s 4ms/step - loss: 27.6100 - accuracy: 0.0998\n"
     ]
    },
    {
     "data": {
      "text/plain": [
       "[27.609987258911133, 0.0997999981045723]"
      ]
     },
     "execution_count": 15,
     "metadata": {},
     "output_type": "execute_result"
    }
   ],
   "source": [
    "model.evaluate(X_test, y_test)"
   ]
  },
  {
   "cell_type": "code",
   "execution_count": 16,
   "id": "8b65288f",
   "metadata": {
    "colab": {
     "base_uri": "https://localhost:8080/"
    },
    "id": "8b65288f",
    "outputId": "b55f8d65-f8ba-41b4-f780-9d34300d06bf"
   },
   "outputs": [
    {
     "name": "stdout",
     "output_type": "stream",
     "text": [
      "Model: \"sequential\"\n",
      "_________________________________________________________________\n",
      " Layer (type)                Output Shape              Param #   \n",
      "=================================================================\n",
      " dense (Dense)               (None, 512)               401920    \n",
      "                                                                 \n",
      " dense_1 (Dense)             (None, 10)                5130      \n",
      "                                                                 \n",
      "=================================================================\n",
      "Total params: 407,050\n",
      "Trainable params: 407,050\n",
      "Non-trainable params: 0\n",
      "_________________________________________________________________\n"
     ]
    }
   ],
   "source": [
    "model.summary()"
   ]
  },
  {
   "cell_type": "markdown",
   "id": "FlhkFxqYp0V3",
   "metadata": {
    "id": "FlhkFxqYp0V3"
   },
   "source": [
    "### 5. Performance Analysis:"
   ]
  },
  {
   "cell_type": "markdown",
   "id": "z5NF3RIVu_Wr",
   "metadata": {
    "id": "z5NF3RIVu_Wr"
   },
   "source": [
    "2 layers"
   ]
  },
  {
   "cell_type": "code",
   "execution_count": 17,
   "id": "Mx_Rb333uFJI",
   "metadata": {
    "colab": {
     "base_uri": "https://localhost:8080/"
    },
    "id": "Mx_Rb333uFJI",
    "outputId": "7886b4df-a1fa-40fe-aba9-940f7ca3b65b"
   },
   "outputs": [
    {
     "name": "stdout",
     "output_type": "stream",
     "text": [
      "Epoch 1/10\n",
      "1875/1875 [==============================] - 37s 19ms/step - loss: 27.6102 - accuracy: 0.1020\n",
      "Epoch 2/10\n",
      "1875/1875 [==============================] - 37s 19ms/step - loss: 27.6101 - accuracy: 0.1003\n",
      "Epoch 3/10\n",
      "1875/1875 [==============================] - 37s 20ms/step - loss: 27.6101 - accuracy: 0.1006\n",
      "Epoch 4/10\n",
      "1875/1875 [==============================] - 39s 21ms/step - loss: 27.6101 - accuracy: 0.1002\n",
      "Epoch 5/10\n",
      "1875/1875 [==============================] - 42s 22ms/step - loss: 27.6101 - accuracy: 0.1001\n",
      "Epoch 6/10\n",
      "1875/1875 [==============================] - 43s 23ms/step - loss: 27.6101 - accuracy: 0.0991\n",
      "Epoch 7/10\n",
      "1875/1875 [==============================] - 41s 22ms/step - loss: 27.6101 - accuracy: 0.0984\n",
      "Epoch 8/10\n",
      "1875/1875 [==============================] - 36s 19ms/step - loss: 27.6101 - accuracy: 0.0979\n",
      "Epoch 9/10\n",
      "1875/1875 [==============================] - 36s 19ms/step - loss: 27.6101 - accuracy: 0.0987\n",
      "Epoch 10/10\n",
      "1875/1875 [==============================] - 40s 21ms/step - loss: 27.6101 - accuracy: 0.0998\n",
      "313/313 [==============================] - 3s 6ms/step - loss: 27.6100 - accuracy: 0.1011\n"
     ]
    },
    {
     "data": {
      "text/plain": [
       "[27.609987258911133, 0.10109999775886536]"
      ]
     },
     "execution_count": 17,
     "metadata": {},
     "output_type": "execute_result"
    }
   ],
   "source": [
    "model1 = Sequential()\n",
    "model1.add(Dense(512, input_dim=28*28, activation='relu'))\n",
    "model1.add(Dense(512, input_dim=28*28, activation='relu'))\n",
    "model1.add(Dense(10,activation='softmax'))\n",
    "model1.compile(loss='mean_squared_error', metrics=['accuracy'])\n",
    "model1.fit(X_train,y_train,epochs=10)\n",
    "model1.evaluate(X_test,y_test)"
   ]
  },
  {
   "cell_type": "markdown",
   "id": "W9MesNKpvDkr",
   "metadata": {
    "id": "W9MesNKpvDkr"
   },
   "source": [
    "3 layers"
   ]
  },
  {
   "cell_type": "code",
   "execution_count": 20,
   "id": "wZvPd7y2uFRY",
   "metadata": {
    "id": "wZvPd7y2uFRY"
   },
   "outputs": [
    {
     "name": "stdout",
     "output_type": "stream",
     "text": [
      "Epoch 1/10\n",
      "1875/1875 [==============================] - 55s 28ms/step - loss: 27.6102 - accuracy: 0.0989\n",
      "Epoch 2/10\n",
      "1875/1875 [==============================] - 50s 27ms/step - loss: 27.6101 - accuracy: 0.0983\n",
      "Epoch 3/10\n",
      "1875/1875 [==============================] - 49s 26ms/step - loss: 27.6101 - accuracy: 0.0992\n",
      "Epoch 4/10\n",
      "1875/1875 [==============================] - 50s 27ms/step - loss: 27.6101 - accuracy: 0.0989\n",
      "Epoch 5/10\n",
      "1875/1875 [==============================] - 53s 28ms/step - loss: 27.6101 - accuracy: 0.1008\n",
      "Epoch 6/10\n",
      "1875/1875 [==============================] - 49s 26ms/step - loss: 27.6101 - accuracy: 0.1022\n",
      "Epoch 7/10\n",
      "1875/1875 [==============================] - 60s 32ms/step - loss: 27.6101 - accuracy: 0.1013\n",
      "Epoch 8/10\n",
      "1875/1875 [==============================] - 64s 34ms/step - loss: 27.6101 - accuracy: 0.1001\n",
      "Epoch 9/10\n",
      "1875/1875 [==============================] - 60s 32ms/step - loss: 27.6101 - accuracy: 0.0999\n",
      "Epoch 10/10\n",
      "1875/1875 [==============================] - 64s 34ms/step - loss: 27.6101 - accuracy: 0.0991\n",
      "313/313 [==============================] - 4s 8ms/step - loss: 27.6100 - accuracy: 0.1000\n"
     ]
    },
    {
     "data": {
      "text/plain": [
       "[27.609983444213867, 0.10000000149011612]"
      ]
     },
     "execution_count": 20,
     "metadata": {},
     "output_type": "execute_result"
    }
   ],
   "source": [
    "model4 = Sequential()\n",
    "model4.add(Dense(512, input_dim=28*28, activation='relu'))\n",
    "model4.add(Dense(512, input_dim=28*28, activation='relu'))\n",
    "model4.add(Dense(512, input_dim=28*28, activation='relu'))\n",
    "model4.add(Dense(10,activation='softmax'))\n",
    "model4.compile(loss='mean_squared_error', metrics=['accuracy'])\n",
    "model4.fit(X_train,y_train,epochs=10)\n",
    "model4.evaluate(X_test,y_test)"
   ]
  },
  {
   "cell_type": "markdown",
   "id": "-b-PdtahvbcC",
   "metadata": {
    "id": "-b-PdtahvbcC"
   },
   "source": [
    "4 layers"
   ]
  },
  {
   "cell_type": "code",
   "execution_count": 22,
   "id": "E3Ufy1Vfvh5r",
   "metadata": {
    "id": "E3Ufy1Vfvh5r"
   },
   "outputs": [
    {
     "name": "stdout",
     "output_type": "stream",
     "text": [
      "Epoch 1/10\n",
      "1875/1875 [==============================] - 70s 36ms/step - loss: 27.6101 - accuracy: 0.0988\n",
      "Epoch 2/10\n",
      "1875/1875 [==============================] - 63s 34ms/step - loss: 27.6101 - accuracy: 0.0990\n",
      "Epoch 3/10\n",
      "1875/1875 [==============================] - 66s 35ms/step - loss: 27.6101 - accuracy: 0.1001\n",
      "Epoch 4/10\n",
      "1875/1875 [==============================] - 66s 35ms/step - loss: 27.6101 - accuracy: 0.0994\n",
      "Epoch 5/10\n",
      "1875/1875 [==============================] - 62s 33ms/step - loss: 27.6101 - accuracy: 0.0989\n",
      "Epoch 6/10\n",
      "1875/1875 [==============================] - 62s 33ms/step - loss: 27.6101 - accuracy: 0.1009\n",
      "Epoch 7/10\n",
      "1875/1875 [==============================] - 64s 34ms/step - loss: 27.6101 - accuracy: 0.1007\n",
      "Epoch 8/10\n",
      "1875/1875 [==============================] - 64s 34ms/step - loss: 27.6101 - accuracy: 0.0996\n",
      "Epoch 9/10\n",
      "1875/1875 [==============================] - 63s 33ms/step - loss: 27.6101 - accuracy: 0.0978\n",
      "Epoch 10/10\n",
      "1875/1875 [==============================] - 60s 32ms/step - loss: 27.6101 - accuracy: 0.1017\n",
      "313/313 [==============================] - 3s 10ms/step - loss: 27.6100 - accuracy: 0.1010\n"
     ]
    },
    {
     "data": {
      "text/plain": [
       "[27.609987258911133, 0.10100000351667404]"
      ]
     },
     "execution_count": 22,
     "metadata": {},
     "output_type": "execute_result"
    }
   ],
   "source": [
    "model8 = Sequential()\n",
    "model8.add(Dense(512, input_dim=28*28, activation='relu'))\n",
    "model8.add(Dense(512, input_dim=28*28, activation='relu'))\n",
    "model8.add(Dense(512, input_dim=28*28, activation='relu'))\n",
    "model8.add(Dense(512, input_dim=28*28, activation='relu'))\n",
    "model8.add(Dense(10,activation='softmax'))\n",
    "model8.compile(loss='mean_squared_error', metrics=['accuracy'])\n",
    "model8.fit(X_train,y_train,epochs=10)\n",
    "model8.evaluate(X_test,y_test)"
   ]
  },
  {
   "cell_type": "markdown",
   "id": "1JW1CNX7vyrN",
   "metadata": {
    "id": "1JW1CNX7vyrN"
   },
   "source": [
    "5 layers"
   ]
  },
  {
   "cell_type": "code",
   "execution_count": 23,
   "id": "XG7-74vzvzwt",
   "metadata": {
    "id": "XG7-74vzvzwt"
   },
   "outputs": [
    {
     "name": "stdout",
     "output_type": "stream",
     "text": [
      "Epoch 1/10\n",
      "1875/1875 [==============================] - 81s 42ms/step - loss: 27.6101 - accuracy: 0.0978\n",
      "Epoch 2/10\n",
      "1875/1875 [==============================] - 73s 39ms/step - loss: 27.6101 - accuracy: 0.0990\n",
      "Epoch 3/10\n",
      "1875/1875 [==============================] - 91s 49ms/step - loss: 27.6101 - accuracy: 0.0971\n",
      "Epoch 4/10\n",
      "1875/1875 [==============================] - 79s 42ms/step - loss: 27.6101 - accuracy: 0.0998\n",
      "Epoch 5/10\n",
      "1875/1875 [==============================] - 80s 43ms/step - loss: 27.6101 - accuracy: 0.0988\n",
      "Epoch 6/10\n",
      "1875/1875 [==============================] - 87s 46ms/step - loss: 27.6101 - accuracy: 0.1000\n",
      "Epoch 7/10\n",
      "1875/1875 [==============================] - 93s 49ms/step - loss: 27.6102 - accuracy: 0.1007\n",
      "Epoch 8/10\n",
      "1875/1875 [==============================] - 92s 49ms/step - loss: 27.6101 - accuracy: 0.0991\n",
      "Epoch 9/10\n",
      "1875/1875 [==============================] - 80s 43ms/step - loss: 27.6101 - accuracy: 0.0988\n",
      "Epoch 10/10\n",
      "1875/1875 [==============================] - 91s 49ms/step - loss: 27.6101 - accuracy: 0.1005\n",
      "313/313 [==============================] - 4s 12ms/step - loss: 27.6100 - accuracy: 0.1000\n"
     ]
    },
    {
     "data": {
      "text/plain": [
       "[27.609987258911133, 0.10000000149011612]"
      ]
     },
     "execution_count": 23,
     "metadata": {},
     "output_type": "execute_result"
    }
   ],
   "source": [
    "model10 = Sequential()\n",
    "model10.add(Dense(512, input_dim=28*28, activation='relu'))\n",
    "model10.add(Dense(512, input_dim=28*28, activation='relu'))\n",
    "model10.add(Dense(512, input_dim=28*28, activation='relu'))\n",
    "model10.add(Dense(512, input_dim=28*28, activation='relu'))\n",
    "model10.add(Dense(512, input_dim=28*28, activation='relu'))\n",
    "model10.add(Dense(10,activation='softmax'))\n",
    "model10.compile(loss='mean_squared_error', metrics=['accuracy'])\n",
    "model10.fit(X_train,y_train,epochs=10)\n",
    "model10.evaluate(X_test,y_test)"
   ]
  },
  {
   "cell_type": "code",
   "execution_count": null,
   "id": "vCYa8Cu-xsAE",
   "metadata": {
    "id": "vCYa8Cu-xsAE"
   },
   "outputs": [],
   "source": []
  }
 ],
 "metadata": {
  "colab": {
   "collapsed_sections": [],
   "name": "PDL_Lab_5_215229137.ipynb",
   "provenance": []
  },
  "kernelspec": {
   "display_name": "Python 3 (ipykernel)",
   "language": "python",
   "name": "python3"
  },
  "language_info": {
   "codemirror_mode": {
    "name": "ipython",
    "version": 3
   },
   "file_extension": ".py",
   "mimetype": "text/x-python",
   "name": "python",
   "nbconvert_exporter": "python",
   "pygments_lexer": "ipython3",
   "version": "3.9.12"
  }
 },
 "nbformat": 4,
 "nbformat_minor": 5
}
