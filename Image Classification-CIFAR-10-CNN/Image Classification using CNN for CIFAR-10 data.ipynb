{
 "cells": [
  {
   "cell_type": "markdown",
   "metadata": {
    "id": "BLy9N11eF3ij"
   },
   "source": [
    "# Image Classification using CNN for CIFAR-10 data"
   ]
  },
  {
   "cell_type": "markdown",
   "metadata": {
    "id": "_efjzZfyF7wj"
   },
   "source": [
    "## Part-I: Baseline Model"
   ]
  },
  {
   "cell_type": "markdown",
   "metadata": {
    "id": "ZBfx92p4F_2R"
   },
   "source": [
    "### 1. Import Libraries"
   ]
  },
  {
   "cell_type": "code",
   "execution_count": 1,
   "metadata": {
    "id": "iDU-Q8H9-9dO"
   },
   "outputs": [],
   "source": [
    "from __future__ import print_function\n",
    "import keras\n",
    "from keras.datasets import cifar10\n",
    "from keras.preprocessing.image import ImageDataGenerator\n",
    "from keras.models import Sequential\n",
    "from keras.layers import Dense, Dropout, Activation, Flatten\n",
    "from keras.layers import Conv2D, MaxPooling2D\n",
    "from keras.utils.np_utils import to_categorical\n",
    "from tensorflow.keras.optimizers import RMSprop\n",
    "from tensorflow.keras.optimizers import Adam\n",
    "from keras.backend import categorical_crossentropy\n",
    "import matplotlib.pyplot as plt\n",
    "%matplotlib inline"
   ]
  },
  {
   "cell_type": "markdown",
   "metadata": {
    "id": "VCjM4KMfGEMR"
   },
   "source": [
    "### 2. Load the data"
   ]
  },
  {
   "cell_type": "code",
   "execution_count": 2,
   "metadata": {
    "id": "-2s1vbpwA8mG"
   },
   "outputs": [
    {
     "name": "stdout",
     "output_type": "stream",
     "text": [
      "Downloading data from https://www.cs.toronto.edu/~kriz/cifar-10-python.tar.gz\n",
      "170498071/170498071 [==============================] - 151s 1us/step\n"
     ]
    }
   ],
   "source": [
    "(X_train, y_train), (X_test, y_test) = cifar10.load_data()"
   ]
  },
  {
   "cell_type": "code",
   "execution_count": 3,
   "metadata": {
    "colab": {
     "base_uri": "https://localhost:8080/"
    },
    "id": "_qmWQDPSBMQk",
    "outputId": "7a674de9-dfe2-4482-9138-aadede414b74"
   },
   "outputs": [
    {
     "name": "stdout",
     "output_type": "stream",
     "text": [
      "X_train shape: (50000, 32, 32, 3)\n",
      "50000 train samples\n",
      "10000 test samples\n"
     ]
    }
   ],
   "source": [
    "print('X_train shape:', X_train.shape)\n",
    "print(X_train.shape[0], 'train samples')\n",
    "print(X_test.shape[0], 'test samples')"
   ]
  },
  {
   "cell_type": "markdown",
   "metadata": {
    "id": "sUoLDgyrGJnC"
   },
   "source": [
    "### 3. Print the shape of one image"
   ]
  },
  {
   "cell_type": "code",
   "execution_count": 4,
   "metadata": {
    "colab": {
     "base_uri": "https://localhost:8080/"
    },
    "id": "1yXuXchuCFSM",
    "outputId": "891862b6-1cd2-432a-e76a-ad4f744051f5"
   },
   "outputs": [
    {
     "data": {
      "text/plain": [
       "(32, 32, 3)"
      ]
     },
     "execution_count": 4,
     "metadata": {},
     "output_type": "execute_result"
    }
   ],
   "source": [
    "X_train[444].shape"
   ]
  },
  {
   "cell_type": "markdown",
   "metadata": {
    "id": "rRM-7eTMGSBy"
   },
   "source": [
    "### 4. Display one image"
   ]
  },
  {
   "cell_type": "code",
   "execution_count": 5,
   "metadata": {
    "colab": {
     "base_uri": "https://localhost:8080/",
     "height": 301
    },
    "id": "K3LTHfP1C_nD",
    "outputId": "283f0487-2418-4ec2-a752-b7ddfa2a28c0"
   },
   "outputs": [
    {
     "name": "stdout",
     "output_type": "stream",
     "text": [
      "[9]\n"
     ]
    },
    {
     "data": {
      "text/plain": [
       "<matplotlib.image.AxesImage at 0x2b139dee430>"
      ]
     },
     "execution_count": 5,
     "metadata": {},
     "output_type": "execute_result"
    },
    {
     "data": {
      "image/png": "[encoded data removed]",
      "text/plain": [
       "<Figure size 432x288 with 1 Axes>"
      ]
     },
     "metadata": {
      "needs_background": "light"
     },
     "output_type": "display_data"
    }
   ],
   "source": [
    "print(y_train[444])\n",
    "plt.imshow(X_train[444])"
   ]
  },
  {
   "cell_type": "markdown",
   "metadata": {
    "id": "KiUzOsSiGYsy"
   },
   "source": [
    "### 5. Convert y_train and y_test into categorical values"
   ]
  },
  {
   "cell_type": "code",
   "execution_count": 6,
   "metadata": {
    "id": "Mg_pqorQDJ1z"
   },
   "outputs": [],
   "source": [
    "num_classes = 10\n",
    "y_train = to_categorical(y_train, num_classes)\n",
    "y_test = to_categorical(y_test, num_classes)"
   ]
  },
  {
   "cell_type": "code",
   "execution_count": 7,
   "metadata": {
    "colab": {
     "base_uri": "https://localhost:8080/"
    },
    "id": "hShT9MJTGgYI",
    "outputId": "a9fe11cd-7066-4237-8307-341d90c7a5fa"
   },
   "outputs": [
    {
     "data": {
      "text/plain": [
       "array([0., 0., 0., 0., 0., 0., 0., 0., 0., 1.], dtype=float32)"
      ]
     },
     "execution_count": 7,
     "metadata": {},
     "output_type": "execute_result"
    }
   ],
   "source": [
    "y_train[444]"
   ]
  },
  {
   "cell_type": "markdown",
   "metadata": {
    "id": "5o8h-32gGcQa"
   },
   "source": [
    "### 6. Convert train data into float and sclae"
   ]
  },
  {
   "cell_type": "code",
   "execution_count": 8,
   "metadata": {
    "id": "S2rTgVSpEUJy"
   },
   "outputs": [],
   "source": [
    "X_train = X_train.astype('float32')\n",
    "X_test = X_test.astype('float32')\n",
    "X_train /= 255\n",
    "X_test /= 255"
   ]
  },
  {
   "cell_type": "markdown",
   "metadata": {
    "id": "5bYCiFy6G_rU"
   },
   "source": [
    "### 7. Build CNN"
   ]
  },
  {
   "cell_type": "code",
   "execution_count": 9,
   "metadata": {
    "id": "4Ksamm2AFfAg"
   },
   "outputs": [],
   "source": [
    "model = Sequential()\n",
    "model.add(Conv2D(filters=32, kernel_size=(5,5), strides=(2,2), padding='same', activation='relu', input_shape=(32,32,3)))\n",
    "model.add(Conv2D(filters=32, kernel_size=(5,5), strides=(2,2), padding='same', activation='relu', input_shape=(32,32,3)))\n",
    "model.add(MaxPooling2D(pool_size=(2,2)))\n",
    "model.add(Dropout(0.25))\n",
    "model.add(Flatten())\n",
    "model.add(Dense(512, activation='relu'))\n",
    "model.add(Dropout(0.5))\n",
    "model.add(Dense(10, activation='softmax'))"
   ]
  },
  {
   "cell_type": "markdown",
   "metadata": {
    "id": "BSmJrU88J7A6"
   },
   "source": [
    "### 8. Print summary and verify configuration"
   ]
  },
  {
   "cell_type": "code",
   "execution_count": 10,
   "metadata": {
    "colab": {
     "base_uri": "https://localhost:8080/"
    },
    "id": "v3biFiV3KCNQ",
    "outputId": "dff3fdab-b7cd-4454-a9fc-ec669d8c0815"
   },
   "outputs": [
    {
     "name": "stdout",
     "output_type": "stream",
     "text": [
      "Model: \"sequential\"\n",
      "_________________________________________________________________\n",
      " Layer (type)                Output Shape              Param #   \n",
      "=================================================================\n",
      " conv2d (Conv2D)             (None, 16, 16, 32)        2432      \n",
      "                                                                 \n",
      " conv2d_1 (Conv2D)           (None, 8, 8, 32)          25632     \n",
      "                                                                 \n",
      " max_pooling2d (MaxPooling2D  (None, 4, 4, 32)         0         \n",
      " )                                                               \n",
      "                                                                 \n",
      " dropout (Dropout)           (None, 4, 4, 32)          0         \n",
      "                                                                 \n",
      " flatten (Flatten)           (None, 512)               0         \n",
      "                                                                 \n",
      " dense (Dense)               (None, 512)               262656    \n",
      "                                                                 \n",
      " dropout_1 (Dropout)         (None, 512)               0         \n",
      "                                                                 \n",
      " dense_1 (Dense)             (None, 10)                5130      \n",
      "                                                                 \n",
      "=================================================================\n",
      "Total params: 295,850\n",
      "Trainable params: 295,850\n",
      "Non-trainable params: 0\n",
      "_________________________________________________________________\n"
     ]
    }
   ],
   "source": [
    "model.summary()"
   ]
  },
  {
   "cell_type": "markdown",
   "metadata": {
    "id": "QSZ4R1cXKaRY"
   },
   "source": [
    "### 9. Compile and fit and validate"
   ]
  },
  {
   "cell_type": "code",
   "execution_count": 11,
   "metadata": {
    "id": "ISQ1Z3L_KjZQ"
   },
   "outputs": [],
   "source": [
    "opt = RMSprop(learning_rate=0.0005, decay=1e-6)\n",
    "loss = 'categorical_crossentropy'\n",
    "met = ['accuracy']"
   ]
  },
  {
   "cell_type": "code",
   "execution_count": 12,
   "metadata": {
    "id": "bziesiO1H-IQ"
   },
   "outputs": [],
   "source": [
    "model.compile(optimizer=opt, loss=loss, metrics=met)"
   ]
  },
  {
   "cell_type": "code",
   "execution_count": 13,
   "metadata": {
    "colab": {
     "base_uri": "https://localhost:8080/"
    },
    "id": "yAsVjwSrMgvt",
    "outputId": "38f40bc2-fb43-401d-996f-c75a83da454f"
   },
   "outputs": [
    {
     "name": "stdout",
     "output_type": "stream",
     "text": [
      "Epoch 1/15\n",
      "1250/1250 [==============================] - 44s 32ms/step - loss: 1.7434 - accuracy: 0.3644 - val_loss: 1.5041 - val_accuracy: 0.4603\n",
      "Epoch 2/15\n",
      "1250/1250 [==============================] - 44s 35ms/step - loss: 1.4551 - accuracy: 0.4721 - val_loss: 1.3503 - val_accuracy: 0.5199\n",
      "Epoch 3/15\n",
      "1250/1250 [==============================] - 41s 33ms/step - loss: 1.3438 - accuracy: 0.5189 - val_loss: 1.2462 - val_accuracy: 0.5635\n",
      "Epoch 4/15\n",
      "1250/1250 [==============================] - 42s 34ms/step - loss: 1.2695 - accuracy: 0.5489 - val_loss: 1.1790 - val_accuracy: 0.5842\n",
      "Epoch 5/15\n",
      "1250/1250 [==============================] - 42s 33ms/step - loss: 1.2236 - accuracy: 0.5672 - val_loss: 1.1702 - val_accuracy: 0.5869\n",
      "Epoch 6/15\n",
      "1250/1250 [==============================] - 40s 32ms/step - loss: 1.1847 - accuracy: 0.5815 - val_loss: 1.1059 - val_accuracy: 0.6117\n",
      "Epoch 7/15\n",
      "1250/1250 [==============================] - 40s 32ms/step - loss: 1.1573 - accuracy: 0.5943 - val_loss: 1.1049 - val_accuracy: 0.6165\n",
      "Epoch 8/15\n",
      "1250/1250 [==============================] - 41s 33ms/step - loss: 1.1286 - accuracy: 0.6070 - val_loss: 1.0644 - val_accuracy: 0.6311\n",
      "Epoch 9/15\n",
      "1250/1250 [==============================] - 41s 33ms/step - loss: 1.1043 - accuracy: 0.6129 - val_loss: 1.1207 - val_accuracy: 0.6125\n",
      "Epoch 10/15\n",
      "1250/1250 [==============================] - 44s 35ms/step - loss: 1.0926 - accuracy: 0.6209 - val_loss: 1.0695 - val_accuracy: 0.6299\n",
      "Epoch 11/15\n",
      "1250/1250 [==============================] - 40s 32ms/step - loss: 1.0810 - accuracy: 0.6266 - val_loss: 1.0541 - val_accuracy: 0.6345\n",
      "Epoch 12/15\n",
      "1250/1250 [==============================] - 41s 32ms/step - loss: 1.0686 - accuracy: 0.6308 - val_loss: 1.0782 - val_accuracy: 0.6330\n",
      "Epoch 13/15\n",
      "1250/1250 [==============================] - 42s 34ms/step - loss: 1.0626 - accuracy: 0.6321 - val_loss: 1.0139 - val_accuracy: 0.6541\n",
      "Epoch 14/15\n",
      "1250/1250 [==============================] - 42s 34ms/step - loss: 1.0482 - accuracy: 0.6398 - val_loss: 1.0092 - val_accuracy: 0.6557\n",
      "Epoch 15/15\n",
      "1250/1250 [==============================] - 42s 33ms/step - loss: 1.0382 - accuracy: 0.6414 - val_loss: 1.0631 - val_accuracy: 0.6461\n"
     ]
    }
   ],
   "source": [
    "history = model.fit(X_train, y_train, shuffle=True, epochs=15, batch_size=32, validation_split=0.2)"
   ]
  },
  {
   "cell_type": "code",
   "execution_count": 14,
   "metadata": {
    "colab": {
     "base_uri": "https://localhost:8080/"
    },
    "id": "RGxVWk4JSEQM",
    "outputId": "f8585a8f-2bc6-441e-d407-0771b4e7575a"
   },
   "outputs": [
    {
     "name": "stdout",
     "output_type": "stream",
     "text": [
      "Test loss: 1.0659663677215576\n",
      "Test accuracy: 64.44000005722046\n"
     ]
    }
   ],
   "source": [
    "score = model.evaluate(X_test, y_test, verbose=0)\n",
    "print('Test loss:', score[0])\n",
    "print('Test accuracy:', score[1]*100)"
   ]
  },
  {
   "cell_type": "markdown",
   "metadata": {
    "id": "BuDO7YC_P8LU"
   },
   "source": [
    "## Part-II: Model Improvements"
   ]
  },
  {
   "cell_type": "code",
   "execution_count": 15,
   "metadata": {
    "id": "yQdTeXGRMwo1"
   },
   "outputs": [
    {
     "name": "stdout",
     "output_type": "stream",
     "text": [
      "Epoch 1/5\n",
      "1250/1250 [==============================] - 485s 387ms/step - loss: 1.6698 - accuracy: 0.3854 - val_loss: 1.3989 - val_accuracy: 0.4890\n",
      "Epoch 2/5\n",
      "1250/1250 [==============================] - 514s 411ms/step - loss: 1.2969 - accuracy: 0.5343 - val_loss: 1.1519 - val_accuracy: 0.5861\n",
      "Epoch 3/5\n",
      "1250/1250 [==============================] - 515s 412ms/step - loss: 1.1241 - accuracy: 0.6004 - val_loss: 1.0598 - val_accuracy: 0.6258\n",
      "Epoch 4/5\n",
      "1250/1250 [==============================] - 497s 398ms/step - loss: 1.0029 - accuracy: 0.6436 - val_loss: 0.9645 - val_accuracy: 0.6582\n",
      "Epoch 5/5\n",
      "1250/1250 [==============================] - 473s 379ms/step - loss: 0.9073 - accuracy: 0.6790 - val_loss: 0.8948 - val_accuracy: 0.6876\n",
      "Test loss: 0.9003661870956421\n",
      "Test accuracy: 68.14000010490417\n"
     ]
    }
   ],
   "source": [
    "model1 = Sequential()\n",
    "model1.add(Conv2D(filters=32, kernel_size=(5,5), strides=1, padding='same', activation='relu', input_shape=(32,32,3)))\n",
    "model1.add(Conv2D(filters=32, kernel_size=(5,5), strides=1, padding='same', activation='relu', input_shape=(32,32,3)))\n",
    "model1.add(MaxPooling2D(pool_size=(2,2)))\n",
    "\n",
    "model1.add(Conv2D(filters=64, kernel_size=(5,5), strides=1, padding='same', activation='relu', input_shape=(32,32,3)))\n",
    "model1.add(Conv2D(filters=64, kernel_size=(5,5), strides=1, padding='same', activation='relu', input_shape=(32,32,3)))\n",
    "model1.add(MaxPooling2D(pool_size=(2,2)))\n",
    "\n",
    "model1.add(Dropout(0.25))\n",
    "model1.add(Flatten())\n",
    "\n",
    "model1.add(Dense(512, activation='relu'))\n",
    "model1.add(Dropout(0.5))\n",
    "\n",
    "model1.add(Dense(10, activation='softmax'))\n",
    "\n",
    "model1.compile(optimizer='adam', loss=loss, metrics=met)\n",
    "\n",
    "history1 = model1.fit(X_train, y_train, shuffle=True, epochs=5, batch_size=32, validation_split=0.2)\n",
    "\n",
    "score1 = model1.evaluate(X_test, y_test, verbose=0)\n",
    "print('Test loss:', score1[0])\n",
    "print('Test accuracy:', score1[1]*100)"
   ]
  },
  {
   "cell_type": "code",
   "execution_count": null,
   "metadata": {},
   "outputs": [],
   "source": []
  }
 ],
 "metadata": {
  "colab": {
   "provenance": []
  },
  "kernelspec": {
   "display_name": "Python 3 (ipykernel)",
   "language": "python",
   "name": "python3"
  },
  "language_info": {
   "codemirror_mode": {
    "name": "ipython",
    "version": 3
   },
   "file_extension": ".py",
   "mimetype": "text/x-python",
   "name": "python",
   "nbconvert_exporter": "python",
   "pygments_lexer": "ipython3",
   "version": "3.9.12"
  }
 },
 "nbformat": 4,
 "nbformat_minor": 1
}
