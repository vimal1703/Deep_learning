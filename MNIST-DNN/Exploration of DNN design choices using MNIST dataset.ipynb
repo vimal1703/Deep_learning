{
 "cells": [
  {
   "cell_type": "markdown",
   "id": "3f1aa7ca",
   "metadata": {
    "id": "3f1aa7ca"
   },
   "source": [
    "# Exploration of DNN design choices using MNIST dataset"
   ]
  },
  {
   "cell_type": "markdown",
   "id": "465cf74f",
   "metadata": {},
   "source": [
    "#### Import libraries"
   ]
  },
  {
   "cell_type": "code",
   "execution_count": 1,
   "id": "LglcvwaKzlow",
   "metadata": {
    "id": "LglcvwaKzlow"
   },
   "outputs": [],
   "source": [
    "import pandas as pd\n",
    "import numpy as np\n",
    "import matplotlib.pyplot as plt\n",
    "\n",
    "import tensorflow as tf\n",
    "import keras\n",
    "\n",
    "from keras.datasets import mnist\n",
    "\n",
    "from keras.utils import to_categorical\n",
    "\n",
    "from tensorflow.keras.models import Sequential\n",
    "from tensorflow.keras.layers import Dense, Flatten, Activation, Dropout\n",
    "\n",
    "from keras import regularizers\n",
    "\n",
    "from sklearn.model_selection import train_test_split"
   ]
  },
  {
   "cell_type": "markdown",
   "id": "41c59ec4",
   "metadata": {},
   "source": [
    "#### Import dataset"
   ]
  },
  {
   "cell_type": "code",
   "execution_count": 2,
   "id": "aXDRL758z67Z",
   "metadata": {
    "id": "aXDRL758z67Z"
   },
   "outputs": [],
   "source": [
    "data = mnist.load_data()"
   ]
  },
  {
   "cell_type": "code",
   "execution_count": 3,
   "id": "-EQsE0-zzEbf",
   "metadata": {
    "id": "-EQsE0-zzEbf"
   },
   "outputs": [],
   "source": [
    "(X_train, y_train), (X_test, y_test) = data"
   ]
  },
  {
   "cell_type": "code",
   "execution_count": 4,
   "id": "02d42bcd",
   "metadata": {},
   "outputs": [
    {
     "name": "stdout",
     "output_type": "stream",
     "text": [
      "Train: X=(60000, 28, 28), y=(60000,)\n",
      "Test: X=(10000, 28, 28), y=(10000,)\n"
     ]
    }
   ],
   "source": [
    "print('Train: X=%s, y=%s' % (X_train.shape, y_train.shape))\n",
    "print('Test: X=%s, y=%s' % (X_test.shape, y_test.shape))"
   ]
  },
  {
   "cell_type": "markdown",
   "id": "4ddb750f",
   "metadata": {},
   "source": [
    "#### Printing some training images"
   ]
  },
  {
   "cell_type": "code",
   "execution_count": 5,
   "id": "23bb47c7",
   "metadata": {},
   "outputs": [
    {
     "data": {
      "image/png": "[encoded data removed]",
      "text/plain": [
       "<Figure size 432x288 with 10 Axes>"
      ]
     },
     "metadata": {
      "needs_background": "light"
     },
     "output_type": "display_data"
    }
   ],
   "source": [
    "for i in range(1, 11):\n",
    "    plt.subplot(2, 5, i)\n",
    "    plt.imshow(X_train[i], cmap=plt.get_cmap('gray'))\n",
    "\n",
    "plt.show()"
   ]
  },
  {
   "cell_type": "markdown",
   "id": "723647d0",
   "metadata": {},
   "source": [
    "#### Flatten the data"
   ]
  },
  {
   "cell_type": "code",
   "execution_count": 6,
   "id": "yUAnXwJE0JHC",
   "metadata": {
    "id": "yUAnXwJE0JHC"
   },
   "outputs": [],
   "source": [
    "X_train = X_train.reshape((X_train.shape[0], 28*28)).astype('float32')\n",
    "X_test = X_test.reshape((X_test.shape[0], 28*28)).astype('float32')"
   ]
  },
  {
   "cell_type": "markdown",
   "id": "3d9436fe",
   "metadata": {},
   "source": [
    "#### Normalize the data"
   ]
  },
  {
   "cell_type": "code",
   "execution_count": 7,
   "id": "daLNPjCg0Okg",
   "metadata": {
    "id": "daLNPjCg0Okg"
   },
   "outputs": [],
   "source": [
    "X_train = X_train / 255\n",
    "X_test = X_test / 255"
   ]
  },
  {
   "cell_type": "markdown",
   "id": "a7Scy-fz07ag",
   "metadata": {
    "id": "a7Scy-fz07ag"
   },
   "source": [
    "# Exploration"
   ]
  },
  {
   "cell_type": "code",
   "execution_count": 8,
   "id": "sH8crJ461ScL",
   "metadata": {
    "id": "sH8crJ461ScL"
   },
   "outputs": [],
   "source": [
    "def model(nodes, layers, activation_in, activation_out, loss, optimizer, metrics, epochs, X_train, y_train, X_test, y_test):\n",
    "\n",
    "    model = Sequential()\n",
    "    \n",
    "    model.add(Dense(nodes, input_dim=28*28, activation=activation_in))\n",
    "    \n",
    "    for x in range(layers):\n",
    "        model.add(Dense(nodes, activation=activation_in))\n",
    "\n",
    "    model.add(Dense(10, activation=activation_out))\n",
    "\n",
    "    model.compile(loss=loss, optimizer=optimizer, metrics=metrics)\n",
    "\n",
    "    model.fit(X_train, to_categorical(y_train), epochs=epochs)\n",
    "\n",
    "    score = model.evaluate(X_test, to_categorical(y_test))\n",
    "\n",
    "    print(model.summary(), \"\\n\", \"Accuracy =\", score[1]*100)"
   ]
  },
  {
   "cell_type": "markdown",
   "id": "q8Qv_z7P1Chw",
   "metadata": {
    "id": "q8Qv_z7P1Chw"
   },
   "source": [
    "# 1. No. of Nodes"
   ]
  },
  {
   "cell_type": "code",
   "execution_count": 9,
   "id": "95T0YupV1u0w",
   "metadata": {
    "colab": {
     "base_uri": "https://localhost:8080/"
    },
    "id": "95T0YupV1u0w",
    "outputId": "f9719137-b3bd-4435-f8ca-7860488ca637"
   },
   "outputs": [
    {
     "name": "stdout",
     "output_type": "stream",
     "text": [
      "Epoch 1/10\n",
      "1875/1875 [==============================] - 8s 3ms/step - loss: 0.9293 - accuracy: 0.6960\n",
      "Epoch 2/10\n",
      "1875/1875 [==============================] - 5s 3ms/step - loss: 0.6472 - accuracy: 0.7994\n",
      "Epoch 3/10\n",
      "1875/1875 [==============================] - 5s 3ms/step - loss: 0.5800 - accuracy: 0.8267\n",
      "Epoch 4/10\n",
      "1875/1875 [==============================] - 5s 3ms/step - loss: 0.5445 - accuracy: 0.8395\n",
      "Epoch 5/10\n",
      "1875/1875 [==============================] - 5s 3ms/step - loss: 0.5211 - accuracy: 0.8476\n",
      "Epoch 6/10\n",
      "1875/1875 [==============================] - 5s 3ms/step - loss: 0.5028 - accuracy: 0.8540\n",
      "Epoch 7/10\n",
      "1875/1875 [==============================] - 6s 3ms/step - loss: 0.4868 - accuracy: 0.8593\n",
      "Epoch 8/10\n",
      "1875/1875 [==============================] - 5s 3ms/step - loss: 0.4752 - accuracy: 0.8619\n",
      "Epoch 9/10\n",
      "1875/1875 [==============================] - 6s 3ms/step - loss: 0.4662 - accuracy: 0.8647\n",
      "Epoch 10/10\n",
      "1875/1875 [==============================] - 6s 3ms/step - loss: 0.4594 - accuracy: 0.8681\n",
      "313/313 [==============================] - 1s 3ms/step - loss: 0.4797 - accuracy: 0.8639\n",
      "Model: \"sequential\"\n",
      "_________________________________________________________________\n",
      " Layer (type)                Output Shape              Param #   \n",
      "=================================================================\n",
      " dense (Dense)               (None, 4)                 3140      \n",
      "                                                                 \n",
      " dense_1 (Dense)             (None, 10)                50        \n",
      "                                                                 \n",
      "=================================================================\n",
      "Total params: 3,190\n",
      "Trainable params: 3,190\n",
      "Non-trainable params: 0\n",
      "_________________________________________________________________\n",
      "None \n",
      " Accuracy = 86.39000058174133\n"
     ]
    }
   ],
   "source": [
    "model1 = model(4, 0, 'relu', 'softmax', 'categorical_crossentropy', 'Adam', 'accuracy', 10, X_train, y_train, X_test, y_test)"
   ]
  },
  {
   "cell_type": "markdown",
   "id": "M3s6IQMmA4h9",
   "metadata": {
    "id": "M3s6IQMmA4h9"
   },
   "source": [
    "# 2. No. of Layers"
   ]
  },
  {
   "cell_type": "code",
   "execution_count": 11,
   "id": "ef203794",
   "metadata": {},
   "outputs": [
    {
     "name": "stdout",
     "output_type": "stream",
     "text": [
      "Epoch 1/10\n",
      "1875/1875 [==============================] - 8s 3ms/step - loss: 0.3455 - accuracy: 0.8964\n",
      "Epoch 2/10\n",
      "1875/1875 [==============================] - 6s 3ms/step - loss: 0.1637 - accuracy: 0.9511\n",
      "Epoch 3/10\n",
      "1875/1875 [==============================] - 7s 4ms/step - loss: 0.1291 - accuracy: 0.9607\n",
      "Epoch 4/10\n",
      "1875/1875 [==============================] - 7s 4ms/step - loss: 0.1086 - accuracy: 0.9664\n",
      "Epoch 5/10\n",
      "1875/1875 [==============================] - 7s 4ms/step - loss: 0.0937 - accuracy: 0.9713\n",
      "Epoch 6/10\n",
      "1875/1875 [==============================] - 8s 4ms/step - loss: 0.0850 - accuracy: 0.9738\n",
      "Epoch 7/10\n",
      "1875/1875 [==============================] - 9s 5ms/step - loss: 0.0736 - accuracy: 0.9772\n",
      "Epoch 8/10\n",
      "1875/1875 [==============================] - 9s 5ms/step - loss: 0.0696 - accuracy: 0.9776\n",
      "Epoch 9/10\n",
      "1875/1875 [==============================] - 8s 4ms/step - loss: 0.0629 - accuracy: 0.9805\n",
      "Epoch 10/10\n",
      "1875/1875 [==============================] - 9s 5ms/step - loss: 0.0591 - accuracy: 0.9809\n",
      "313/313 [==============================] - 2s 4ms/step - loss: 0.1099 - accuracy: 0.9704\n",
      "Model: \"sequential_2\"\n",
      "_________________________________________________________________\n",
      " Layer (type)                Output Shape              Param #   \n",
      "=================================================================\n",
      " dense_4 (Dense)             (None, 32)                25120     \n",
      "                                                                 \n",
      " dense_5 (Dense)             (None, 32)                1056      \n",
      "                                                                 \n",
      " dense_6 (Dense)             (None, 32)                1056      \n",
      "                                                                 \n",
      " dense_7 (Dense)             (None, 32)                1056      \n",
      "                                                                 \n",
      " dense_8 (Dense)             (None, 10)                330       \n",
      "                                                                 \n",
      "=================================================================\n",
      "Total params: 28,618\n",
      "Trainable params: 28,618\n",
      "Non-trainable params: 0\n",
      "_________________________________________________________________\n",
      "None \n",
      " Accuracy = 97.03999757766724\n"
     ]
    }
   ],
   "source": [
    "model7 = model(32, 3, 'relu', 'softmax', 'categorical_crossentropy', 'Adam', 'accuracy', 10, X_train, y_train, X_test, y_test)"
   ]
  },
  {
   "cell_type": "markdown",
   "id": "MV6clddjEE8L",
   "metadata": {
    "id": "MV6clddjEE8L"
   },
   "source": [
    "# 3. Activation Function"
   ]
  },
  {
   "cell_type": "code",
   "execution_count": 12,
   "id": "c132265e",
   "metadata": {},
   "outputs": [
    {
     "name": "stdout",
     "output_type": "stream",
     "text": [
      "Epoch 1/10\n",
      "1875/1875 [==============================] - 9s 4ms/step - loss: 0.8990 - accuracy: 0.7691\n",
      "Epoch 2/10\n",
      "1875/1875 [==============================] - 7s 4ms/step - loss: 0.2582 - accuracy: 0.9288\n",
      "Epoch 3/10\n",
      "1875/1875 [==============================] - 10s 6ms/step - loss: 0.1896 - accuracy: 0.9453\n",
      "Epoch 4/10\n",
      "1875/1875 [==============================] - 8s 4ms/step - loss: 0.1573 - accuracy: 0.9548\n",
      "Epoch 5/10\n",
      "1875/1875 [==============================] - 8s 4ms/step - loss: 0.1379 - accuracy: 0.9610\n",
      "Epoch 6/10\n",
      "1875/1875 [==============================] - 8s 4ms/step - loss: 0.1231 - accuracy: 0.9646\n",
      "Epoch 7/10\n",
      "1875/1875 [==============================] - 8s 4ms/step - loss: 0.1116 - accuracy: 0.9672\n",
      "Epoch 8/10\n",
      "1875/1875 [==============================] - 8s 4ms/step - loss: 0.1033 - accuracy: 0.9699\n",
      "Epoch 9/10\n",
      "1875/1875 [==============================] - 8s 4ms/step - loss: 0.0939 - accuracy: 0.9727\n",
      "Epoch 10/10\n",
      "1875/1875 [==============================] - 6s 3ms/step - loss: 0.0883 - accuracy: 0.9743\n",
      "313/313 [==============================] - 1s 3ms/step - loss: 0.1347 - accuracy: 0.9609\n",
      "Model: \"sequential_3\"\n",
      "_________________________________________________________________\n",
      " Layer (type)                Output Shape              Param #   \n",
      "=================================================================\n",
      " dense_9 (Dense)             (None, 32)                25120     \n",
      "                                                                 \n",
      " dense_10 (Dense)            (None, 32)                1056      \n",
      "                                                                 \n",
      " dense_11 (Dense)            (None, 32)                1056      \n",
      "                                                                 \n",
      " dense_12 (Dense)            (None, 10)                330       \n",
      "                                                                 \n",
      "=================================================================\n",
      "Total params: 27,562\n",
      "Trainable params: 27,562\n",
      "Non-trainable params: 0\n",
      "_________________________________________________________________\n",
      "None \n",
      " Accuracy = 96.09000086784363\n"
     ]
    }
   ],
   "source": [
    "model11 = model(32, 2, 'sigmoid','softmax','categorical_crossentropy','Adam', 'accuracy', 10, X_train, y_train, X_test, y_test)"
   ]
  },
  {
   "cell_type": "markdown",
   "id": "pkyJ8pGmFx20",
   "metadata": {
    "id": "pkyJ8pGmFx20"
   },
   "source": [
    "# 4. Activation Function combinations"
   ]
  },
  {
   "cell_type": "code",
   "execution_count": 13,
   "id": "XGa4ZhyuF4Wh",
   "metadata": {
    "id": "XGa4ZhyuF4Wh"
   },
   "outputs": [],
   "source": [
    "def model_afc(activation1, activation2, activation3):\n",
    "\n",
    "    model = Sequential()\n",
    "\n",
    "    model.add(Dense(32, input_dim=28*28, activation=activation1))\n",
    "\n",
    "    model.add(Dense(32, activation=activation2))\n",
    "\n",
    "    model.add(Dense(32, activation=activation2))\n",
    "\n",
    "    model.add(Dense(10, activation='softmax'))\n",
    "\n",
    "    model.compile(loss='categorical_crossentropy', optimizer='Adam', metrics='accuracy')\n",
    "\n",
    "    model.fit(X_train, to_categorical(y_train), epochs=10)\n",
    "\n",
    "    score = model.evaluate(X_test, to_categorical(y_test))\n",
    "\n",
    "    print(model.summary(), \"\\n\", \"Accuracy =\", score[1]*100)"
   ]
  },
  {
   "cell_type": "code",
   "execution_count": 14,
   "id": "6eaD5qXJGEwt",
   "metadata": {
    "id": "6eaD5qXJGEwt"
   },
   "outputs": [
    {
     "name": "stdout",
     "output_type": "stream",
     "text": [
      "Epoch 1/10\n",
      "1875/1875 [==============================] - 7s 3ms/step - loss: 0.4505 - accuracy: 0.8751\n",
      "Epoch 2/10\n",
      "1875/1875 [==============================] - 6s 3ms/step - loss: 0.2022 - accuracy: 0.9397\n",
      "Epoch 3/10\n",
      "1875/1875 [==============================] - 6s 3ms/step - loss: 0.1586 - accuracy: 0.9527\n",
      "Epoch 4/10\n",
      "1875/1875 [==============================] - 6s 3ms/step - loss: 0.1340 - accuracy: 0.9591\n",
      "Epoch 5/10\n",
      "1875/1875 [==============================] - 6s 3ms/step - loss: 0.1169 - accuracy: 0.9652\n",
      "Epoch 6/10\n",
      "1875/1875 [==============================] - 7s 4ms/step - loss: 0.1060 - accuracy: 0.9678\n",
      "Epoch 7/10\n",
      "1875/1875 [==============================] - 7s 4ms/step - loss: 0.0956 - accuracy: 0.9703\n",
      "Epoch 8/10\n",
      "1875/1875 [==============================] - 6s 3ms/step - loss: 0.0864 - accuracy: 0.9734\n",
      "Epoch 9/10\n",
      "1875/1875 [==============================] - 6s 3ms/step - loss: 0.0826 - accuracy: 0.9741\n",
      "Epoch 10/10\n",
      "1875/1875 [==============================] - 6s 3ms/step - loss: 0.0758 - accuracy: 0.9763\n",
      "313/313 [==============================] - 1s 2ms/step - loss: 0.1175 - accuracy: 0.9657\n",
      "Model: \"sequential_4\"\n",
      "_________________________________________________________________\n",
      " Layer (type)                Output Shape              Param #   \n",
      "=================================================================\n",
      " dense_13 (Dense)            (None, 32)                25120     \n",
      "                                                                 \n",
      " dense_14 (Dense)            (None, 32)                1056      \n",
      "                                                                 \n",
      " dense_15 (Dense)            (None, 32)                1056      \n",
      "                                                                 \n",
      " dense_16 (Dense)            (None, 10)                330       \n",
      "                                                                 \n",
      "=================================================================\n",
      "Total params: 27,562\n",
      "Trainable params: 27,562\n",
      "Non-trainable params: 0\n",
      "_________________________________________________________________\n",
      "None \n",
      " Accuracy = 96.56999707221985\n"
     ]
    }
   ],
   "source": [
    "model14 = model_afc('sigmoid','relu','tanh')"
   ]
  },
  {
   "cell_type": "markdown",
   "id": "a10917a1",
   "metadata": {},
   "source": [
    "# 5. Layer-node combinations"
   ]
  },
  {
   "cell_type": "code",
   "execution_count": 15,
   "id": "6356a842",
   "metadata": {},
   "outputs": [
    {
     "name": "stdout",
     "output_type": "stream",
     "text": [
      "Epoch 1/10\n",
      "1875/1875 [==============================] - 8s 3ms/step - loss: 0.3432 - accuracy: 0.9000\n",
      "Epoch 2/10\n",
      "1875/1875 [==============================] - 6s 3ms/step - loss: 0.1738 - accuracy: 0.9486\n",
      "Epoch 3/10\n",
      "1875/1875 [==============================] - 6s 3ms/step - loss: 0.1322 - accuracy: 0.9599\n",
      "Epoch 4/10\n",
      "1875/1875 [==============================] - 7s 4ms/step - loss: 0.1085 - accuracy: 0.9678\n",
      "Epoch 5/10\n",
      "1875/1875 [==============================] - 12s 6ms/step - loss: 0.0949 - accuracy: 0.9704\n",
      "Epoch 6/10\n",
      "1875/1875 [==============================] - 12s 6ms/step - loss: 0.0847 - accuracy: 0.9742\n",
      "Epoch 7/10\n",
      "1875/1875 [==============================] - 12s 6ms/step - loss: 0.0754 - accuracy: 0.9765\n",
      "Epoch 8/10\n",
      "1875/1875 [==============================] - 11s 6ms/step - loss: 0.0701 - accuracy: 0.9779\n",
      "Epoch 9/10\n",
      "1875/1875 [==============================] - 12s 6ms/step - loss: 0.0628 - accuracy: 0.9805\n",
      "Epoch 10/10\n",
      "1875/1875 [==============================] - 8s 4ms/step - loss: 0.0584 - accuracy: 0.9817\n",
      "313/313 [==============================] - 2s 4ms/step - loss: 0.1180 - accuracy: 0.9657\n",
      "Model: \"sequential_5\"\n",
      "_________________________________________________________________\n",
      " Layer (type)                Output Shape              Param #   \n",
      "=================================================================\n",
      " dense_17 (Dense)            (None, 32)                25120     \n",
      "                                                                 \n",
      " dense_18 (Dense)            (None, 32)                1056      \n",
      "                                                                 \n",
      " dense_19 (Dense)            (None, 10)                330       \n",
      "                                                                 \n",
      "=================================================================\n",
      "Total params: 26,506\n",
      "Trainable params: 26,506\n",
      "Non-trainable params: 0\n",
      "_________________________________________________________________\n",
      "None \n",
      " Accuracy = 96.56999707221985\n"
     ]
    }
   ],
   "source": [
    "model17 = model(32, 1, 'relu', 'softmax', 'categorical_crossentropy', 'Adam', 'accuracy', 10, X_train, y_train, X_test, y_test)"
   ]
  },
  {
   "cell_type": "markdown",
   "id": "vOKks8dDHzvY",
   "metadata": {
    "id": "vOKks8dDHzvY"
   },
   "source": [
    "# 6. Optimizer"
   ]
  },
  {
   "cell_type": "code",
   "execution_count": 16,
   "id": "zrkhA_PtH2bw",
   "metadata": {
    "id": "zrkhA_PtH2bw"
   },
   "outputs": [],
   "source": [
    "def model_opt(optimizer):\n",
    "\n",
    "    model = Sequential()\n",
    "\n",
    "    model.add(Dense(32, input_dim=28*28, activation='relu'))\n",
    "\n",
    "    model.add(Dense(32, activation='relu'))\n",
    "\n",
    "    model.add(Dense(32, activation='relu'))\n",
    "\n",
    "    model.add(Dense(10, activation='softmax'))\n",
    "    \n",
    "    model.compile(loss='categorical_crossentropy', optimizer=optimizer, metrics='accuracy')\n",
    "\n",
    "    model.fit(X_train, to_categorical(y_train), epochs=10)\n",
    "\n",
    "    score = model.evaluate(X_test, to_categorical(y_test))\n",
    "\n",
    "    print(model.summary(), \"\\n\", \"Accuracy =\", score[1]*100)"
   ]
  },
  {
   "cell_type": "code",
   "execution_count": 17,
   "id": "HFqSvlSjITrK",
   "metadata": {
    "id": "HFqSvlSjITrK"
   },
   "outputs": [
    {
     "name": "stdout",
     "output_type": "stream",
     "text": [
      "Epoch 1/10\n",
      "1875/1875 [==============================] - 10s 4ms/step - loss: 0.8653 - accuracy: 0.7379\n",
      "Epoch 2/10\n",
      "1875/1875 [==============================] - 7s 4ms/step - loss: 0.3263 - accuracy: 0.9057\n",
      "Epoch 3/10\n",
      "1875/1875 [==============================] - 10s 5ms/step - loss: 0.2606 - accuracy: 0.9242\n",
      "Epoch 4/10\n",
      "1875/1875 [==============================] - 9s 5ms/step - loss: 0.2239 - accuracy: 0.9349\n",
      "Epoch 5/10\n",
      "1875/1875 [==============================] - 7s 3ms/step - loss: 0.1988 - accuracy: 0.9423\n",
      "Epoch 6/10\n",
      "1875/1875 [==============================] - 6s 3ms/step - loss: 0.1796 - accuracy: 0.9474\n",
      "Epoch 7/10\n",
      "1875/1875 [==============================] - 7s 4ms/step - loss: 0.1640 - accuracy: 0.9521\n",
      "Epoch 8/10\n",
      "1875/1875 [==============================] - 7s 4ms/step - loss: 0.1509 - accuracy: 0.9548\n",
      "Epoch 9/10\n",
      "1875/1875 [==============================] - 6s 3ms/step - loss: 0.1398 - accuracy: 0.9590\n",
      "Epoch 10/10\n",
      "1875/1875 [==============================] - 7s 4ms/step - loss: 0.1310 - accuracy: 0.9616\n",
      "313/313 [==============================] - 2s 3ms/step - loss: 0.1341 - accuracy: 0.9598\n",
      "Model: \"sequential_6\"\n",
      "_________________________________________________________________\n",
      " Layer (type)                Output Shape              Param #   \n",
      "=================================================================\n",
      " dense_20 (Dense)            (None, 32)                25120     \n",
      "                                                                 \n",
      " dense_21 (Dense)            (None, 32)                1056      \n",
      "                                                                 \n",
      " dense_22 (Dense)            (None, 32)                1056      \n",
      "                                                                 \n",
      " dense_23 (Dense)            (None, 10)                330       \n",
      "                                                                 \n",
      "=================================================================\n",
      "Total params: 27,562\n",
      "Trainable params: 27,562\n",
      "Non-trainable params: 0\n",
      "_________________________________________________________________\n",
      "None \n",
      " Accuracy = 95.98000049591064\n"
     ]
    }
   ],
   "source": [
    "model20 = model_opt('SGD')"
   ]
  },
  {
   "cell_type": "markdown",
   "id": "scpCNIyiImR7",
   "metadata": {
    "id": "scpCNIyiImR7"
   },
   "source": [
    "# 7. L1, L2 Regularization"
   ]
  },
  {
   "cell_type": "code",
   "execution_count": 18,
   "id": "e1edf9da",
   "metadata": {},
   "outputs": [],
   "source": [
    "def model_reg(reg):\n",
    "\n",
    "    model = Sequential()\n",
    "\n",
    "    model.add(Dense(128, input_dim=28*28, activation='relu', kernel_regularizer=reg))\n",
    "\n",
    "    model.add(Dense(128, activation='relu', kernel_regularizer=reg))\n",
    "\n",
    "    model.add(Dense(128, activation='relu', kernel_regularizer=reg))\n",
    "\n",
    "    model.add(Dense(10, activation='softmax'))\n",
    "\n",
    "    model.compile(loss='categorical_crossentropy', optimizer='Adam', metrics='accuracy')\n",
    "\n",
    "    model.fit(X_train, to_categorical(y_train), epochs=10)\n",
    "\n",
    "    score = model.evaluate(X_test, to_categorical(y_test))\n",
    "\n",
    "    print(model.summary(), \"\\n\", \"Accuracy =\", score[1]*100)"
   ]
  },
  {
   "cell_type": "code",
   "execution_count": 19,
   "id": "f2451971",
   "metadata": {},
   "outputs": [
    {
     "name": "stdout",
     "output_type": "stream",
     "text": [
      "Epoch 1/10\n",
      "1875/1875 [==============================] - 13s 5ms/step - loss: 3.8030 - accuracy: 0.1197\n",
      "Epoch 2/10\n",
      "1875/1875 [==============================] - 10s 6ms/step - loss: 2.4614 - accuracy: 0.1121\n",
      "Epoch 3/10\n",
      "1875/1875 [==============================] - 10s 5ms/step - loss: 2.4612 - accuracy: 0.1124\n",
      "Epoch 4/10\n",
      "1875/1875 [==============================] - 11s 6ms/step - loss: 2.4611 - accuracy: 0.1124\n",
      "Epoch 5/10\n",
      "1875/1875 [==============================] - 9s 5ms/step - loss: 2.4610 - accuracy: 0.1124\n",
      "Epoch 6/10\n",
      "1875/1875 [==============================] - 8s 4ms/step - loss: 2.4610 - accuracy: 0.1124\n",
      "Epoch 7/10\n",
      "1875/1875 [==============================] - 8s 4ms/step - loss: 2.4610 - accuracy: 0.1124\n",
      "Epoch 8/10\n",
      "1875/1875 [==============================] - 7s 4ms/step - loss: 2.4610 - accuracy: 0.1124\n",
      "Epoch 9/10\n",
      "1875/1875 [==============================] - 8s 4ms/step - loss: 2.4610 - accuracy: 0.1124\n",
      "Epoch 10/10\n",
      "1875/1875 [==============================] - 8s 4ms/step - loss: 2.4610 - accuracy: 0.1124\n",
      "313/313 [==============================] - 1s 3ms/step - loss: 2.4609 - accuracy: 0.1135\n",
      "Model: \"sequential_7\"\n",
      "_________________________________________________________________\n",
      " Layer (type)                Output Shape              Param #   \n",
      "=================================================================\n",
      " dense_24 (Dense)            (None, 128)               100480    \n",
      "                                                                 \n",
      " dense_25 (Dense)            (None, 128)               16512     \n",
      "                                                                 \n",
      " dense_26 (Dense)            (None, 128)               16512     \n",
      "                                                                 \n",
      " dense_27 (Dense)            (None, 10)                1290      \n",
      "                                                                 \n",
      "=================================================================\n",
      "Total params: 134,794\n",
      "Trainable params: 134,794\n",
      "Non-trainable params: 0\n",
      "_________________________________________________________________\n",
      "None \n",
      " Accuracy = 11.349999904632568\n"
     ]
    }
   ],
   "source": [
    "model23 = model_reg(regularizers.l1(0.01))"
   ]
  },
  {
   "cell_type": "code",
   "execution_count": 20,
   "id": "ae3b74d4",
   "metadata": {},
   "outputs": [
    {
     "name": "stdout",
     "output_type": "stream",
     "text": [
      "Epoch 1/10\n",
      "1875/1875 [==============================] - 9s 4ms/step - loss: 0.9803 - accuracy: 0.8890\n",
      "Epoch 2/10\n",
      "1875/1875 [==============================] - 8s 4ms/step - loss: 0.5753 - accuracy: 0.9227\n",
      "Epoch 3/10\n",
      "1875/1875 [==============================] - 8s 4ms/step - loss: 0.5012 - accuracy: 0.9323\n",
      "Epoch 4/10\n",
      "1875/1875 [==============================] - 8s 4ms/step - loss: 0.4571 - accuracy: 0.9373\n",
      "Epoch 5/10\n",
      "1875/1875 [==============================] - 8s 4ms/step - loss: 0.4295 - accuracy: 0.9410\n",
      "Epoch 6/10\n",
      "1875/1875 [==============================] - 7s 4ms/step - loss: 0.4065 - accuracy: 0.9437\n",
      "Epoch 7/10\n",
      "1875/1875 [==============================] - 7s 4ms/step - loss: 0.3930 - accuracy: 0.9446\n",
      "Epoch 8/10\n",
      "1875/1875 [==============================] - 7s 4ms/step - loss: 0.3832 - accuracy: 0.9469\n",
      "Epoch 9/10\n",
      "1875/1875 [==============================] - 7s 4ms/step - loss: 0.3757 - accuracy: 0.9467\n",
      "Epoch 10/10\n",
      "1875/1875 [==============================] - 7s 4ms/step - loss: 0.3683 - accuracy: 0.9474\n",
      "313/313 [==============================] - 2s 3ms/step - loss: 0.3422 - accuracy: 0.9553\n",
      "Model: \"sequential_8\"\n",
      "_________________________________________________________________\n",
      " Layer (type)                Output Shape              Param #   \n",
      "=================================================================\n",
      " dense_28 (Dense)            (None, 128)               100480    \n",
      "                                                                 \n",
      " dense_29 (Dense)            (None, 128)               16512     \n",
      "                                                                 \n",
      " dense_30 (Dense)            (None, 128)               16512     \n",
      "                                                                 \n",
      " dense_31 (Dense)            (None, 10)                1290      \n",
      "                                                                 \n",
      "=================================================================\n",
      "Total params: 134,794\n",
      "Trainable params: 134,794\n",
      "Non-trainable params: 0\n",
      "_________________________________________________________________\n",
      "None \n",
      " Accuracy = 95.5299973487854\n"
     ]
    }
   ],
   "source": [
    "model25 = model_reg(regularizers.l2(0.01))"
   ]
  },
  {
   "cell_type": "markdown",
   "id": "4faea1ba",
   "metadata": {},
   "source": [
    "# 8. Dropout Regularization"
   ]
  },
  {
   "cell_type": "code",
   "execution_count": 21,
   "id": "cae7951c",
   "metadata": {},
   "outputs": [],
   "source": [
    "def model_dropout(rate):\n",
    "\n",
    "    model = Sequential()\n",
    "\n",
    "    model.add(Dense(128, input_dim=28*28, activation='relu'))\n",
    "    model.add(Dropout(rate))\n",
    "\n",
    "    model.add(Dense(128, activation='relu'))\n",
    "    model.add(Dropout(rate))\n",
    "\n",
    "    model.add(Dense(128, activation='relu'))\n",
    "    model.add(Dropout(rate))\n",
    "\n",
    "    model.add(Dense(10, activation='softmax'))\n",
    "\n",
    "    model.compile(loss='categorical_crossentropy', optimizer='Adam', metrics='accuracy')\n",
    "\n",
    "    model.fit(X_train, to_categorical(y_train), epochs=10)\n",
    "\n",
    "    score = model.evaluate(X_test, to_categorical(y_test))\n",
    "\n",
    "    print(model.summary(), \"\\n\", \"Accuracy =\", score[1]*100)"
   ]
  },
  {
   "cell_type": "code",
   "execution_count": 22,
   "id": "a99b5737",
   "metadata": {},
   "outputs": [
    {
     "name": "stdout",
     "output_type": "stream",
     "text": [
      "Epoch 1/10\n",
      "1875/1875 [==============================] - 9s 4ms/step - loss: 0.6405 - accuracy: 0.8000\n",
      "Epoch 2/10\n",
      "1875/1875 [==============================] - 9s 5ms/step - loss: 0.3360 - accuracy: 0.9090\n",
      "Epoch 3/10\n",
      "1875/1875 [==============================] - 11s 6ms/step - loss: 0.2814 - accuracy: 0.9226\n",
      "Epoch 4/10\n",
      "1875/1875 [==============================] - 9s 5ms/step - loss: 0.2533 - accuracy: 0.9307\n",
      "Epoch 5/10\n",
      "1875/1875 [==============================] - 11s 6ms/step - loss: 0.2416 - accuracy: 0.9343\n",
      "Epoch 6/10\n",
      "1875/1875 [==============================] - 10s 5ms/step - loss: 0.2295 - accuracy: 0.9391\n",
      "Epoch 7/10\n",
      "1875/1875 [==============================] - 10s 5ms/step - loss: 0.2116 - accuracy: 0.9416\n",
      "Epoch 8/10\n",
      "1875/1875 [==============================] - 10s 5ms/step - loss: 0.2120 - accuracy: 0.9421\n",
      "Epoch 9/10\n",
      "1875/1875 [==============================] - 11s 6ms/step - loss: 0.2007 - accuracy: 0.9447\n",
      "Epoch 10/10\n",
      "1875/1875 [==============================] - 13s 7ms/step - loss: 0.1997 - accuracy: 0.9460\n",
      "313/313 [==============================] - 4s 7ms/step - loss: 0.1107 - accuracy: 0.9683\n",
      "Model: \"sequential_9\"\n",
      "_________________________________________________________________\n",
      " Layer (type)                Output Shape              Param #   \n",
      "=================================================================\n",
      " dense_32 (Dense)            (None, 128)               100480    \n",
      "                                                                 \n",
      " dropout (Dropout)           (None, 128)               0         \n",
      "                                                                 \n",
      " dense_33 (Dense)            (None, 128)               16512     \n",
      "                                                                 \n",
      " dropout_1 (Dropout)         (None, 128)               0         \n",
      "                                                                 \n",
      " dense_34 (Dense)            (None, 128)               16512     \n",
      "                                                                 \n",
      " dropout_2 (Dropout)         (None, 128)               0         \n",
      "                                                                 \n",
      " dense_35 (Dense)            (None, 10)                1290      \n",
      "                                                                 \n",
      "=================================================================\n",
      "Total params: 134,794\n",
      "Trainable params: 134,794\n",
      "Non-trainable params: 0\n",
      "_________________________________________________________________\n",
      "None \n",
      " Accuracy = 96.82999849319458\n"
     ]
    }
   ],
   "source": [
    "model29 = model_dropout(0.5)"
   ]
  },
  {
   "cell_type": "markdown",
   "id": "362131bc",
   "metadata": {},
   "source": [
    "# 9. Input Size"
   ]
  },
  {
   "cell_type": "code",
   "execution_count": 23,
   "id": "74455dc7",
   "metadata": {},
   "outputs": [],
   "source": [
    "def model_input_dim(input_dim):\n",
    "\n",
    "    model = Sequential()\n",
    "\n",
    "    model.add(Dense(128, input_dim=input_dim, activation='relu'))\n",
    "\n",
    "    model.add(Dense(128, activation='relu'))\n",
    "\n",
    "    model.add(Dense(128, activation='relu'))\n",
    "\n",
    "    model.add(Dense(10, activation='softmax'))\n",
    "\n",
    "    model.compile(loss='categorical_crossentropy', optimizer='Adam', metrics='accuracy')\n",
    "\n",
    "    model.fit(X_train, to_categorical(y_train), epochs=10)\n",
    "\n",
    "    score = model.evaluate(X_test, to_categorical(y_test))\n",
    "\n",
    "    print(model.summary(), \"\\n\", \"Accuracy =\", score[1]*100)"
   ]
  },
  {
   "cell_type": "markdown",
   "id": "0521647c",
   "metadata": {},
   "source": [
    "# 10. Dataset Split"
   ]
  },
  {
   "cell_type": "code",
   "execution_count": 25,
   "id": "a546462b",
   "metadata": {},
   "outputs": [],
   "source": [
    "(X_train, y_train), (X_test, y_test) = data\n",
    "X1 = np.concatenate((X_train, X_test))\n",
    "y1 = np.concatenate((y_train, y_test))\n",
    "\n",
    "X_train1, X_test1, y_train1, y_test1 = train_test_split(X1, y1, train_size=0.7, random_state=42)"
   ]
  },
  {
   "cell_type": "code",
   "execution_count": null,
   "id": "eb1a35cb",
   "metadata": {},
   "outputs": [],
   "source": [
    "model33 = Sequential([Dense(32, input_dim=28*28, activation='relu'), \n",
    "                      Dense(32, activation='relu'), \n",
    "                      Dense(32, activation='relu'), \n",
    "                      Dense(10, activation='softmax')]) \n",
    "model33.compile(loss='mean_squared_error', optimizer='Adam', metrics='accuracy')\n",
    "model33.fit(X_train1, y_train1, epochs=10) \n",
    "score33 = model33.evaluate(X_test1, y_test1)\n",
    "print(model33.summary(), \"\\n\", \"Accuracy =\", score33[1]*100)"
   ]
  }
 ],
 "metadata": {
  "colab": {
   "collapsed_sections": [],
   "name": "PDL_Lab_7_215229137.ipynb",
   "provenance": []
  },
  "kernelspec": {
   "display_name": "Python 3 (ipykernel)",
   "language": "python",
   "name": "python3"
  },
  "language_info": {
   "codemirror_mode": {
    "name": "ipython",
    "version": 3
   },
   "file_extension": ".py",
   "mimetype": "text/x-python",
   "name": "python",
   "nbconvert_exporter": "python",
   "pygments_lexer": "ipython3",
   "version": "3.9.12"
  }
 },
 "nbformat": 4,
 "nbformat_minor": 5
}
