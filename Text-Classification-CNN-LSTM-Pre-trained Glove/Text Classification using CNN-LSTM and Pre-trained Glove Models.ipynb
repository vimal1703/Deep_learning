{
 "cells": [
  {
   "cell_type": "markdown",
   "id": "4c85b28d",
   "metadata": {},
   "source": [
    "# Text Classification using CNN-LSTM and Pre-trained Glove Models"
   ]
  },
  {
   "cell_type": "markdown",
   "id": "e94bc642",
   "metadata": {},
   "source": [
    "### Import libraries"
   ]
  },
  {
   "cell_type": "code",
   "execution_count": 1,
   "id": "c9232e36",
   "metadata": {},
   "outputs": [
    {
     "name": "stderr",
     "output_type": "stream",
     "text": [
      "[nltk_data] Downloading package stopwords to\n",
      "[nltk_data]     C:\\Users\\yokes\\AppData\\Roaming\\nltk_data...\n",
      "[nltk_data]   Package stopwords is already up-to-date!\n"
     ]
    },
    {
     "data": {
      "text/plain": [
       "True"
      ]
     },
     "execution_count": 1,
     "metadata": {},
     "output_type": "execute_result"
    }
   ],
   "source": [
    "from sklearn.datasets import fetch_20newsgroups\n",
    "import pandas as pd\n",
    "import numpy as np # for mathematic equation\n",
    "from nltk.corpus import stopwords # to get collection of stopwords\n",
    "from sklearn.model_selection import train_test_split # for splitting dataset\n",
    "from tensorflow.keras.preprocessing.text import Tokenizer # to encode text to int\n",
    "from tensorflow.keras.preprocessing.sequence import pad_sequences # to do padding or tru\n",
    "from tensorflow.keras.models import Sequential # the model\n",
    "from tensorflow.keras.layers import Embedding, LSTM, Dense # layers of the architecture\n",
    "from tensorflow.keras.callbacks import ModelCheckpoint # save model\n",
    "from tensorflow.keras.models import load_model\n",
    "\n",
    "import nltk\n",
    "nltk.download('stopwords')"
   ]
  },
  {
   "cell_type": "code",
   "execution_count": 2,
   "id": "78c8b74f",
   "metadata": {},
   "outputs": [],
   "source": [
    "df_full = fetch_20newsgroups(subset='all', remove=('headers', 'footers', 'quotes'), shuffle=True, random_state=42)"
   ]
  },
  {
   "cell_type": "code",
   "execution_count": 3,
   "id": "58158bec",
   "metadata": {},
   "outputs": [],
   "source": [
    "df = pd.DataFrame()\n",
    "df['text'] = df_full.data\n",
    "df['source'] = df_full.target\n",
    "label=[]\n",
    "for i in df['source']:\n",
    "    label.append(df_full.target_names[i])\n",
    "df['label']=label"
   ]
  },
  {
   "cell_type": "code",
   "execution_count": 4,
   "id": "d3b955b2",
   "metadata": {},
   "outputs": [
    {
     "data": {
      "text/html": [
       "<div>\n",
       "<style scoped>\n",
       "    .dataframe tbody tr th:only-of-type {\n",
       "        vertical-align: middle;\n",
       "    }\n",
       "\n",
       "    .dataframe tbody tr th {\n",
       "        vertical-align: top;\n",
       "    }\n",
       "\n",
       "    .dataframe thead th {\n",
       "        text-align: right;\n",
       "    }\n",
       "</style>\n",
       "<table border=\"1\" class=\"dataframe\">\n",
       "  <thead>\n",
       "    <tr style=\"text-align: right;\">\n",
       "      <th></th>\n",
       "      <th>text</th>\n",
       "      <th>source</th>\n",
       "      <th>label</th>\n",
       "    </tr>\n",
       "  </thead>\n",
       "  <tbody>\n",
       "    <tr>\n",
       "      <th>0</th>\n",
       "      <td>\\n\\nI am sure some bashers of Pens fans are pr...</td>\n",
       "      <td>10</td>\n",
       "      <td>rec.sport.hockey</td>\n",
       "    </tr>\n",
       "    <tr>\n",
       "      <th>1</th>\n",
       "      <td>My brother is in the market for a high-perform...</td>\n",
       "      <td>3</td>\n",
       "      <td>comp.sys.ibm.pc.hardware</td>\n",
       "    </tr>\n",
       "    <tr>\n",
       "      <th>2</th>\n",
       "      <td>\\n\\n\\n\\n\\tFinally you said what you dream abou...</td>\n",
       "      <td>17</td>\n",
       "      <td>talk.politics.mideast</td>\n",
       "    </tr>\n",
       "    <tr>\n",
       "      <th>3</th>\n",
       "      <td>\\nThink!\\n\\nIt's the SCSI card doing the DMA t...</td>\n",
       "      <td>3</td>\n",
       "      <td>comp.sys.ibm.pc.hardware</td>\n",
       "    </tr>\n",
       "    <tr>\n",
       "      <th>4</th>\n",
       "      <td>1)    I have an old Jasmine drive which I cann...</td>\n",
       "      <td>4</td>\n",
       "      <td>comp.sys.mac.hardware</td>\n",
       "    </tr>\n",
       "    <tr>\n",
       "      <th>...</th>\n",
       "      <td>...</td>\n",
       "      <td>...</td>\n",
       "      <td>...</td>\n",
       "    </tr>\n",
       "    <tr>\n",
       "      <th>18841</th>\n",
       "      <td>DN&gt; From: nyeda@cnsvax.uwec.edu (David Nye)\\nD...</td>\n",
       "      <td>13</td>\n",
       "      <td>sci.med</td>\n",
       "    </tr>\n",
       "    <tr>\n",
       "      <th>18842</th>\n",
       "      <td>\\nNot in isolated ground recepticles (usually ...</td>\n",
       "      <td>12</td>\n",
       "      <td>sci.electronics</td>\n",
       "    </tr>\n",
       "    <tr>\n",
       "      <th>18843</th>\n",
       "      <td>I just installed a DX2-66 CPU in a clone mothe...</td>\n",
       "      <td>3</td>\n",
       "      <td>comp.sys.ibm.pc.hardware</td>\n",
       "    </tr>\n",
       "    <tr>\n",
       "      <th>18844</th>\n",
       "      <td>\\nWouldn't this require a hyper-sphere.  In 3-...</td>\n",
       "      <td>1</td>\n",
       "      <td>comp.graphics</td>\n",
       "    </tr>\n",
       "    <tr>\n",
       "      <th>18845</th>\n",
       "      <td>After a tip from Gary Crum (crum@fcom.cc.utah....</td>\n",
       "      <td>7</td>\n",
       "      <td>rec.autos</td>\n",
       "    </tr>\n",
       "  </tbody>\n",
       "</table>\n",
       "<p>18846 rows × 3 columns</p>\n",
       "</div>"
      ],
      "text/plain": [
       "                                                    text  source  \\\n",
       "0      \\n\\nI am sure some bashers of Pens fans are pr...      10   \n",
       "1      My brother is in the market for a high-perform...       3   \n",
       "2      \\n\\n\\n\\n\\tFinally you said what you dream abou...      17   \n",
       "3      \\nThink!\\n\\nIt's the SCSI card doing the DMA t...       3   \n",
       "4      1)    I have an old Jasmine drive which I cann...       4   \n",
       "...                                                  ...     ...   \n",
       "18841  DN> From: nyeda@cnsvax.uwec.edu (David Nye)\\nD...      13   \n",
       "18842  \\nNot in isolated ground recepticles (usually ...      12   \n",
       "18843  I just installed a DX2-66 CPU in a clone mothe...       3   \n",
       "18844  \\nWouldn't this require a hyper-sphere.  In 3-...       1   \n",
       "18845  After a tip from Gary Crum (crum@fcom.cc.utah....       7   \n",
       "\n",
       "                          label  \n",
       "0              rec.sport.hockey  \n",
       "1      comp.sys.ibm.pc.hardware  \n",
       "2         talk.politics.mideast  \n",
       "3      comp.sys.ibm.pc.hardware  \n",
       "4         comp.sys.mac.hardware  \n",
       "...                         ...  \n",
       "18841                   sci.med  \n",
       "18842           sci.electronics  \n",
       "18843  comp.sys.ibm.pc.hardware  \n",
       "18844             comp.graphics  \n",
       "18845                 rec.autos  \n",
       "\n",
       "[18846 rows x 3 columns]"
      ]
     },
     "execution_count": 4,
     "metadata": {},
     "output_type": "execute_result"
    }
   ],
   "source": [
    "df"
   ]
  },
  {
   "cell_type": "code",
   "execution_count": 5,
   "id": "2faf4112",
   "metadata": {},
   "outputs": [],
   "source": [
    "x_data = df['text'] # Reviews/Input\n",
    "y_data = df['source'] # Sentiment/Output"
   ]
  },
  {
   "cell_type": "code",
   "execution_count": 6,
   "id": "2ed8ebaf",
   "metadata": {},
   "outputs": [],
   "source": [
    "def load_dataset():\n",
    "    english_stops = set(stopwords.words('english'))\n",
    "\n",
    "    x_data = df['text'] # Reviews/Input\n",
    "    y_data = df['source'] # Sentiment/Output\n",
    "\n",
    "    # PRE-PROCESS REVIEW\n",
    "    x_data = x_data.replace({'<.*?>': ''}, regex = True) # remove html tag\n",
    "    x_data = x_data.replace({'[^A-Za-z]': ' '}, regex = True) # remove non alphabet\n",
    "    x_data = x_data.apply(lambda review: [w for w in review.split() if w not in english_stops])\n",
    "    x_data = x_data.apply(lambda review: [w.lower() for w in review]) # lower case\n",
    "    \n",
    "    return x_data, y_data"
   ]
  },
  {
   "cell_type": "code",
   "execution_count": 7,
   "id": "05e9481c",
   "metadata": {},
   "outputs": [
    {
     "name": "stdout",
     "output_type": "stream",
     "text": [
      "text\n",
      "0        [i, sure, bashers, pens, fans, pretty, confuse...\n",
      "1        [my, brother, market, high, performance, video...\n",
      "2        [finally, said, dream, mediterranean, that, ne...\n",
      "3        [think, it, scsi, card, dma, transfers, not, d...\n",
      "4        [i, old, jasmine, drive, i, cannot, use, new, ...\n",
      "                               ...                        \n",
      "18841    [dn, from, nyeda, cnsvax, uwec, edu, david, ny...\n",
      "18842    [not, isolated, ground, recepticles, usually, ...\n",
      "18843    [i, installed, dx, cpu, clone, motherboard, tr...\n",
      "18844    [wouldn, require, hyper, sphere, in, space, po...\n",
      "18845    [after, tip, gary, crum, crum, fcom, cc, utah,...\n",
      "Name: text, Length: 18846, dtype: object\n",
      "source\n",
      "0        10\n",
      "1         3\n",
      "2        17\n",
      "3         3\n",
      "4         4\n",
      "         ..\n",
      "18841    13\n",
      "18842    12\n",
      "18843     3\n",
      "18844     1\n",
      "18845     7\n",
      "Name: source, Length: 18846, dtype: int32\n"
     ]
    }
   ],
   "source": [
    "x_data, y_data = load_dataset()\n",
    "\n",
    "print('text')\n",
    "print(x_data)\n",
    "print('source')\n",
    "print(y_data)"
   ]
  },
  {
   "cell_type": "code",
   "execution_count": 8,
   "id": "de71b793",
   "metadata": {},
   "outputs": [
    {
     "data": {
      "text/plain": [
       "{'<oov>': 1,\n",
       " 'ax': 2,\n",
       " 'i': 3,\n",
       " 'the': 4,\n",
       " 'x': 5,\n",
       " 'm': 6,\n",
       " 'one': 7,\n",
       " 'a': 8,\n",
       " 'would': 9,\n",
       " 'w': 10,\n",
       " 'q': 11,\n",
       " 'b': 12,\n",
       " 'g': 13,\n",
       " 'f': 14,\n",
       " 'v': 15}"
      ]
     },
     "execution_count": 8,
     "metadata": {},
     "output_type": "execute_result"
    }
   ],
   "source": [
    "X_token = Tokenizer(num_words=5000,oov_token='<oov>') \n",
    "X_token.fit_on_texts(x_data)\n",
    "word_index = X_token.word_index\n",
    "X_sequence = X_token.texts_to_sequences(x_data) \n",
    "dict(list(word_index.items())[0:15])"
   ]
  },
  {
   "cell_type": "code",
   "execution_count": 9,
   "id": "a62d9b1a",
   "metadata": {},
   "outputs": [],
   "source": [
    "X_padding= pad_sequences(X_sequence,maxlen=200,padding='post')"
   ]
  },
  {
   "cell_type": "markdown",
   "id": "8fdbd04e",
   "metadata": {},
   "source": [
    "### Dataset Preparation"
   ]
  },
  {
   "cell_type": "code",
   "execution_count": 10,
   "id": "b909d9be",
   "metadata": {},
   "outputs": [],
   "source": [
    "x_train,x_test,y_train,y_test=train_test_split(X_padding,y_data,test_size=.3)"
   ]
  },
  {
   "cell_type": "code",
   "execution_count": 11,
   "id": "d6e87eee",
   "metadata": {},
   "outputs": [
    {
     "name": "stdout",
     "output_type": "stream",
     "text": [
      "(13192, 200) (5654, 200)\n",
      "(13192,) (5654,)\n"
     ]
    }
   ],
   "source": [
    "print(x_train.shape,x_test.shape) \n",
    "print(y_train.shape,y_test.shape)"
   ]
  },
  {
   "cell_type": "markdown",
   "id": "7ff5d40a",
   "metadata": {},
   "source": [
    "### LSTM Model Creation"
   ]
  },
  {
   "cell_type": "code",
   "execution_count": 12,
   "id": "77abca8b",
   "metadata": {},
   "outputs": [],
   "source": [
    "vocab_size = 5000\n",
    "embedding_dim = 64\n",
    "max_length = 200"
   ]
  },
  {
   "cell_type": "code",
   "execution_count": 13,
   "id": "98b97a50",
   "metadata": {},
   "outputs": [],
   "source": [
    "model = Sequential()\n",
    "model.add(Embedding(vocab_size, embedding_dim)) \n",
    "model.add(LSTM(embedding_dim)) \n",
    "model.add(Dense(embedding_dim, activation='tanh'))\n",
    "model.add(Dense(20,activation='softmax'))"
   ]
  },
  {
   "cell_type": "code",
   "execution_count": 14,
   "id": "880ead4c",
   "metadata": {},
   "outputs": [
    {
     "name": "stdout",
     "output_type": "stream",
     "text": [
      "Model: \"sequential\"\n",
      "_________________________________________________________________\n",
      " Layer (type)                Output Shape              Param #   \n",
      "=================================================================\n",
      " embedding (Embedding)       (None, None, 64)          320000    \n",
      "                                                                 \n",
      " lstm (LSTM)                 (None, 64)                33024     \n",
      "                                                                 \n",
      " dense (Dense)               (None, 64)                4160      \n",
      "                                                                 \n",
      " dense_1 (Dense)             (None, 20)                1300      \n",
      "                                                                 \n",
      "=================================================================\n",
      "Total params: 358,484\n",
      "Trainable params: 358,484\n",
      "Non-trainable params: 0\n",
      "_________________________________________________________________\n"
     ]
    }
   ],
   "source": [
    "model.summary()"
   ]
  },
  {
   "cell_type": "code",
   "execution_count": 15,
   "id": "dbb27268",
   "metadata": {},
   "outputs": [],
   "source": [
    "model.compile(optimizer='adam',loss='sparse_categorical_crossentropy',metrics=['accuracy'])"
   ]
  },
  {
   "cell_type": "code",
   "execution_count": 16,
   "id": "db12d27d",
   "metadata": {},
   "outputs": [
    {
     "name": "stdout",
     "output_type": "stream",
     "text": [
      "Epoch 1/20\n",
      "413/413 [==============================] - 25s 57ms/step - loss: 2.8989 - accuracy: 0.0799\n",
      "Epoch 2/20\n",
      "413/413 [==============================] - 25s 60ms/step - loss: 2.7819 - accuracy: 0.0942\n",
      "Epoch 3/20\n",
      "413/413 [==============================] - 25s 60ms/step - loss: 2.8933 - accuracy: 0.0829\n",
      "Epoch 4/20\n",
      "413/413 [==============================] - 25s 60ms/step - loss: 2.8477 - accuracy: 0.0959\n",
      "Epoch 5/20\n",
      "413/413 [==============================] - 26s 62ms/step - loss: 2.7615 - accuracy: 0.1064\n",
      "Epoch 6/20\n",
      "413/413 [==============================] - 25s 61ms/step - loss: 2.7356 - accuracy: 0.1135\n",
      "Epoch 7/20\n",
      "413/413 [==============================] - 26s 62ms/step - loss: 2.7016 - accuracy: 0.1237\n",
      "Epoch 8/20\n",
      "413/413 [==============================] - 27s 65ms/step - loss: 2.7868 - accuracy: 0.1167\n",
      "Epoch 9/20\n",
      "413/413 [==============================] - 25s 60ms/step - loss: 2.6492 - accuracy: 0.1474\n",
      "Epoch 10/20\n",
      "413/413 [==============================] - 26s 62ms/step - loss: 2.6297 - accuracy: 0.1472\n",
      "Epoch 11/20\n",
      "413/413 [==============================] - 25s 60ms/step - loss: 2.7735 - accuracy: 0.1222\n",
      "Epoch 12/20\n",
      "413/413 [==============================] - 26s 62ms/step - loss: 2.6576 - accuracy: 0.1533\n",
      "Epoch 13/20\n",
      "413/413 [==============================] - 26s 62ms/step - loss: 2.6067 - accuracy: 0.1620\n",
      "Epoch 14/20\n",
      "413/413 [==============================] - 26s 63ms/step - loss: 2.5847 - accuracy: 0.1700\n",
      "Epoch 15/20\n",
      "413/413 [==============================] - 26s 63ms/step - loss: 2.5767 - accuracy: 0.1730\n",
      "Epoch 16/20\n",
      "413/413 [==============================] - 26s 62ms/step - loss: 2.4792 - accuracy: 0.1962\n",
      "Epoch 17/20\n",
      "413/413 [==============================] - 26s 63ms/step - loss: 2.3287 - accuracy: 0.2412\n",
      "Epoch 18/20\n",
      "413/413 [==============================] - 27s 65ms/step - loss: 1.9482 - accuracy: 0.3247\n",
      "Epoch 19/20\n",
      "413/413 [==============================] - 26s 62ms/step - loss: 1.6177 - accuracy: 0.4435\n",
      "Epoch 20/20\n",
      "413/413 [==============================] - 26s 62ms/step - loss: 1.3426 - accuracy: 0.5493\n"
     ]
    }
   ],
   "source": [
    "history1=model.fit(x_train,y_train,epochs=20)"
   ]
  },
  {
   "cell_type": "markdown",
   "id": "b95df2de",
   "metadata": {},
   "source": [
    "### CNN-LSTM Model Creation"
   ]
  },
  {
   "cell_type": "code",
   "execution_count": 17,
   "id": "bf64d0fe",
   "metadata": {},
   "outputs": [],
   "source": [
    "from tensorflow.keras.layers import Conv1D,MaxPooling1D\n",
    "\n",
    "model2 = Sequential() \n",
    "model2.add(Embedding(vocab_size, embedding_dim))\n",
    "model2.add(Conv1D(filters=32,kernel_size=5,strides=1,activation='relu')) \n",
    "model2.add(MaxPooling1D((2)))\n",
    "\n",
    "model2.add(LSTM(embedding_dim))\n",
    "\n",
    "model2.add(Dense(128,activation= 'relu')) \n",
    "model2.add(Dense(20,activation='softmax'))"
   ]
  },
  {
   "cell_type": "code",
   "execution_count": 18,
   "id": "aa22cc69",
   "metadata": {},
   "outputs": [],
   "source": [
    "model2.compile(optimizer='adam',loss='sparse_categorical_crossentropy',metrics=['accuracy'])"
   ]
  },
  {
   "cell_type": "code",
   "execution_count": 19,
   "id": "7d63600f",
   "metadata": {},
   "outputs": [
    {
     "name": "stdout",
     "output_type": "stream",
     "text": [
      "Epoch 1/20\n",
      "413/413 [==============================] - 18s 40ms/step - loss: 2.8852 - accuracy: 0.0774\n",
      "Epoch 2/20\n",
      "413/413 [==============================] - 16s 40ms/step - loss: 2.8220 - accuracy: 0.0867\n",
      "Epoch 3/20\n",
      "413/413 [==============================] - 16s 39ms/step - loss: 2.8220 - accuracy: 0.0882\n",
      "Epoch 4/20\n",
      "413/413 [==============================] - 17s 40ms/step - loss: 2.6525 - accuracy: 0.1124\n",
      "Epoch 5/20\n",
      "413/413 [==============================] - 17s 40ms/step - loss: 2.4081 - accuracy: 0.1521\n",
      "Epoch 6/20\n",
      "413/413 [==============================] - 17s 40ms/step - loss: 2.2350 - accuracy: 0.1876\n",
      "Epoch 7/20\n",
      "413/413 [==============================] - 16s 40ms/step - loss: 2.1132 - accuracy: 0.2201\n",
      "Epoch 8/20\n",
      "413/413 [==============================] - 17s 41ms/step - loss: 1.9795 - accuracy: 0.2511\n",
      "Epoch 9/20\n",
      "413/413 [==============================] - 17s 40ms/step - loss: 1.8467 - accuracy: 0.2844\n",
      "Epoch 10/20\n",
      "413/413 [==============================] - 17s 40ms/step - loss: 1.7233 - accuracy: 0.3235\n",
      "Epoch 11/20\n",
      "413/413 [==============================] - 17s 40ms/step - loss: 1.5880 - accuracy: 0.3705\n",
      "Epoch 12/20\n",
      "413/413 [==============================] - 17s 40ms/step - loss: 1.4439 - accuracy: 0.4344\n",
      "Epoch 13/20\n",
      "413/413 [==============================] - 16s 40ms/step - loss: 1.2927 - accuracy: 0.5114\n",
      "Epoch 14/20\n",
      "413/413 [==============================] - 16s 40ms/step - loss: 1.1297 - accuracy: 0.5851\n",
      "Epoch 15/20\n",
      "413/413 [==============================] - 17s 40ms/step - loss: 0.9611 - accuracy: 0.6597\n",
      "Epoch 16/20\n",
      "413/413 [==============================] - 17s 40ms/step - loss: 0.8163 - accuracy: 0.7109\n",
      "Epoch 17/20\n",
      "413/413 [==============================] - 16s 40ms/step - loss: 0.7125 - accuracy: 0.7558\n",
      "Epoch 18/20\n",
      "413/413 [==============================] - 17s 41ms/step - loss: 0.6170 - accuracy: 0.7949\n",
      "Epoch 19/20\n",
      "413/413 [==============================] - 17s 40ms/step - loss: 0.5517 - accuracy: 0.8175\n",
      "Epoch 20/20\n",
      "413/413 [==============================] - 17s 40ms/step - loss: 0.4863 - accuracy: 0.8410\n"
     ]
    }
   ],
   "source": [
    "history2=model2.fit(x_train,y_train,epochs=20)"
   ]
  },
  {
   "cell_type": "code",
   "execution_count": 20,
   "id": "a867eea1",
   "metadata": {},
   "outputs": [
    {
     "data": {
      "image/png": "[encoded data removed]",
      "text/plain": [
       "<Figure size 432x288 with 1 Axes>"
      ]
     },
     "metadata": {
      "needs_background": "light"
     },
     "output_type": "display_data"
    }
   ],
   "source": [
    "import matplotlib.pyplot as plt\n",
    "\n",
    "plt.plot(history2.history['accuracy']) \n",
    "plt.plot(history2.history['loss'])\n",
    "\n",
    "plt.title('model accuarcy') \n",
    "plt.xlabel('accuracy') \n",
    "plt.ylabel('epoch')\n",
    "\n",
    "plt.legend(['train','loss']) \n",
    "plt.show()\n"
   ]
  },
  {
   "cell_type": "code",
   "execution_count": 21,
   "id": "374eb311",
   "metadata": {},
   "outputs": [
    {
     "name": "stdout",
     "output_type": "stream",
     "text": [
      "loss: 3.0768606662750244\n",
      "accuracy: 0.4533073902130127\n"
     ]
    }
   ],
   "source": [
    "score = model2.evaluate(x_test,y_test,verbose=0)\n",
    "\n",
    "print(\"loss:\",score[0]) \n",
    "print(\"accuracy:\",score[1])\n"
   ]
  },
  {
   "cell_type": "markdown",
   "id": "d6d68870",
   "metadata": {},
   "source": [
    "### Pre-trained Model Creation"
   ]
  },
  {
   "cell_type": "code",
   "execution_count": 26,
   "id": "8ac79540",
   "metadata": {},
   "outputs": [
    {
     "name": "stderr",
     "output_type": "stream",
     "text": [
      "'wget' is not recognized as an internal or external command,\n",
      "operable program or batch file.\n"
     ]
    }
   ],
   "source": [
    "#Pre-trained Model Creation \n",
    "! wget --no-check-certificate \\\n",
    "    http://nlp.stanford.edu/data/glove.20B.zip \\\n",
    "    -O /tmp/glove.20B.zip"
   ]
  },
  {
   "cell_type": "code",
   "execution_count": null,
   "id": "84fd7951",
   "metadata": {},
   "outputs": [],
   "source": []
  }
 ],
 "metadata": {
  "kernelspec": {
   "display_name": "Python 3 (ipykernel)",
   "language": "python",
   "name": "python3"
  },
  "language_info": {
   "codemirror_mode": {
    "name": "ipython",
    "version": 3
   },
   "file_extension": ".py",
   "mimetype": "text/x-python",
   "name": "python",
   "nbconvert_exporter": "python",
   "pygments_lexer": "ipython3",
   "version": "3.9.12"
  }
 },
 "nbformat": 4,
 "nbformat_minor": 5
}
