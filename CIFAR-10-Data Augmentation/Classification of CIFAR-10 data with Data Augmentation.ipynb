{
 "cells": [
  {
   "cell_type": "markdown",
   "id": "29bd946e",
   "metadata": {},
   "source": [
    "# Classification of CIFAR-10 data with Data Augmentation"
   ]
  },
  {
   "cell_type": "markdown",
   "id": "7928214f",
   "metadata": {},
   "source": [
    "### Step-1:"
   ]
  },
  {
   "cell_type": "code",
   "execution_count": 1,
   "id": "cc7e5e1d",
   "metadata": {},
   "outputs": [],
   "source": [
    "import numpy as np\n",
    "\n",
    "import matplotlib.pyplot as plt\n",
    "%matplotlib inline\n",
    "\n",
    "import keras\n",
    "from keras.datasets import cifar10\n",
    "\n",
    "from keras.utils.np_utils import to_categorical  \n",
    "from keras.backend import categorical_crossentropy\n",
    "\n",
    "from keras.models import Sequential\n",
    "from keras.layers import Dense, Activation, Dropout, Flatten, Conv2D, MaxPooling2D\n",
    "\n",
    "from keras.optimizers import RMSprop\n",
    "\n",
    "from keras.preprocessing.image import ImageDataGenerator"
   ]
  },
  {
   "cell_type": "markdown",
   "id": "feb71c3a",
   "metadata": {},
   "source": [
    "### Step-2:"
   ]
  },
  {
   "cell_type": "code",
   "execution_count": 2,
   "id": "43c21130",
   "metadata": {},
   "outputs": [],
   "source": [
    "(X_train, y_train), (X_test, y_test) = cifar10.load_data()"
   ]
  },
  {
   "cell_type": "code",
   "execution_count": 3,
   "id": "d774d408",
   "metadata": {},
   "outputs": [
    {
     "name": "stdout",
     "output_type": "stream",
     "text": [
      "Shape of X_train is (50000, 32, 32, 3)\n",
      "Shape of X_test is (10000, 32, 32, 3)\n",
      "Shape of y_train is (50000, 1)\n",
      "Shape of y_test is (10000, 1)\n"
     ]
    }
   ],
   "source": [
    "print('Shape of X_train is {}'.format(X_train.shape))\n",
    "print('Shape of X_test is {}'.format(X_test.shape)) \n",
    "print('Shape of y_train is {}'.format(y_train.shape))\n",
    "print('Shape of y_test is {}'.format(y_test.shape))"
   ]
  },
  {
   "cell_type": "markdown",
   "id": "751ee477",
   "metadata": {},
   "source": [
    "### Step-3:"
   ]
  },
  {
   "cell_type": "code",
   "execution_count": 4,
   "id": "c55fda77",
   "metadata": {},
   "outputs": [],
   "source": [
    "num_classes =10\n",
    "y_train = to_categorical(y_train, num_classes)\n",
    "y_test = to_categorical(y_test, num_classes)"
   ]
  },
  {
   "cell_type": "markdown",
   "id": "b24f2dda",
   "metadata": {},
   "source": [
    "### Step-4:"
   ]
  },
  {
   "cell_type": "code",
   "execution_count": 5,
   "id": "56029298",
   "metadata": {},
   "outputs": [],
   "source": [
    "X_train = X_train.astype('float32')\n",
    "X_test = X_test.astype('float32')\n",
    "\n",
    "X_train /= 255\n",
    "X_test /= 255"
   ]
  },
  {
   "cell_type": "code",
   "execution_count": 6,
   "id": "b8ea43ec",
   "metadata": {},
   "outputs": [
    {
     "name": "stdout",
     "output_type": "stream",
     "text": [
      "Shape of one sample of X_train is (32, 32, 3)\n",
      "Shape of one sample of  y_train is (10,)\n"
     ]
    }
   ],
   "source": [
    "print('Shape of one sample of X_train is {}'.format(X_train[37].shape))\n",
    "print('Shape of one sample of  y_train is {}'.format(y_train[37].shape))"
   ]
  },
  {
   "cell_type": "code",
   "execution_count": 7,
   "id": "1616c6fa",
   "metadata": {},
   "outputs": [
    {
     "data": {
      "text/plain": [
       "array([[[0.37254903, 0.4117647 , 0.49803922],\n",
       "        [0.34509805, 0.38039216, 0.47058824],\n",
       "        [0.3372549 , 0.3764706 , 0.4627451 ],\n",
       "        ...,\n",
       "        [0.39607844, 0.45490196, 0.5647059 ],\n",
       "        [0.35686275, 0.42352942, 0.53333336],\n",
       "        [0.4117647 , 0.4862745 , 0.6156863 ]],\n",
       "\n",
       "       [[0.32156864, 0.3529412 , 0.43137255],\n",
       "        [0.29411766, 0.3254902 , 0.40784314],\n",
       "        [0.29803923, 0.32941177, 0.40784314],\n",
       "        ...,\n",
       "        [0.36862746, 0.4       , 0.48235294],\n",
       "        [0.2       , 0.23921569, 0.3137255 ],\n",
       "        [0.32941177, 0.38039216, 0.47843137]],\n",
       "\n",
       "       [[0.3019608 , 0.33333334, 0.40392157],\n",
       "        [0.2901961 , 0.31764707, 0.38431373],\n",
       "        [0.2784314 , 0.30588236, 0.37254903],\n",
       "        ...,\n",
       "        [0.2784314 , 0.2901961 , 0.3372549 ],\n",
       "        [0.18431373, 0.20392157, 0.24705882],\n",
       "        [0.34509805, 0.37254903, 0.43529412]],\n",
       "\n",
       "       ...,\n",
       "\n",
       "       [[0.38039216, 0.37254903, 0.28235295],\n",
       "        [0.36078432, 0.36078432, 0.27058825],\n",
       "        [0.38039216, 0.3647059 , 0.27450982],\n",
       "        ...,\n",
       "        [0.3372549 , 0.35686275, 0.25490198],\n",
       "        [0.36862746, 0.38039216, 0.28235295],\n",
       "        [0.3529412 , 0.38039216, 0.2784314 ]],\n",
       "\n",
       "       [[0.37254903, 0.3529412 , 0.25490198],\n",
       "        [0.32941177, 0.3372549 , 0.23137255],\n",
       "        [0.34901962, 0.34901962, 0.24313726],\n",
       "        ...,\n",
       "        [0.3764706 , 0.38039216, 0.29803923],\n",
       "        [0.4       , 0.3764706 , 0.3019608 ],\n",
       "        [0.38039216, 0.36862746, 0.28627452]],\n",
       "\n",
       "       [[0.35686275, 0.32941177, 0.24705882],\n",
       "        [0.3254902 , 0.31764707, 0.22352941],\n",
       "        [0.32156864, 0.31764707, 0.21568628],\n",
       "        ...,\n",
       "        [0.39215687, 0.3764706 , 0.30588236],\n",
       "        [0.4117647 , 0.38039216, 0.3137255 ],\n",
       "        [0.42352942, 0.4       , 0.3254902 ]]], dtype=float32)"
      ]
     },
     "execution_count": 7,
     "metadata": {},
     "output_type": "execute_result"
    }
   ],
   "source": [
    "X_train[37]"
   ]
  },
  {
   "cell_type": "code",
   "execution_count": 8,
   "id": "8c48e0ae",
   "metadata": {},
   "outputs": [
    {
     "data": {
      "text/plain": [
       "array([0., 0., 0., 0., 0., 0., 0., 1., 0., 0.], dtype=float32)"
      ]
     },
     "execution_count": 8,
     "metadata": {},
     "output_type": "execute_result"
    }
   ],
   "source": [
    "y_train[37]"
   ]
  },
  {
   "cell_type": "markdown",
   "id": "0c687dfe",
   "metadata": {},
   "source": [
    "### Step-5:"
   ]
  },
  {
   "cell_type": "code",
   "execution_count": 9,
   "id": "2fea972e",
   "metadata": {},
   "outputs": [
    {
     "name": "stdout",
     "output_type": "stream",
     "text": [
      "Model: \"sequential\"\n",
      "_________________________________________________________________\n",
      " Layer (type)                Output Shape              Param #   \n",
      "=================================================================\n",
      " conv2d (Conv2D)             (None, 16, 16, 32)        2432      \n",
      "                                                                 \n",
      " activation (Activation)     (None, 16, 16, 32)        0         \n",
      "                                                                 \n",
      " conv2d_1 (Conv2D)           (None, 6, 6, 32)          25632     \n",
      "                                                                 \n",
      " activation_1 (Activation)   (None, 6, 6, 32)          0         \n",
      "                                                                 \n",
      " max_pooling2d (MaxPooling2D  (None, 3, 3, 32)         0         \n",
      " )                                                               \n",
      "                                                                 \n",
      " dropout (Dropout)           (None, 3, 3, 32)          0         \n",
      "                                                                 \n",
      " flatten (Flatten)           (None, 288)               0         \n",
      "                                                                 \n",
      " dense (Dense)               (None, 512)               147968    \n",
      "                                                                 \n",
      " activation_2 (Activation)   (None, 512)               0         \n",
      "                                                                 \n",
      " dropout_1 (Dropout)         (None, 512)               0         \n",
      "                                                                 \n",
      " dense_1 (Dense)             (None, 10)                5130      \n",
      "                                                                 \n",
      " activation_3 (Activation)   (None, 10)                0         \n",
      "                                                                 \n",
      "=================================================================\n",
      "Total params: 181,162\n",
      "Trainable params: 181,162\n",
      "Non-trainable params: 0\n",
      "_________________________________________________________________\n"
     ]
    }
   ],
   "source": [
    "model = Sequential()\n",
    "\n",
    "model.add(Conv2D(32, (5,5), strides=(2,2), padding='same', input_shape=X_train.shape[1:]))\n",
    "model.add(Activation('relu'))\n",
    "\n",
    "model.add(Conv2D(32, (5,5), strides=(2,2)))\n",
    "model.add(Activation('relu'))\n",
    "\n",
    "model.add(MaxPooling2D(pool_size=(2,2)))\n",
    "model.add(Dropout(0.25))\n",
    "\n",
    "model.add(Flatten())\n",
    "model.add(Dense(512))\n",
    "model.add(Activation('relu'))\n",
    "model.add(Dropout(0.5))\n",
    "model.add(Dense(num_classes))\n",
    "model.add(Activation('softmax'))\n",
    "\n",
    "model.summary()"
   ]
  },
  {
   "cell_type": "markdown",
   "id": "b4850555",
   "metadata": {},
   "source": [
    "### Step-6:"
   ]
  },
  {
   "cell_type": "code",
   "execution_count": 10,
   "id": "ecc0e533",
   "metadata": {},
   "outputs": [
    {
     "name": "stderr",
     "output_type": "stream",
     "text": [
      "C:\\Users\\online.CSCENTER\\AppData\\Roaming\\Python\\Python39\\site-packages\\keras\\optimizers\\optimizer_v2\\rmsprop.py:135: UserWarning: The `lr` argument is deprecated, use `learning_rate` instead.\n",
      "  super(RMSprop, self).__init__(name, **kwargs)\n"
     ]
    },
    {
     "name": "stdout",
     "output_type": "stream",
     "text": [
      "Epoch 1/15\n",
      "1563/1563 - 10s - loss: 1.7493 - accuracy: 0.3611 - val_loss: 1.4688 - val_accuracy: 0.4775 - 10s/epoch - 6ms/step\n",
      "Epoch 2/15\n",
      "1563/1563 - 9s - loss: 1.4633 - accuracy: 0.4698 - val_loss: 1.3056 - val_accuracy: 0.5303 - 9s/epoch - 6ms/step\n",
      "Epoch 3/15\n",
      "1563/1563 - 9s - loss: 1.3578 - accuracy: 0.5141 - val_loss: 1.2244 - val_accuracy: 0.5605 - 9s/epoch - 6ms/step\n",
      "Epoch 4/15\n",
      "1563/1563 - 9s - loss: 1.2870 - accuracy: 0.5400 - val_loss: 1.1707 - val_accuracy: 0.5869 - 9s/epoch - 6ms/step\n",
      "Epoch 5/15\n",
      "1563/1563 - 9s - loss: 1.2435 - accuracy: 0.5584 - val_loss: 1.1638 - val_accuracy: 0.5939 - 9s/epoch - 6ms/step\n",
      "Epoch 6/15\n",
      "1563/1563 - 9s - loss: 1.2099 - accuracy: 0.5735 - val_loss: 1.1583 - val_accuracy: 0.6008 - 9s/epoch - 6ms/step\n",
      "Epoch 7/15\n",
      "1563/1563 - 9s - loss: 1.1741 - accuracy: 0.5853 - val_loss: 1.3946 - val_accuracy: 0.5318 - 9s/epoch - 6ms/step\n",
      "Epoch 8/15\n",
      "1563/1563 - 9s - loss: 1.1533 - accuracy: 0.5945 - val_loss: 1.1534 - val_accuracy: 0.5850 - 9s/epoch - 6ms/step\n",
      "Epoch 9/15\n",
      "1563/1563 - 9s - loss: 1.1348 - accuracy: 0.6019 - val_loss: 1.1003 - val_accuracy: 0.6144 - 9s/epoch - 6ms/step\n",
      "Epoch 10/15\n",
      "1563/1563 - 9s - loss: 1.1226 - accuracy: 0.6082 - val_loss: 1.0882 - val_accuracy: 0.6261 - 9s/epoch - 6ms/step\n",
      "Epoch 11/15\n",
      "1563/1563 - 9s - loss: 1.1095 - accuracy: 0.6151 - val_loss: 1.1625 - val_accuracy: 0.6064 - 9s/epoch - 6ms/step\n",
      "Epoch 12/15\n",
      "1563/1563 - 9s - loss: 1.1017 - accuracy: 0.6193 - val_loss: 1.1149 - val_accuracy: 0.6210 - 9s/epoch - 6ms/step\n",
      "Epoch 13/15\n",
      "1563/1563 - 9s - loss: 1.0953 - accuracy: 0.6234 - val_loss: 1.0929 - val_accuracy: 0.6239 - 9s/epoch - 6ms/step\n",
      "Epoch 14/15\n",
      "1563/1563 - 9s - loss: 1.0916 - accuracy: 0.6261 - val_loss: 1.0962 - val_accuracy: 0.6299 - 9s/epoch - 6ms/step\n",
      "Epoch 15/15\n",
      "1563/1563 - 9s - loss: 1.0863 - accuracy: 0.6281 - val_loss: 1.0578 - val_accuracy: 0.6427 - 9s/epoch - 6ms/step\n"
     ]
    }
   ],
   "source": [
    "batch_size=32\n",
    "\n",
    "opt = RMSprop(lr=0.0005, decay=1e-6)\n",
    "\n",
    "model.compile(loss='categorical_crossentropy', optimizer=opt, metrics=['accuracy'])\n",
    "\n",
    "history = model.fit(X_train, y_train, batch_size=32, epochs=15, verbose=2, validation_data=(X_test,y_test))"
   ]
  },
  {
   "cell_type": "code",
   "execution_count": 11,
   "id": "a91488de",
   "metadata": {},
   "outputs": [
    {
     "data": {
      "image/png": "[encoded data removed]",
      "text/plain": [
       "<Figure size 1440x360 with 2 Axes>"
      ]
     },
     "metadata": {
      "needs_background": "light"
     },
     "output_type": "display_data"
    }
   ],
   "source": [
    "fig = plt.figure(figsize=(20, 5))\n",
    "\n",
    "fig.add_subplot(1,2,1)\n",
    "plt.plot(history.history['loss'])\n",
    "plt.plot(history.history['val_loss'])\n",
    "plt.title('Model Loss')\n",
    "plt.ylabel('loss')\n",
    "plt.xlabel('epoch')\n",
    "plt.legend(['train', 'validation'], loc='upper left')\n",
    "\n",
    "fig.add_subplot(1,2,2)\n",
    "plt.plot(history.history['accuracy'])\n",
    "plt.plot(history.history['val_accuracy'])\n",
    "plt.title('Model Accuracy')\n",
    "plt.ylabel('accuracy')\n",
    "plt.xlabel('epoch')\n",
    "plt.legend(['train', 'validation'], loc='upper left')\n",
    "plt.show()"
   ]
  },
  {
   "cell_type": "markdown",
   "id": "4ef52296",
   "metadata": {},
   "source": [
    "### Step-7:"
   ]
  },
  {
   "cell_type": "code",
   "execution_count": 12,
   "id": "690888bb",
   "metadata": {},
   "outputs": [
    {
     "name": "stdout",
     "output_type": "stream",
     "text": [
      "Model: \"sequential_1\"\n",
      "_________________________________________________________________\n",
      " Layer (type)                Output Shape              Param #   \n",
      "=================================================================\n",
      " conv2d_2 (Conv2D)           (None, 16, 16, 32)        2432      \n",
      "                                                                 \n",
      " activation_4 (Activation)   (None, 16, 16, 32)        0         \n",
      "                                                                 \n",
      " conv2d_3 (Conv2D)           (None, 6, 6, 32)          25632     \n",
      "                                                                 \n",
      " activation_5 (Activation)   (None, 6, 6, 32)          0         \n",
      "                                                                 \n",
      " max_pooling2d_1 (MaxPooling  (None, 3, 3, 32)         0         \n",
      " 2D)                                                             \n",
      "                                                                 \n",
      " dropout_2 (Dropout)         (None, 3, 3, 32)          0         \n",
      "                                                                 \n",
      " flatten_1 (Flatten)         (None, 288)               0         \n",
      "                                                                 \n",
      " dense_2 (Dense)             (None, 512)               147968    \n",
      "                                                                 \n",
      " activation_6 (Activation)   (None, 512)               0         \n",
      "                                                                 \n",
      " dropout_3 (Dropout)         (None, 512)               0         \n",
      "                                                                 \n",
      " dense_3 (Dense)             (None, 10)                5130      \n",
      "                                                                 \n",
      " activation_7 (Activation)   (None, 10)                0         \n",
      "                                                                 \n",
      "=================================================================\n",
      "Total params: 181,162\n",
      "Trainable params: 181,162\n",
      "Non-trainable params: 0\n",
      "_________________________________________________________________\n"
     ]
    }
   ],
   "source": [
    "model1 = Sequential()\n",
    "\n",
    "model1.add(Conv2D(32, (5,5), strides=(2,2), padding='same', input_shape=X_train.shape[1:]))\n",
    "model1.add(Activation('relu'))\n",
    "\n",
    "model1.add(Conv2D(32, (5,5), strides=(2,2)))\n",
    "model1.add(Activation('relu'))\n",
    "\n",
    "model1.add(MaxPooling2D(pool_size=(2,2)))\n",
    "model1.add(Dropout(0.25))\n",
    "\n",
    "model1.add(Flatten())\n",
    "model1.add(Dense(512))\n",
    "model1.add(Activation('relu'))\n",
    "model1.add(Dropout(0.5))\n",
    "model1.add(Dense(num_classes))\n",
    "model1.add(Activation('softmax'))\n",
    "\n",
    "model1.summary()"
   ]
  },
  {
   "cell_type": "code",
   "execution_count": 13,
   "id": "7e8a4aa2",
   "metadata": {},
   "outputs": [],
   "source": [
    "datagen = ImageDataGenerator(featurewise_center=False, \n",
    "                             samplewise_center=False,\n",
    "                             featurewise_std_normalization=False,\n",
    "                             samplewise_std_normalization=False,\n",
    "                             zca_whitening=False,\n",
    "                             rotation_range=0,\n",
    "                             width_shift_range=0.1,\n",
    "                             height_shift_range=0.1,\n",
    "                             horizontal_flip=True,\n",
    "                             vertical_flip=False)\n",
    "\n",
    "datagen.fit(X_train)"
   ]
  },
  {
   "cell_type": "code",
   "execution_count": 14,
   "id": "6ab2ebbd",
   "metadata": {},
   "outputs": [],
   "source": [
    "batch_size=32\n",
    "\n",
    "opt = RMSprop(lr=0.0005, decay=1e-6)\n",
    "\n",
    "model1.compile(loss='categorical_crossentropy', optimizer=opt, metrics=['accuracy'])"
   ]
  },
  {
   "cell_type": "code",
   "execution_count": 15,
   "id": "a5fed56d",
   "metadata": {},
   "outputs": [
    {
     "name": "stdout",
     "output_type": "stream",
     "text": [
      "Epoch 1/15\n"
     ]
    },
    {
     "name": "stderr",
     "output_type": "stream",
     "text": [
      "C:\\Users\\online.CSCENTER\\AppData\\Local\\Temp\\ipykernel_11568\\1094536194.py:1: UserWarning: `Model.fit_generator` is deprecated and will be removed in a future version. Please use `Model.fit`, which supports generators.\n",
      "  history1 = model1.fit_generator(datagen.flow(X_train, y_train, batch_size=32),\n"
     ]
    },
    {
     "name": "stdout",
     "output_type": "stream",
     "text": [
      "1562/1562 [==============================] - 15s 10ms/step - loss: 1.7645 - accuracy: 0.3532 - val_loss: 1.4254 - val_accuracy: 0.4822\n",
      "Epoch 2/15\n",
      "1562/1562 [==============================] - 15s 10ms/step - loss: 1.5202 - accuracy: 0.4501 - val_loss: 1.3308 - val_accuracy: 0.5203\n",
      "Epoch 3/15\n",
      "1562/1562 [==============================] - 15s 9ms/step - loss: 1.4332 - accuracy: 0.4860 - val_loss: 1.2437 - val_accuracy: 0.5510\n",
      "Epoch 4/15\n",
      "1562/1562 [==============================] - 15s 9ms/step - loss: 1.3815 - accuracy: 0.5035 - val_loss: 1.1980 - val_accuracy: 0.5764\n",
      "Epoch 5/15\n",
      "1562/1562 [==============================] - 15s 10ms/step - loss: 1.3403 - accuracy: 0.5226 - val_loss: 1.1749 - val_accuracy: 0.5855\n",
      "Epoch 6/15\n",
      "1562/1562 [==============================] - 15s 10ms/step - loss: 1.3192 - accuracy: 0.5333 - val_loss: 1.1504 - val_accuracy: 0.5918\n",
      "Epoch 7/15\n",
      "1562/1562 [==============================] - 15s 10ms/step - loss: 1.3080 - accuracy: 0.5372 - val_loss: 1.1215 - val_accuracy: 0.6070\n",
      "Epoch 8/15\n",
      "1562/1562 [==============================] - 15s 10ms/step - loss: 1.2917 - accuracy: 0.5434 - val_loss: 1.1271 - val_accuracy: 0.6116\n",
      "Epoch 9/15\n",
      "1562/1562 [==============================] - 15s 10ms/step - loss: 1.2837 - accuracy: 0.5486 - val_loss: 1.1031 - val_accuracy: 0.6138\n",
      "Epoch 10/15\n",
      "1562/1562 [==============================] - 15s 9ms/step - loss: 1.2759 - accuracy: 0.5558 - val_loss: 1.1552 - val_accuracy: 0.6064\n",
      "Epoch 11/15\n",
      "1562/1562 [==============================] - 15s 9ms/step - loss: 1.2671 - accuracy: 0.5549 - val_loss: 1.1020 - val_accuracy: 0.6123\n",
      "Epoch 12/15\n",
      "1562/1562 [==============================] - 15s 10ms/step - loss: 1.2707 - accuracy: 0.5607 - val_loss: 1.0618 - val_accuracy: 0.6306\n",
      "Epoch 13/15\n",
      "1562/1562 [==============================] - 15s 10ms/step - loss: 1.2670 - accuracy: 0.5645 - val_loss: 1.1255 - val_accuracy: 0.6137\n",
      "Epoch 14/15\n",
      "1562/1562 [==============================] - 15s 10ms/step - loss: 1.2616 - accuracy: 0.5624 - val_loss: 1.0760 - val_accuracy: 0.6281\n",
      "Epoch 15/15\n",
      "1562/1562 [==============================] - 15s 10ms/step - loss: 1.2563 - accuracy: 0.5657 - val_loss: 1.0465 - val_accuracy: 0.6355\n"
     ]
    }
   ],
   "source": [
    "history1 = model1.fit_generator(datagen.flow(X_train, y_train, batch_size=32),\n",
    "                                steps_per_epoch=X_train.shape[0] // batch_size,\n",
    "                                epochs=15,\n",
    "                                validation_data=(X_test, y_test))"
   ]
  },
  {
   "cell_type": "code",
   "execution_count": 16,
   "id": "e84cf099",
   "metadata": {},
   "outputs": [
    {
     "data": {
      "image/png": "[encoded data removed]",
      "text/plain": [
       "<Figure size 1440x360 with 2 Axes>"
      ]
     },
     "metadata": {
      "needs_background": "light"
     },
     "output_type": "display_data"
    }
   ],
   "source": [
    "fig = plt.figure(figsize=(20, 5))\n",
    "\n",
    "fig.add_subplot(1,2,1)\n",
    "plt.plot(history1.history['loss'])\n",
    "plt.plot(history1.history['val_loss'])\n",
    "plt.title('Model 1 Loss')\n",
    "plt.ylabel('loss')\n",
    "plt.xlabel('epoch')\n",
    "plt.legend(['train', 'validation'], loc='upper left')\n",
    "\n",
    "fig.add_subplot(1,2,2)\n",
    "plt.plot(history1.history['accuracy'])\n",
    "plt.plot(history1.history['val_accuracy'])\n",
    "plt.title('Model 1 Accuracy')\n",
    "plt.ylabel('accuracy')\n",
    "plt.xlabel('epoch')\n",
    "plt.legend(['train', 'validation'], loc='upper left')\n",
    "plt.show()"
   ]
  },
  {
   "cell_type": "markdown",
   "id": "2d30c156",
   "metadata": {},
   "source": [
    "### Step-8:"
   ]
  },
  {
   "cell_type": "code",
   "execution_count": 20,
   "id": "f1774d29",
   "metadata": {},
   "outputs": [
    {
     "data": {
      "image/png": "[encoded data removed]",
      "text/plain": [
       "<Figure size 720x360 with 1 Axes>"
      ]
     },
     "metadata": {
      "needs_background": "light"
     },
     "output_type": "display_data"
    }
   ],
   "source": [
    "plt.figure(figsize=(10, 5))\n",
    "plt.plot(history.history['accuracy'])\n",
    "plt.plot(history1.history['accuracy'])\n",
    "plt.title('Comparision of accuracy of two models')\n",
    "plt.ylabel('accuracy')\n",
    "plt.xlabel('epoch')\n",
    "plt.legend(['Model', 'Model with Data Augumentation'], loc='upper left')\n",
    "plt.show()"
   ]
  },
  {
   "cell_type": "markdown",
   "id": "d28d5286",
   "metadata": {},
   "source": [
    "1. The performance with non-augmented training is better than augmented training.\n",
    "\n",
    "\n",
    "2. Yes, by tunning hyperparameters we could make the model with augmented training performs better."
   ]
  },
  {
   "cell_type": "markdown",
   "id": "7d94686f",
   "metadata": {},
   "source": [
    "### Step-9:"
   ]
  },
  {
   "cell_type": "code",
   "execution_count": 21,
   "id": "5a9ff4bd",
   "metadata": {},
   "outputs": [
    {
     "name": "stdout",
     "output_type": "stream",
     "text": [
      "Model: \"sequential_2\"\n",
      "_________________________________________________________________\n",
      " Layer (type)                Output Shape              Param #   \n",
      "=================================================================\n",
      " conv2d_4 (Conv2D)           (None, 32, 32, 32)        2432      \n",
      "                                                                 \n",
      " conv2d_5 (Conv2D)           (None, 28, 28, 32)        25632     \n",
      "                                                                 \n",
      " activation_8 (Activation)   (None, 28, 28, 32)        0         \n",
      "                                                                 \n",
      " max_pooling2d_2 (MaxPooling  (None, 14, 14, 32)       0         \n",
      " 2D)                                                             \n",
      "                                                                 \n",
      " conv2d_6 (Conv2D)           (None, 14, 14, 32)        25632     \n",
      "                                                                 \n",
      " conv2d_7 (Conv2D)           (None, 10, 10, 32)        25632     \n",
      "                                                                 \n",
      " activation_9 (Activation)   (None, 10, 10, 32)        0         \n",
      "                                                                 \n",
      " max_pooling2d_3 (MaxPooling  (None, 5, 5, 32)         0         \n",
      " 2D)                                                             \n",
      "                                                                 \n",
      " flatten_2 (Flatten)         (None, 800)               0         \n",
      "                                                                 \n",
      " dense_4 (Dense)             (None, 512)               410112    \n",
      "                                                                 \n",
      " activation_10 (Activation)  (None, 512)               0         \n",
      "                                                                 \n",
      " dense_5 (Dense)             (None, 10)                5130      \n",
      "                                                                 \n",
      " activation_11 (Activation)  (None, 10)                0         \n",
      "                                                                 \n",
      "=================================================================\n",
      "Total params: 494,570\n",
      "Trainable params: 494,570\n",
      "Non-trainable params: 0\n",
      "_________________________________________________________________\n"
     ]
    }
   ],
   "source": [
    "model2 = Sequential()\n",
    "\n",
    "model2.add(Conv2D(32, (5,5), strides=(1,1), padding='same', activation='relu', input_shape=X_train.shape[1:]))\n",
    "model2.add(Conv2D(32, (5,5), strides=(1,1)))\n",
    "model2.add(Activation('relu'))\n",
    "\n",
    "model2.add(MaxPooling2D(pool_size=(2,2)))\n",
    "\n",
    "model2.add(Conv2D(32, (5,5), strides=(1,1), padding='same', activation='relu'))\n",
    "model2.add(Conv2D(32,(5,5), strides=(1,1)))\n",
    "model2.add(Activation('relu'))\n",
    "\n",
    "model2.add(MaxPooling2D(pool_size=(2,2)))\n",
    "\n",
    "model2.add(Flatten())\n",
    "model2.add(Dense(512))\n",
    "model2.add(Activation('relu'))\n",
    "model2.add(Dense(num_classes))\n",
    "model2.add(Activation('softmax'))\n",
    "\n",
    "model2.summary()"
   ]
  },
  {
   "cell_type": "code",
   "execution_count": 22,
   "id": "b54068b4",
   "metadata": {},
   "outputs": [],
   "source": [
    "batch_size=32\n",
    "\n",
    "opt = RMSprop(lr=0.0005, decay=1e-6)\n",
    "\n",
    "model2.compile(loss='categorical_crossentropy', optimizer=opt, metrics=['accuracy'])"
   ]
  },
  {
   "cell_type": "code",
   "execution_count": null,
   "id": "f44db18c",
   "metadata": {},
   "outputs": [
    {
     "name": "stdout",
     "output_type": "stream",
     "text": [
      "Epoch 1/15\n"
     ]
    },
    {
     "name": "stderr",
     "output_type": "stream",
     "text": [
      "C:\\Users\\online.CSCENTER\\AppData\\Local\\Temp\\ipykernel_11568\\2449519846.py:1: UserWarning: `Model.fit_generator` is deprecated and will be removed in a future version. Please use `Model.fit`, which supports generators.\n",
      "  history2 = model2.fit_generator(datagen.flow(X_train,y_train,batch_size=batch_size),\n"
     ]
    },
    {
     "name": "stdout",
     "output_type": "stream",
     "text": [
      "1562/1562 [==============================] - 117s 75ms/step - loss: 1.6254 - accuracy: 0.4098 - val_loss: 1.3183 - val_accuracy: 0.5351\n",
      "Epoch 2/15\n",
      "1562/1562 [==============================] - 115s 74ms/step - loss: 1.2309 - accuracy: 0.5611 - val_loss: 1.0829 - val_accuracy: 0.6170\n",
      "Epoch 3/15\n",
      "1562/1562 [==============================] - 115s 73ms/step - loss: 1.0586 - accuracy: 0.6290 - val_loss: 0.9259 - val_accuracy: 0.6767\n",
      "Epoch 4/15\n",
      "1562/1562 [==============================] - 114s 73ms/step - loss: 0.9647 - accuracy: 0.6623 - val_loss: 0.8325 - val_accuracy: 0.7089\n",
      "Epoch 5/15\n",
      "1562/1562 [==============================] - 114s 73ms/step - loss: 0.9026 - accuracy: 0.6891 - val_loss: 0.8038 - val_accuracy: 0.7224\n",
      "Epoch 6/15\n",
      "1562/1562 [==============================] - 114s 73ms/step - loss: 0.8703 - accuracy: 0.6990 - val_loss: 0.8373 - val_accuracy: 0.7128\n",
      "Epoch 7/15\n",
      "1562/1562 [==============================] - 114s 73ms/step - loss: 0.8560 - accuracy: 0.7069 - val_loss: 0.8109 - val_accuracy: 0.7222\n",
      "Epoch 8/15\n",
      "1562/1562 [==============================] - 114s 73ms/step - loss: 0.8444 - accuracy: 0.7117 - val_loss: 0.7723 - val_accuracy: 0.7356\n",
      "Epoch 9/15\n",
      "1562/1562 [==============================] - 114s 73ms/step - loss: 0.8436 - accuracy: 0.7133 - val_loss: 0.7819 - val_accuracy: 0.7473\n",
      "Epoch 10/15\n",
      " 747/1562 [=============>................] - ETA: 58s - loss: 0.8353 - accuracy: 0.7173"
     ]
    }
   ],
   "source": [
    "history2 = model2.fit_generator(datagen.flow(X_train,y_train,batch_size=batch_size),\n",
    "                                steps_per_epoch=X_train.shape[0] // batch_size,\n",
    "                                epochs=15,\n",
    "                                validation_data=(X_test,y_test))"
   ]
  },
  {
   "cell_type": "code",
   "execution_count": null,
   "id": "e1638e7b",
   "metadata": {},
   "outputs": [],
   "source": [
    "fig = plt.figure(figsize=(20, 5))\n",
    "\n",
    "fig.add_subplot(1,2,1)\n",
    "plt.plot(history2.history['loss'])\n",
    "plt.plot(history2.history['val_loss'])\n",
    "plt.title('Model 2 Loss')\n",
    "plt.ylabel('loss')\n",
    "plt.xlabel('epoch')\n",
    "plt.legend(['train', 'validation'], loc='upper left')\n",
    "\n",
    "fig.add_subplot(1,2,2)\n",
    "plt.plot(history2.history['accuracy'])\n",
    "plt.plot(history2.history['val_accuracy'])\n",
    "plt.title('Model 2 Accuracy')\n",
    "plt.ylabel('accuracy')\n",
    "plt.xlabel('epoch')\n",
    "plt.legend(['train', 'validation'], loc='upper left')\n",
    "plt.show()"
   ]
  },
  {
   "cell_type": "code",
   "execution_count": null,
   "id": "913f34d9",
   "metadata": {},
   "outputs": [],
   "source": []
  }
 ],
 "metadata": {
  "kernelspec": {
   "display_name": "Python 3 (ipykernel)",
   "language": "python",
   "name": "python3"
  },
  "language_info": {
   "codemirror_mode": {
    "name": "ipython",
    "version": 3
   },
   "file_extension": ".py",
   "mimetype": "text/x-python",
   "name": "python",
   "nbconvert_exporter": "python",
   "pygments_lexer": "ipython3",
   "version": "3.9.12"
  }
 },
 "nbformat": 4,
 "nbformat_minor": 5
}
