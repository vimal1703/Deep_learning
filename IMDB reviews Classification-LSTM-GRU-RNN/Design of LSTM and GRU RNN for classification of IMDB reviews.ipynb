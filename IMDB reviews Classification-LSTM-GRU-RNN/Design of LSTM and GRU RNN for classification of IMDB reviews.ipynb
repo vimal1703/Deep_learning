{
 "cells": [
  {
   "cell_type": "markdown",
   "metadata": {
    "id": "Ko7aKbGjXwgp"
   },
   "source": [
    "# Design of LSTM and GRU RNN for classification of IMDB reviews"
   ]
  },
  {
   "cell_type": "markdown",
   "metadata": {
    "id": "E9aqx6vkurzX"
   },
   "source": [
    "### Step-1"
   ]
  },
  {
   "cell_type": "code",
   "execution_count": 46,
   "metadata": {
    "id": "V93vdGIHWZaD"
   },
   "outputs": [],
   "source": [
    "import pandas as pd    # to load dataset\n",
    "import numpy as np     # for mathematic equation\n",
    "from nltk.corpus import stopwords   # to get collection of stopwords\n",
    "from sklearn.model_selection import train_test_split       # for splitting dataset\n",
    "from tensorflow.keras.preprocessing.text import Tokenizer  # to encode text to int\n",
    "from tensorflow.keras.preprocessing.sequence import pad_sequences   # to do padding or truncating\n",
    "from tensorflow.keras.models import Sequential     # the model\n",
    "from tensorflow.keras.layers import Embedding, LSTM, Dense # layers of the architecture\n",
    "from tensorflow.keras.callbacks import ModelCheckpoint   # save model\n",
    "from tensorflow.keras.models import load_model   # load saved model\n",
    "import re\n",
    "from tensorflow.keras.layers import Bidirectional"
   ]
  },
  {
   "cell_type": "code",
   "execution_count": 19,
   "metadata": {
    "colab": {
     "base_uri": "https://localhost:8080/",
     "height": 0
    },
    "id": "zCReSC0WobP0",
    "outputId": "f400b2bb-eca2-452e-8ca7-56d28ed1f3b7"
   },
   "outputs": [
    {
     "name": "stdout",
     "output_type": "stream",
     "text": [
      "                                                  review sentiment\n",
      "0      One of the other reviewers has mentioned that ...  positive\n",
      "1      A wonderful little production. <br /><br />The...  positive\n",
      "2      I thought this was a wonderful way to spend ti...  positive\n",
      "3      Basically there's a family where a little boy ...  negative\n",
      "4      Petter Mattei's \"Love in the Time of Money\" is...  positive\n",
      "...                                                  ...       ...\n",
      "49995  I thought this movie did a down right good job...  positive\n",
      "49996  Bad plot, bad dialogue, bad acting, idiotic di...  negative\n",
      "49997  I am a Catholic taught in parochial elementary...  negative\n",
      "49998  I'm going to have to disagree with the previou...  negative\n",
      "49999  No one expects the Star Trek movies to be high...  negative\n",
      "\n",
      "[50000 rows x 2 columns]\n"
     ]
    }
   ],
   "source": [
    "data = pd.read_csv('IMDB Dataset.csv')\n",
    "\n",
    "print(data)"
   ]
  },
  {
   "cell_type": "markdown",
   "metadata": {
    "id": "sOCiZn7Ruvou"
   },
   "source": [
    "### Step-2"
   ]
  },
  {
   "cell_type": "code",
   "execution_count": 24,
   "metadata": {
    "id": "a9waLD4_q335"
   },
   "outputs": [],
   "source": [
    "english_stops = set(stopwords.words('english'))"
   ]
  },
  {
   "cell_type": "code",
   "execution_count": 25,
   "metadata": {
    "colab": {
     "base_uri": "https://localhost:8080/",
     "height": 0
    },
    "id": "hna1AROTq7zI",
    "outputId": "61ab3d53-9dd2-4b26-fd28-42a1a1c1122f"
   },
   "outputs": [
    {
     "name": "stdout",
     "output_type": "stream",
     "text": [
      "Reviews\n",
      "0        [one, reviewers, mentioned, watching, oz, epis...\n",
      "1        [a, wonderful, little, production, the, filmin...\n",
      "2        [i, thought, wonderful, way, spend, time, hot,...\n",
      "3        [basically, family, little, boy, jake, thinks,...\n",
      "4        [petter, mattei, love, time, money, visually, ...\n",
      "                               ...                        \n",
      "49995    [i, thought, movie, right, good, job, it, crea...\n",
      "49996    [bad, plot, bad, dialogue, bad, acting, idioti...\n",
      "49997    [i, catholic, taught, parochial, elementary, s...\n",
      "49998    [i, going, disagree, previous, comment, side, ...\n",
      "49999    [no, one, expects, star, trek, movies, high, a...\n",
      "Name: review, Length: 50000, dtype: object \n",
      "\n",
      "Sentiment\n",
      "0        1\n",
      "1        1\n",
      "2        1\n",
      "3        0\n",
      "4        1\n",
      "        ..\n",
      "49995    1\n",
      "49996    0\n",
      "49997    0\n",
      "49998    0\n",
      "49999    0\n",
      "Name: sentiment, Length: 50000, dtype: int64\n"
     ]
    }
   ],
   "source": [
    "def load_dataset():\n",
    "    df = pd.read_csv('IMDB Dataset.csv')\n",
    "    x_data = df['review']       # Reviews/Input\n",
    "    y_data = df['sentiment']    # Sentiment/Output\n",
    "\n",
    "    # PRE-PROCESS REVIEW\n",
    "    x_data = x_data.replace({'<.*?>': ''}, regex = True)          # remove html tag\n",
    "    x_data = x_data.replace({'[^A-Za-z]': ' '}, regex = True)     # remove non alphabet\n",
    "    x_data = x_data.apply(lambda review: [w for w in review.split() if w not in english_stops])  # remove stop words\n",
    "    x_data = x_data.apply(lambda review: [w.lower() for w in review])   # lower case\n",
    "    \n",
    "    # ENCODE SENTIMENT -> 0 & 1\n",
    "    y_data = y_data.replace('positive', 1)\n",
    "    y_data = y_data.replace('negative', 0)\n",
    "\n",
    "    return x_data, y_data\n",
    "\n",
    "x_data, y_data = load_dataset()\n",
    "\n",
    "print('Reviews')\n",
    "print(x_data, '\\n')\n",
    "print('Sentiment')\n",
    "print(y_data)"
   ]
  },
  {
   "cell_type": "markdown",
   "metadata": {
    "id": "zWmWLqXOuzAl"
   },
   "source": [
    "### Step-3"
   ]
  },
  {
   "cell_type": "code",
   "execution_count": 26,
   "metadata": {
    "colab": {
     "base_uri": "https://localhost:8080/",
     "height": 0
    },
    "id": "rpYHsaMOrXwK",
    "outputId": "82693008-f3f2-4847-81b8-97999d5e9d75"
   },
   "outputs": [
    {
     "name": "stdout",
     "output_type": "stream",
     "text": [
      "Train Set\n",
      "49688    [is, possible, movie, get, worse, there, bunch...\n",
      "16549    [barney, friends, probably, worst, kids, show,...\n",
      "4815     [minutes, nope, thing, minutes, tops, if, cann...\n",
      "42233    [well, safe, say, subconscious, cruelty, one, ...\n",
      "49020    [this, program, certainly, favorite, non, sitc...\n",
      "                               ...                        \n",
      "43842    [everything, i, remember, excellent, great, ca...\n",
      "1803     [christian, propaganda, lots, fear, mongering,...\n",
      "5641     [bought, movie, bargain, bin, rogers, video, s...\n",
      "10911    [before, watching, film, i, low, expectations,...\n",
      "25513    [in, light, recent, quite, good, batman, brave...\n",
      "Name: review, Length: 40000, dtype: object \n",
      "\n",
      "7319     [i, understand, people, the, film, neither, go...\n",
      "26626    [the, world, war, one, best, documentaries, wo...\n",
      "2549     [let, face, perfect, production, hamlet, simpl...\n",
      "22197    [fata, morgana, absolute, masterpiece, it, wer...\n",
      "27648    [in, past, years, i, rented, bad, movies, comp...\n",
      "                               ...                        \n",
      "23757    [a, four, half, hour, o, neill, play, gets, bo...\n",
      "38126    [i, saw, this, happened, i, seven, movie, we, ...\n",
      "16342    [i, high, hopes, troy, i, bitterly, disappoint...\n",
      "37807    [usually, movie, starts, bad, stays, bad, mono...\n",
      "28543    [nigel, balchin, maze, like, novel, a, way, th...\n",
      "Name: review, Length: 10000, dtype: object \n",
      "\n",
      "Test Set\n",
      "49688    0\n",
      "16549    0\n",
      "4815     0\n",
      "42233    1\n",
      "49020    1\n",
      "        ..\n",
      "43842    1\n",
      "1803     0\n",
      "5641     0\n",
      "10911    0\n",
      "25513    0\n",
      "Name: sentiment, Length: 40000, dtype: int64 \n",
      "\n",
      "7319     0\n",
      "26626    1\n",
      "2549     1\n",
      "22197    1\n",
      "27648    0\n",
      "        ..\n",
      "23757    0\n",
      "38126    1\n",
      "16342    0\n",
      "37807    0\n",
      "28543    1\n",
      "Name: sentiment, Length: 10000, dtype: int64\n"
     ]
    }
   ],
   "source": [
    "x_train, x_test, y_train, y_test = train_test_split(x_data, y_data, test_size = 0.2)\n",
    "\n",
    "print('Train Set')\n",
    "print(x_train, '\\n')\n",
    "print(x_test, '\\n')\n",
    "print('Test Set')\n",
    "print(y_train, '\\n')\n",
    "print(y_test)"
   ]
  },
  {
   "cell_type": "code",
   "execution_count": 30,
   "metadata": {
    "id": "c5S3yT6LsssB"
   },
   "outputs": [],
   "source": [
    "def get_max_length():\n",
    "    review_length = []\n",
    "    for review in x_train:\n",
    "        review_length.append(len(review))\n",
    "\n",
    "    return int(np.ceil(np.mean(review_length)))"
   ]
  },
  {
   "cell_type": "code",
   "execution_count": 31,
   "metadata": {
    "colab": {
     "base_uri": "https://localhost:8080/",
     "height": 0
    },
    "id": "IeI8I5jBrhqg",
    "outputId": "c2092caf-18f2-4886-c597-4f0cbbcc1824"
   },
   "outputs": [
    {
     "name": "stdout",
     "output_type": "stream",
     "text": [
      "Encoded X Train\n",
      " [[ 506  530    3 ...    0    0    0]\n",
      " [4001  264  144 ... 2483  458    1]\n",
      " [ 134 6077   65 ...    0    0    0]\n",
      " ...\n",
      " [1123    3 4652 ...    0    0    0]\n",
      " [1588   66    4 ...    0    0    0]\n",
      " [  49  558 1108 ...    0    0    0]] \n",
      "\n",
      "Encoded X Test\n",
      " [[    1   288    21 ...     0     0     0]\n",
      " [    2    85   201 ...     0     0     0]\n",
      " [  186   301   299 ... 11250  3431  7797]\n",
      " ...\n",
      " [    1   206  1927 ...     0     0     0]\n",
      " [  539     3   445 ...     0     0     0]\n",
      " [ 9250 38128  8622 ...   890  1907 38712]] \n",
      "\n",
      "Maximum review length:  130\n"
     ]
    }
   ],
   "source": [
    "# ENCODE REVIEW\n",
    "token = Tokenizer(lower=False)    # no need lower, because already lowered the data in load_data()\n",
    "token.fit_on_texts(x_train)\n",
    "x_train = token.texts_to_sequences(x_train)\n",
    "x_test = token.texts_to_sequences(x_test)\n",
    "\n",
    "max_length = get_max_length()\n",
    "\n",
    "x_train = pad_sequences(x_train, maxlen=max_length, padding='post', truncating='post')\n",
    "x_test = pad_sequences(x_test, maxlen=max_length, padding='post', truncating='post')\n",
    "\n",
    "total_words = len(token.word_index) + 1   # add 1 because of 0 padding\n",
    "\n",
    "print('Encoded X Train\\n', x_train, '\\n')\n",
    "print('Encoded X Test\\n', x_test, '\\n')\n",
    "print('Maximum review length: ', max_length)"
   ]
  },
  {
   "cell_type": "markdown",
   "metadata": {
    "id": "O6t84DuMu5TW"
   },
   "source": [
    "### Step-4"
   ]
  },
  {
   "cell_type": "code",
   "execution_count": 33,
   "metadata": {
    "colab": {
     "base_uri": "https://localhost:8080/",
     "height": 0
    },
    "id": "S2n3umyVsDRZ",
    "outputId": "c71fbff6-d279-4f8e-ac3d-1c3bada7b238"
   },
   "outputs": [
    {
     "name": "stdout",
     "output_type": "stream",
     "text": [
      "Model: \"sequential_1\"\n",
      "_________________________________________________________________\n",
      " Layer (type)                Output Shape              Param #   \n",
      "=================================================================\n",
      " embedding_1 (Embedding)     (None, 130, 32)           2956128   \n",
      "                                                                 \n",
      " lstm_1 (LSTM)               (None, 64)                24832     \n",
      "                                                                 \n",
      " dense_1 (Dense)             (None, 64)                4160      \n",
      "                                                                 \n",
      " dense_2 (Dense)             (None, 1)                 65        \n",
      "                                                                 \n",
      "=================================================================\n",
      "Total params: 2,985,185\n",
      "Trainable params: 2,985,185\n",
      "Non-trainable params: 0\n",
      "_________________________________________________________________\n",
      "None\n"
     ]
    }
   ],
   "source": [
    "# ARCHITECTURE\n",
    "EMBED_DIM = 32\n",
    "LSTM_OUT = 64\n",
    "\n",
    "model = Sequential()\n",
    "model.add(Embedding(total_words, EMBED_DIM, input_length = max_length))\n",
    "model.add(LSTM(LSTM_OUT))\n",
    "model.add(Dense(64, activation='relu'))\n",
    "model.add(Dense(1, activation='sigmoid'))\n",
    "model.compile(optimizer = 'adam', loss = 'binary_crossentropy', metrics = ['accuracy'])\n",
    "\n",
    "print(model.summary())"
   ]
  },
  {
   "cell_type": "code",
   "execution_count": 34,
   "metadata": {
    "colab": {
     "base_uri": "https://localhost:8080/",
     "height": 0
    },
    "id": "jWHCQWXys3PL",
    "outputId": "46c5bc25-1ee0-40f5-e86e-6c4067d37136"
   },
   "outputs": [
    {
     "name": "stdout",
     "output_type": "stream",
     "text": [
      "Epoch 1/10\n",
      "313/313 [==============================] - 33s 98ms/step - loss: 0.6779 - accuracy: 0.5434\n",
      "Epoch 2/10\n",
      "313/313 [==============================] - 31s 98ms/step - loss: 0.4839 - accuracy: 0.7456\n",
      "Epoch 3/10\n",
      "313/313 [==============================] - 30s 97ms/step - loss: 0.2134 - accuracy: 0.9212\n",
      "Epoch 4/10\n",
      "313/313 [==============================] - 30s 97ms/step - loss: 0.1139 - accuracy: 0.9644\n",
      "Epoch 5/10\n",
      "313/313 [==============================] - 31s 98ms/step - loss: 0.0677 - accuracy: 0.9804\n",
      "Epoch 6/10\n",
      "313/313 [==============================] - 31s 98ms/step - loss: 0.0454 - accuracy: 0.9880\n",
      "Epoch 7/10\n",
      "313/313 [==============================] - 31s 98ms/step - loss: 0.0360 - accuracy: 0.9894\n",
      "Epoch 8/10\n",
      "313/313 [==============================] - 31s 98ms/step - loss: 0.0326 - accuracy: 0.9921\n",
      "Epoch 9/10\n",
      "313/313 [==============================] - 31s 99ms/step - loss: 0.0292 - accuracy: 0.9921\n",
      "Epoch 10/10\n",
      "313/313 [==============================] - 31s 98ms/step - loss: 0.0266 - accuracy: 0.9934\n"
     ]
    },
    {
     "data": {
      "text/plain": [
       "<keras.callbacks.History at 0x7fd41e28ab90>"
      ]
     },
     "execution_count": 34,
     "metadata": {},
     "output_type": "execute_result"
    }
   ],
   "source": [
    "model.fit(x_train, y_train, batch_size = 128, epochs = 10)"
   ]
  },
  {
   "cell_type": "code",
   "execution_count": 41,
   "metadata": {
    "colab": {
     "base_uri": "https://localhost:8080/",
     "height": 0
    },
    "id": "szQCB945vjAS",
    "outputId": "0f0f65fd-04ec-4157-f03b-2da7d495add1"
   },
   "outputs": [
    {
     "name": "stdout",
     "output_type": "stream",
     "text": [
      "313/313 [==============================] - 4s 13ms/step - loss: 0.5409 - accuracy: 0.8558\n"
     ]
    },
    {
     "data": {
      "text/plain": [
       "[0.5409194827079773, 0.8557999730110168]"
      ]
     },
     "execution_count": 41,
     "metadata": {},
     "output_type": "execute_result"
    }
   ],
   "source": [
    "model.evaluate(x_test,y_test)"
   ]
  },
  {
   "cell_type": "markdown",
   "metadata": {
    "id": "kozbLa7Dxs1o"
   },
   "source": [
    "### Step-5"
   ]
  },
  {
   "cell_type": "code",
   "execution_count": 43,
   "metadata": {
    "colab": {
     "base_uri": "https://localhost:8080/",
     "height": 0
    },
    "id": "6nsy8kSWuFpW",
    "outputId": "ece5add3-c1d0-45d8-d7ac-1611947adb34"
   },
   "outputs": [
    {
     "name": "stdout",
     "output_type": "stream",
     "text": [
      "Model: \"sequential_6\"\n",
      "_________________________________________________________________\n",
      " Layer (type)                Output Shape              Param #   \n",
      "=================================================================\n",
      " embedding_6 (Embedding)     (None, 130, 32)           2956128   \n",
      "                                                                 \n",
      " lstm_9 (LSTM)               (None, 32)                8320      \n",
      "                                                                 \n",
      " dense_5 (Dense)             (None, 64)                2112      \n",
      "                                                                 \n",
      " dense_6 (Dense)             (None, 64)                4160      \n",
      "                                                                 \n",
      " dense_7 (Dense)             (None, 1)                 65        \n",
      "                                                                 \n",
      "=================================================================\n",
      "Total params: 2,970,785\n",
      "Trainable params: 2,970,785\n",
      "Non-trainable params: 0\n",
      "_________________________________________________________________\n",
      "None\n"
     ]
    }
   ],
   "source": [
    "# ARCHITECTURE\n",
    "EMBED_DIM = 32\n",
    "\n",
    "model1 = Sequential()\n",
    "model1.add(Embedding(total_words, EMBED_DIM, input_length = max_length))\n",
    "model1.add(LSTM(32))\n",
    "model1.add(Dense(64, activation='relu'))\n",
    "model1.add(Dense(64, activation='relu'))\n",
    "model1.add(Dense(1, activation='sigmoid'))\n",
    "model1.compile(optimizer = 'adam', loss = 'binary_crossentropy', metrics = ['accuracy'])\n",
    "\n",
    "print(model1.summary())"
   ]
  },
  {
   "cell_type": "code",
   "execution_count": 44,
   "metadata": {
    "colab": {
     "base_uri": "https://localhost:8080/",
     "height": 0
    },
    "id": "bKr2_XwJuNfk",
    "outputId": "33555784-b52a-40c0-b9ce-1fdc257048b7"
   },
   "outputs": [
    {
     "name": "stdout",
     "output_type": "stream",
     "text": [
      "Epoch 1/5\n",
      "313/313 [==============================] - 21s 61ms/step - loss: 0.4573 - accuracy: 0.7458\n",
      "Epoch 2/5\n",
      "313/313 [==============================] - 19s 61ms/step - loss: 0.1963 - accuracy: 0.9271\n",
      "Epoch 3/5\n",
      "313/313 [==============================] - 19s 61ms/step - loss: 0.1056 - accuracy: 0.9646\n",
      "Epoch 4/5\n",
      "313/313 [==============================] - 19s 62ms/step - loss: 0.0621 - accuracy: 0.9801\n",
      "Epoch 5/5\n",
      "313/313 [==============================] - 19s 61ms/step - loss: 0.0432 - accuracy: 0.9863\n"
     ]
    },
    {
     "data": {
      "text/plain": [
       "<keras.callbacks.History at 0x7fd43be6bfd0>"
      ]
     },
     "execution_count": 44,
     "metadata": {},
     "output_type": "execute_result"
    }
   ],
   "source": [
    "model1.fit(x_train, y_train, batch_size = 128, epochs = 5)"
   ]
  },
  {
   "cell_type": "markdown",
   "metadata": {
    "id": "52Aj3cXHxx34"
   },
   "source": [
    "### Step-6"
   ]
  },
  {
   "cell_type": "code",
   "execution_count": 48,
   "metadata": {
    "colab": {
     "base_uri": "https://localhost:8080/",
     "height": 0
    },
    "id": "pooonVpkwUG6",
    "outputId": "737eb5de-383e-4d61-9ede-00e86d888927"
   },
   "outputs": [
    {
     "name": "stdout",
     "output_type": "stream",
     "text": [
      "Model: \"sequential_9\"\n",
      "_________________________________________________________________\n",
      " Layer (type)                Output Shape              Param #   \n",
      "=================================================================\n",
      " embedding_9 (Embedding)     (None, 130, 32)           2956128   \n",
      "                                                                 \n",
      " bidirectional_1 (Bidirectio  (None, 128)              49664     \n",
      " nal)                                                            \n",
      "                                                                 \n",
      " dense_10 (Dense)            (None, 64)                8256      \n",
      "                                                                 \n",
      " dense_11 (Dense)            (None, 1)                 65        \n",
      "                                                                 \n",
      "=================================================================\n",
      "Total params: 3,014,113\n",
      "Trainable params: 3,014,113\n",
      "Non-trainable params: 0\n",
      "_________________________________________________________________\n",
      "None\n"
     ]
    }
   ],
   "source": [
    "# ARCHITECTURE\n",
    "EMBED_DIM = 32\n",
    "LSTM_OUT = 64\n",
    "\n",
    "model2 = Sequential()\n",
    "model2.add(Embedding(total_words, EMBED_DIM, input_length = max_length))\n",
    "model2.add(Bidirectional(LSTM(LSTM_OUT)))\n",
    "model2.add(Dense(64, activation='relu'))\n",
    "model2.add(Dense(1, activation='sigmoid'))\n",
    "model2.compile(optimizer = 'adam', loss = 'binary_crossentropy', metrics = ['accuracy'])\n",
    "\n",
    "print(model2.summary())"
   ]
  },
  {
   "cell_type": "code",
   "execution_count": 52,
   "metadata": {
    "colab": {
     "base_uri": "https://localhost:8080/",
     "height": 0
    },
    "id": "HwwFXnGnwjzg",
    "outputId": "d3c50663-b41e-4989-ef85-244dd8e0b0d9"
   },
   "outputs": [
    {
     "name": "stdout",
     "output_type": "stream",
     "text": [
      "313/313 [==============================] - 51s 164ms/step - loss: 0.1823 - accuracy: 0.9330\n"
     ]
    },
    {
     "data": {
      "text/plain": [
       "<keras.callbacks.History at 0x7fd43dcf5610>"
      ]
     },
     "execution_count": 52,
     "metadata": {},
     "output_type": "execute_result"
    }
   ],
   "source": [
    "model2.fit(x_train, y_train, batch_size = 128)"
   ]
  },
  {
   "cell_type": "code",
   "execution_count": null,
   "metadata": {
    "id": "bFquJf3FxWe_"
   },
   "outputs": [],
   "source": []
  }
 ],
 "metadata": {
  "colab": {
   "collapsed_sections": [],
   "provenance": []
  },
  "kernelspec": {
   "display_name": "Python 3 (ipykernel)",
   "language": "python",
   "name": "python3"
  },
  "language_info": {
   "codemirror_mode": {
    "name": "ipython",
    "version": 3
   },
   "file_extension": ".py",
   "mimetype": "text/x-python",
   "name": "python",
   "nbconvert_exporter": "python",
   "pygments_lexer": "ipython3",
   "version": "3.9.12"
  }
 },
 "nbformat": 4,
 "nbformat_minor": 1
}
