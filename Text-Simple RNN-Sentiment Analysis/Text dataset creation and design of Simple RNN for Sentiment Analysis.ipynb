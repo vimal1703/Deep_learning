{
 "cells": [
  {
   "cell_type": "markdown",
   "id": "381efbe0",
   "metadata": {},
   "source": [
    "# Text dataset creation and design of Simple RNN for Sentiment Analysis"
   ]
  },
  {
   "cell_type": "markdown",
   "id": "3724a977",
   "metadata": {},
   "source": [
    "### 1. Import libraries"
   ]
  },
  {
   "cell_type": "code",
   "execution_count": 1,
   "id": "4ce3b63c",
   "metadata": {},
   "outputs": [],
   "source": [
    "import csv\n",
    "import tensorflow as tf\n",
    "import numpy as np\n",
    "import pandas as pd\n",
    "import matplotlib.pyplot as plt\n",
    "from tensorflow.keras.preprocessing.text import Tokenizer\n",
    "from tensorflow.keras.preprocessing.sequence import pad_sequences"
   ]
  },
  {
   "cell_type": "code",
   "execution_count": 2,
   "id": "9c444102",
   "metadata": {},
   "outputs": [],
   "source": [
    "from keras.models import Sequential\n",
    "from keras.layers import Dense, Embedding,SimpleRNN"
   ]
  },
  {
   "cell_type": "code",
   "execution_count": 3,
   "id": "360d37cb",
   "metadata": {},
   "outputs": [
    {
     "name": "stderr",
     "output_type": "stream",
     "text": [
      "[nltk_data] Downloading package stopwords to\n",
      "[nltk_data]     C:\\Users\\online.CSCENTER\\AppData\\Roaming\\nltk_data...\n",
      "[nltk_data]   Package stopwords is already up-to-date!\n"
     ]
    },
    {
     "data": {
      "text/plain": [
       "True"
      ]
     },
     "execution_count": 3,
     "metadata": {},
     "output_type": "execute_result"
    }
   ],
   "source": [
    "import nltk\n",
    "nltk.download('stopwords')"
   ]
  },
  {
   "cell_type": "code",
   "execution_count": 4,
   "id": "5e59e9be",
   "metadata": {},
   "outputs": [],
   "source": [
    "from nltk.corpus import stopwords\n",
    "\n",
    "STOPWORDS = set(stopwords.words('english'))"
   ]
  },
  {
   "cell_type": "markdown",
   "id": "97c95b4c",
   "metadata": {},
   "source": [
    "### 2. Creation of data"
   ]
  },
  {
   "cell_type": "code",
   "execution_count": 5,
   "id": "157692a3",
   "metadata": {},
   "outputs": [],
   "source": [
    "df = pd.read_csv(\"data.csv\",encoding=\"ISO-8859-1\")"
   ]
  },
  {
   "cell_type": "code",
   "execution_count": 6,
   "id": "77797b57",
   "metadata": {},
   "outputs": [
    {
     "data": {
      "text/html": [
       "<div>\n",
       "<style scoped>\n",
       "    .dataframe tbody tr th:only-of-type {\n",
       "        vertical-align: middle;\n",
       "    }\n",
       "\n",
       "    .dataframe tbody tr th {\n",
       "        vertical-align: top;\n",
       "    }\n",
       "\n",
       "    .dataframe thead th {\n",
       "        text-align: right;\n",
       "    }\n",
       "</style>\n",
       "<table border=\"1\" class=\"dataframe\">\n",
       "  <thead>\n",
       "    <tr style=\"text-align: right;\">\n",
       "      <th></th>\n",
       "      <th>Labels</th>\n",
       "      <th>Quotes</th>\n",
       "    </tr>\n",
       "  </thead>\n",
       "  <tbody>\n",
       "    <tr>\n",
       "      <th>0</th>\n",
       "      <td>0</td>\n",
       "      <td>Look deep into nature, and then you will under...</td>\n",
       "    </tr>\n",
       "    <tr>\n",
       "      <th>1</th>\n",
       "      <td>0</td>\n",
       "      <td>Colors are the smiles of nature.</td>\n",
       "    </tr>\n",
       "    <tr>\n",
       "      <th>2</th>\n",
       "      <td>0</td>\n",
       "      <td>I believe in God, only I spell it Nature.</td>\n",
       "    </tr>\n",
       "    <tr>\n",
       "      <th>3</th>\n",
       "      <td>0</td>\n",
       "      <td>Nature does not hurry, yet everything is accom...</td>\n",
       "    </tr>\n",
       "    <tr>\n",
       "      <th>4</th>\n",
       "      <td>0</td>\n",
       "      <td>If you truly love nature, you will find beauty...</td>\n",
       "    </tr>\n",
       "  </tbody>\n",
       "</table>\n",
       "</div>"
      ],
      "text/plain": [
       "   Labels                                             Quotes\n",
       "0       0  Look deep into nature, and then you will under...\n",
       "1       0                   Colors are the smiles of nature.\n",
       "2       0          I believe in God, only I spell it Nature.\n",
       "3       0  Nature does not hurry, yet everything is accom...\n",
       "4       0  If you truly love nature, you will find beauty..."
      ]
     },
     "execution_count": 6,
     "metadata": {},
     "output_type": "execute_result"
    }
   ],
   "source": [
    "df.head()"
   ]
  },
  {
   "cell_type": "markdown",
   "id": "1cf55821",
   "metadata": {},
   "source": [
    "### 3. Opening your CSV file"
   ]
  },
  {
   "cell_type": "code",
   "execution_count": 7,
   "id": "f93c2254",
   "metadata": {},
   "outputs": [],
   "source": [
    "import csv"
   ]
  },
  {
   "cell_type": "code",
   "execution_count": 8,
   "id": "21eacf83",
   "metadata": {},
   "outputs": [
    {
     "data": {
      "text/plain": [
       "_io.TextIOWrapper"
      ]
     },
     "execution_count": 8,
     "metadata": {},
     "output_type": "execute_result"
    }
   ],
   "source": [
    "file = open('data.csv')\n",
    "\n",
    "type(file)"
   ]
  },
  {
   "cell_type": "code",
   "execution_count": 9,
   "id": "907323b2",
   "metadata": {},
   "outputs": [],
   "source": [
    "csvreader = csv.reader(file)"
   ]
  },
  {
   "cell_type": "code",
   "execution_count": 10,
   "id": "484104ae",
   "metadata": {},
   "outputs": [
    {
     "data": {
      "text/plain": [
       "['Labels', 'Quotes']"
      ]
     },
     "execution_count": 10,
     "metadata": {},
     "output_type": "execute_result"
    }
   ],
   "source": [
    "header = []\n",
    "header = next(csvreader)\n",
    "header"
   ]
  },
  {
   "cell_type": "code",
   "execution_count": 11,
   "id": "028fa897",
   "metadata": {},
   "outputs": [
    {
     "data": {
      "text/plain": [
       "[['0',\n",
       "  'Look deep into nature, and then you will understand everything better.'],\n",
       " ['0', 'Colors are the smiles of nature.'],\n",
       " ['0', 'I believe in God, only I spell it Nature.'],\n",
       " ['0', 'Nature does not hurry, yet everything is accomplished.'],\n",
       " ['0', 'If you truly love nature, you will find beauty everywhere.'],\n",
       " ['0',\n",
       "  'Study nature, love nature, stay close to nature. It will never fail you.'],\n",
       " ['0', 'Land really is the best art.'],\n",
       " ['0', 'Nature is pleased with simplicity.'],\n",
       " ['0', 'Nature is the art of God.'],\n",
       " ['0', 'Every flower is a soul blossoming in nature.'],\n",
       " ['1', 'The human spirit must prevail over technology.'],\n",
       " ['1',\n",
       "  'It has become appallingly obvious that our technology has exceeded our humanity.'],\n",
       " ['1', 'Technology like art is a soaring exercise of the human imagination.'],\n",
       " ['1', 'Our technology forces us to live mythically.'],\n",
       " ['1', 'Technology is a word that describes something that doesn’t work yet.'],\n",
       " ['1', 'The real problem is not whether machines think but whether men do.'],\n",
       " ['1', 'Ethics change with technology.'],\n",
       " ['1', 'Technology is best when it brings people together.'],\n",
       " ['1', 'Technology has to be invented or adopted.'],\n",
       " ['1', 'Technology is a useful servant but a dangerous master.']]"
      ]
     },
     "execution_count": 11,
     "metadata": {},
     "output_type": "execute_result"
    }
   ],
   "source": [
    "rows = []\n",
    "for row in csvreader:\n",
    "        rows.append(row)\n",
    "rows"
   ]
  },
  {
   "cell_type": "code",
   "execution_count": 12,
   "id": "43858032",
   "metadata": {},
   "outputs": [],
   "source": [
    "file.close()"
   ]
  },
  {
   "cell_type": "code",
   "execution_count": 13,
   "id": "cefa5678",
   "metadata": {},
   "outputs": [
    {
     "name": "stdout",
     "output_type": "stream",
     "text": [
      "<class 'pandas.core.frame.DataFrame'>\n",
      "RangeIndex: 20 entries, 0 to 19\n",
      "Data columns (total 2 columns):\n",
      " #   Column  Non-Null Count  Dtype \n",
      "---  ------  --------------  ----- \n",
      " 0   Labels  20 non-null     int64 \n",
      " 1   Quotes  20 non-null     object\n",
      "dtypes: int64(1), object(1)\n",
      "memory usage: 448.0+ bytes\n"
     ]
    }
   ],
   "source": [
    "df.info()"
   ]
  },
  {
   "cell_type": "markdown",
   "id": "f90c8870",
   "metadata": {},
   "source": [
    "### 4. Pre-processing the text"
   ]
  },
  {
   "cell_type": "code",
   "execution_count": 14,
   "id": "d90cd5ef",
   "metadata": {},
   "outputs": [],
   "source": [
    "y = df['Labels']\n",
    "X = df['Quotes']"
   ]
  },
  {
   "cell_type": "markdown",
   "id": "5ee9a4ed",
   "metadata": {},
   "source": [
    "### 5. Dataset Preparation"
   ]
  },
  {
   "cell_type": "code",
   "execution_count": 15,
   "id": "3e4f2a01",
   "metadata": {},
   "outputs": [],
   "source": [
    "from sklearn.model_selection import train_test_split\n",
    "X_train, X_val, y_train, y_val = train_test_split(X, y, test_size=0.3)"
   ]
  },
  {
   "cell_type": "code",
   "execution_count": 16,
   "id": "69b8f47b",
   "metadata": {},
   "outputs": [
    {
     "name": "stdout",
     "output_type": "stream",
     "text": [
      "(14,)\n",
      "(6,)\n",
      "(14,)\n",
      "(6,)\n"
     ]
    }
   ],
   "source": [
    "print(X_train.shape)\n",
    "print(X_val.shape)\n",
    "print(y_train.shape)\n",
    "print(y_val.shape)"
   ]
  },
  {
   "cell_type": "code",
   "execution_count": 17,
   "id": "b7518386",
   "metadata": {},
   "outputs": [
    {
     "data": {
      "text/plain": [
       "{'<oov>': 1,\n",
       " 'nature': 2,\n",
       " 'technology': 3,\n",
       " 'is': 4,\n",
       " 'a': 5,\n",
       " 'the': 6,\n",
       " 'it': 7,\n",
       " 'has': 8,\n",
       " 'that': 9,\n",
       " 'of': 10}"
      ]
     },
     "execution_count": 17,
     "metadata": {},
     "output_type": "execute_result"
    }
   ],
   "source": [
    "# 4th step to be continue\n",
    "train_token = Tokenizer(num_words=100,oov_token='<oov>')\n",
    "train_token.fit_on_texts(X_train)\n",
    "word_index = train_token.word_index\n",
    "train_sequence = train_token.texts_to_sequences(X_train)\n",
    "dict(list(word_index.items())[0:10])"
   ]
  },
  {
   "cell_type": "code",
   "execution_count": 18,
   "id": "02365782",
   "metadata": {},
   "outputs": [
    {
     "data": {
      "text/plain": [
       "85"
      ]
     },
     "execution_count": 18,
     "metadata": {},
     "output_type": "execute_result"
    }
   ],
   "source": [
    "vocab = len(train_token.word_index) + 1\n",
    "vocab"
   ]
  },
  {
   "cell_type": "code",
   "execution_count": 19,
   "id": "0dd73d2e",
   "metadata": {},
   "outputs": [
    {
     "data": {
      "text/plain": [
       "[3, 8, 14, 38, 39, 40, 41]"
      ]
     },
     "execution_count": 19,
     "metadata": {},
     "output_type": "execute_result"
    }
   ],
   "source": [
    "train_sequence[3]"
   ]
  },
  {
   "cell_type": "code",
   "execution_count": 20,
   "id": "cb0b0532",
   "metadata": {},
   "outputs": [],
   "source": [
    "train_padded = pad_sequences(train_sequence,maxlen=100,padding='post')"
   ]
  },
  {
   "cell_type": "code",
   "execution_count": 21,
   "id": "38ebc052",
   "metadata": {},
   "outputs": [
    {
     "data": {
      "text/plain": [
       "array([46, 47,  6, 48, 10,  2,  0,  0,  0,  0,  0,  0,  0,  0,  0,  0,  0,\n",
       "        0,  0,  0,  0,  0,  0,  0,  0,  0,  0,  0,  0,  0,  0,  0,  0,  0,\n",
       "        0,  0,  0,  0,  0,  0,  0,  0,  0,  0,  0,  0,  0,  0,  0,  0,  0,\n",
       "        0,  0,  0,  0,  0,  0,  0,  0,  0,  0,  0,  0,  0,  0,  0,  0,  0,\n",
       "        0,  0,  0,  0,  0,  0,  0,  0,  0,  0,  0,  0,  0,  0,  0,  0,  0,\n",
       "        0,  0,  0,  0,  0,  0,  0,  0,  0,  0,  0,  0,  0,  0,  0])"
      ]
     },
     "execution_count": 21,
     "metadata": {},
     "output_type": "execute_result"
    }
   ],
   "source": [
    "train_padded[5]"
   ]
  },
  {
   "cell_type": "code",
   "execution_count": 22,
   "id": "6b5da4be",
   "metadata": {},
   "outputs": [
    {
     "data": {
      "text/plain": [
       "(14, 100)"
      ]
     },
     "execution_count": 22,
     "metadata": {},
     "output_type": "execute_result"
    }
   ],
   "source": [
    "train_padded.shape"
   ]
  },
  {
   "cell_type": "code",
   "execution_count": 23,
   "id": "b0876f26",
   "metadata": {},
   "outputs": [],
   "source": [
    "val_token = Tokenizer(num_words=500,oov_token='<oov>')\n",
    "val_token.fit_on_texts(X_val)\n",
    "val_index = val_token.word_index\n",
    "val_sequence = val_token.texts_to_sequences(X_val)"
   ]
  },
  {
   "cell_type": "code",
   "execution_count": 24,
   "id": "b15d90ed",
   "metadata": {},
   "outputs": [
    {
     "data": {
      "text/plain": [
       "[24, 25, 3, 26, 27, 28]"
      ]
     },
     "execution_count": 24,
     "metadata": {},
     "output_type": "execute_result"
    }
   ],
   "source": [
    "val_sequence[4]"
   ]
  },
  {
   "cell_type": "code",
   "execution_count": 25,
   "id": "9b888e5a",
   "metadata": {},
   "outputs": [],
   "source": [
    "val_padded = pad_sequences(val_sequence,maxlen=100,padding='post')"
   ]
  },
  {
   "cell_type": "code",
   "execution_count": 26,
   "id": "eecb1b6d",
   "metadata": {},
   "outputs": [
    {
     "data": {
      "text/plain": [
       "array([24, 25,  3, 26, 27, 28,  0,  0,  0,  0,  0,  0,  0,  0,  0,  0,  0,\n",
       "        0,  0,  0,  0,  0,  0,  0,  0,  0,  0,  0,  0,  0,  0,  0,  0,  0,\n",
       "        0,  0,  0,  0,  0,  0,  0,  0,  0,  0,  0,  0,  0,  0,  0,  0,  0,\n",
       "        0,  0,  0,  0,  0,  0,  0,  0,  0,  0,  0,  0,  0,  0,  0,  0,  0,\n",
       "        0,  0,  0,  0,  0,  0,  0,  0,  0,  0,  0,  0,  0,  0,  0,  0,  0,\n",
       "        0,  0,  0,  0,  0,  0,  0,  0,  0,  0,  0,  0,  0,  0,  0])"
      ]
     },
     "execution_count": 26,
     "metadata": {},
     "output_type": "execute_result"
    }
   ],
   "source": [
    "val_padded[4]"
   ]
  },
  {
   "cell_type": "markdown",
   "id": "291544b3",
   "metadata": {},
   "source": [
    "### 6. Model Creation"
   ]
  },
  {
   "cell_type": "code",
   "execution_count": 27,
   "id": "6cb5bc09",
   "metadata": {},
   "outputs": [],
   "source": [
    "model = Sequential()\n",
    "# Embedding layer\n",
    "model.add(Embedding(300,70,input_length=100))\n",
    "model.add(SimpleRNN(70,activation='relu'))\n",
    "model.add(Dense('1',activation='sigmoid'))"
   ]
  },
  {
   "cell_type": "code",
   "execution_count": 28,
   "id": "dbabefa3",
   "metadata": {},
   "outputs": [],
   "source": [
    "model.compile(optimizer='adam',loss='binary_crossentropy',metrics=['accuracy'])"
   ]
  },
  {
   "cell_type": "code",
   "execution_count": 29,
   "id": "5a1ce64f",
   "metadata": {},
   "outputs": [
    {
     "name": "stdout",
     "output_type": "stream",
     "text": [
      "Model: \"sequential\"\n",
      "_________________________________________________________________\n",
      " Layer (type)                Output Shape              Param #   \n",
      "=================================================================\n",
      " embedding (Embedding)       (None, 100, 70)           21000     \n",
      "                                                                 \n",
      " simple_rnn (SimpleRNN)      (None, 70)                9870      \n",
      "                                                                 \n",
      " dense (Dense)               (None, 1)                 71        \n",
      "                                                                 \n",
      "=================================================================\n",
      "Total params: 30,941\n",
      "Trainable params: 30,941\n",
      "Non-trainable params: 0\n",
      "_________________________________________________________________\n"
     ]
    }
   ],
   "source": [
    "model.summary()"
   ]
  },
  {
   "cell_type": "code",
   "execution_count": 30,
   "id": "ba305ed3",
   "metadata": {},
   "outputs": [
    {
     "name": "stdout",
     "output_type": "stream",
     "text": [
      "Epoch 1/10\n",
      "1/1 - 1s - loss: 0.6983 - accuracy: 0.4286 - 728ms/epoch - 728ms/step\n",
      "Epoch 2/10\n",
      "1/1 - 0s - loss: 0.6965 - accuracy: 0.4286 - 14ms/epoch - 14ms/step\n",
      "Epoch 3/10\n",
      "1/1 - 0s - loss: 0.6952 - accuracy: 0.4286 - 9ms/epoch - 9ms/step\n",
      "Epoch 4/10\n",
      "1/1 - 0s - loss: 0.6940 - accuracy: 0.4286 - 7ms/epoch - 7ms/step\n",
      "Epoch 5/10\n",
      "1/1 - 0s - loss: 0.6930 - accuracy: 0.5714 - 8ms/epoch - 8ms/step\n",
      "Epoch 6/10\n",
      "1/1 - 0s - loss: 0.6920 - accuracy: 0.5714 - 7ms/epoch - 7ms/step\n",
      "Epoch 7/10\n",
      "1/1 - 0s - loss: 0.6911 - accuracy: 0.5714 - 8ms/epoch - 8ms/step\n",
      "Epoch 8/10\n",
      "1/1 - 0s - loss: 0.6903 - accuracy: 0.5714 - 7ms/epoch - 7ms/step\n",
      "Epoch 9/10\n",
      "1/1 - 0s - loss: 0.6896 - accuracy: 0.5714 - 7ms/epoch - 7ms/step\n",
      "Epoch 10/10\n",
      "1/1 - 0s - loss: 0.6888 - accuracy: 0.5714 - 8ms/epoch - 8ms/step\n"
     ]
    }
   ],
   "source": [
    "history=model.fit(train_padded,y_train,epochs=10,verbose=2,batch_size=15)"
   ]
  },
  {
   "cell_type": "code",
   "execution_count": 31,
   "id": "e18b2e9f",
   "metadata": {},
   "outputs": [
    {
     "name": "stdout",
     "output_type": "stream",
     "text": [
      "1/1 [==============================] - 0s 137ms/step - loss: 0.7077 - accuracy: 0.3333\n"
     ]
    },
    {
     "data": {
      "text/plain": [
       "[0.7077338099479675, 0.3333333432674408]"
      ]
     },
     "execution_count": 31,
     "metadata": {},
     "output_type": "execute_result"
    }
   ],
   "source": [
    "model.evaluate(val_padded,y_val)"
   ]
  },
  {
   "cell_type": "code",
   "execution_count": 32,
   "id": "4a83e6f2",
   "metadata": {},
   "outputs": [
    {
     "data": {
      "image/png": "[encoded data removed]",
      "text/plain": [
       "<Figure size 432x288 with 1 Axes>"
      ]
     },
     "metadata": {
      "needs_background": "light"
     },
     "output_type": "display_data"
    }
   ],
   "source": [
    "plt.plot(history.history['accuracy'])\n",
    "plt.title('Model Accuracy')\n",
    "plt.ylabel('accuracy')\n",
    "plt.xlabel('epoch')\n",
    "plt.show()"
   ]
  },
  {
   "cell_type": "code",
   "execution_count": 34,
   "id": "e4c55fa1",
   "metadata": {},
   "outputs": [
    {
     "data": {
      "image/png": "[encoded data removed]",
      "text/plain": [
       "<Figure size 432x288 with 1 Axes>"
      ]
     },
     "metadata": {
      "needs_background": "light"
     },
     "output_type": "display_data"
    }
   ],
   "source": [
    "plt.plot(history.history['loss'])\n",
    "plt.title('Model Loss')\n",
    "plt.ylabel('loss')\n",
    "plt.xlabel('epoch')\n",
    "plt.show()"
   ]
  },
  {
   "cell_type": "code",
   "execution_count": 35,
   "id": "e44d8497",
   "metadata": {},
   "outputs": [],
   "source": [
    "text = df[\"Quotes\"]"
   ]
  },
  {
   "cell_type": "code",
   "execution_count": 36,
   "id": "da530baa",
   "metadata": {},
   "outputs": [],
   "source": [
    "#sent = [w.lower() for w in text.split() if not w in STOPWORDS]\n",
    "trail_token = Tokenizer()\n",
    "trail_token.fit_on_texts(text)\n",
    "#word_index = trail_token.word_index\n",
    "trail_seq = trail_token.texts_to_sequences(text)\n",
    "#dict(list(word_index.items())[0:10])\n",
    "trail_pad = pad_sequences(trail_seq,maxlen=100,padding='post')"
   ]
  },
  {
   "cell_type": "code",
   "execution_count": 37,
   "id": "31f6dce3",
   "metadata": {},
   "outputs": [
    {
     "data": {
      "text/plain": [
       "array([[27, 28, 29, ...,  0,  0,  0],\n",
       "       [34, 35,  4, ...,  0,  0,  0],\n",
       "       [16, 37, 17, ...,  0,  0,  0],\n",
       "       ...,\n",
       "       [ 3,  2, 22, ...,  0,  0,  0],\n",
       "       [ 3, 12, 10, ...,  0,  0,  0],\n",
       "       [ 3,  2,  5, ...,  0,  0,  0]])"
      ]
     },
     "execution_count": 37,
     "metadata": {},
     "output_type": "execute_result"
    }
   ],
   "source": [
    "trail_pad"
   ]
  },
  {
   "cell_type": "markdown",
   "id": "4f3422d4",
   "metadata": {},
   "source": [
    "### Step-7:"
   ]
  },
  {
   "cell_type": "code",
   "execution_count": 38,
   "id": "e116483f",
   "metadata": {},
   "outputs": [
    {
     "name": "stdout",
     "output_type": "stream",
     "text": [
      "1/1 [==============================] - 0s 99ms/step\n",
      "[[0.5205947]\n",
      " [0.5205947]\n",
      " [0.5205947]\n",
      " [0.5205947]\n",
      " [0.5205947]\n",
      " [0.5205947]\n",
      " [0.5205947]\n",
      " [0.5205947]\n",
      " [0.5205947]\n",
      " [0.5205947]\n",
      " [0.5205947]\n",
      " [0.5205947]\n",
      " [0.5205947]\n",
      " [0.5205947]\n",
      " [0.5205947]\n",
      " [0.5205947]\n",
      " [0.5205947]\n",
      " [0.5205947]\n",
      " [0.5205947]\n",
      " [0.5205947]] negative\n"
     ]
    },
    {
     "name": "stderr",
     "output_type": "stream",
     "text": [
      "C:\\Users\\online.CSCENTER\\AppData\\Local\\Temp\\ipykernel_8432\\1535703611.py:3: DeprecationWarning: In future, it will be an error for 'np.bool_' scalars to be interpreted as an index\n",
      "  print(res,label[np.argmax(trail_pad)>50])\n"
     ]
    }
   ],
   "source": [
    "res = model.predict(trail_pad)\n",
    "label = ['positive','negative']\n",
    "print(res,label[np.argmax(trail_pad)>50])"
   ]
  },
  {
   "cell_type": "markdown",
   "id": "ebba666f",
   "metadata": {},
   "source": [
    "### Step-8:"
   ]
  },
  {
   "cell_type": "markdown",
   "id": "281d6f34",
   "metadata": {},
   "source": [
    "### Model 2"
   ]
  },
  {
   "cell_type": "code",
   "execution_count": 39,
   "id": "67395232",
   "metadata": {},
   "outputs": [],
   "source": [
    "model1 = Sequential()\n",
    "# Embedding layer\n",
    "model1.add(Embedding(5000,64,input_length=100))\n",
    "model1.add(SimpleRNN(32,activation='tanh'))\n",
    "model1.add(Embedding(5000,32,input_length=100))\n",
    "model1.add(SimpleRNN(32,activation='tanh' ))\n",
    "model1.add(Dense('1',activation='sigmoid'))"
   ]
  },
  {
   "cell_type": "code",
   "execution_count": 40,
   "id": "ce807769",
   "metadata": {},
   "outputs": [
    {
     "name": "stdout",
     "output_type": "stream",
     "text": [
      "Model: \"sequential_1\"\n",
      "_________________________________________________________________\n",
      " Layer (type)                Output Shape              Param #   \n",
      "=================================================================\n",
      " embedding_1 (Embedding)     (None, 100, 64)           320000    \n",
      "                                                                 \n",
      " simple_rnn_1 (SimpleRNN)    (None, 32)                3104      \n",
      "                                                                 \n",
      " embedding_2 (Embedding)     (None, 32, 32)            160000    \n",
      "                                                                 \n",
      " simple_rnn_2 (SimpleRNN)    (None, 32)                2080      \n",
      "                                                                 \n",
      " dense_1 (Dense)             (None, 1)                 33        \n",
      "                                                                 \n",
      "=================================================================\n",
      "Total params: 485,217\n",
      "Trainable params: 485,217\n",
      "Non-trainable params: 0\n",
      "_________________________________________________________________\n"
     ]
    }
   ],
   "source": [
    "model1.summary()"
   ]
  },
  {
   "cell_type": "code",
   "execution_count": 41,
   "id": "2d82365d",
   "metadata": {},
   "outputs": [],
   "source": [
    "model1.compile(optimizer='adam',loss='binary_crossentropy',metrics=['accuracy'])"
   ]
  },
  {
   "cell_type": "code",
   "execution_count": 42,
   "id": "c504fecf",
   "metadata": {},
   "outputs": [
    {
     "name": "stdout",
     "output_type": "stream",
     "text": [
      "Epoch 1/10\n",
      "WARNING:tensorflow:Gradients do not exist for variables ['embedding_1/embeddings:0', 'simple_rnn_1/simple_rnn_cell_1/kernel:0', 'simple_rnn_1/simple_rnn_cell_1/recurrent_kernel:0', 'simple_rnn_1/simple_rnn_cell_1/bias:0'] when minimizing the loss. If you're using `model.compile()`, did you forget to provide a `loss`argument?\n",
      "WARNING:tensorflow:Gradients do not exist for variables ['embedding_1/embeddings:0', 'simple_rnn_1/simple_rnn_cell_1/kernel:0', 'simple_rnn_1/simple_rnn_cell_1/recurrent_kernel:0', 'simple_rnn_1/simple_rnn_cell_1/bias:0'] when minimizing the loss. If you're using `model.compile()`, did you forget to provide a `loss`argument?\n",
      "1/1 - 1s - loss: 0.7417 - accuracy: 0.4286 - 662ms/epoch - 662ms/step\n",
      "Epoch 2/10\n",
      "1/1 - 0s - loss: 0.7241 - accuracy: 0.4286 - 5ms/epoch - 5ms/step\n",
      "Epoch 3/10\n",
      "1/1 - 0s - loss: 0.7114 - accuracy: 0.4286 - 6ms/epoch - 6ms/step\n",
      "Epoch 4/10\n",
      "1/1 - 0s - loss: 0.7019 - accuracy: 0.4286 - 5ms/epoch - 5ms/step\n",
      "Epoch 5/10\n",
      "1/1 - 0s - loss: 0.6944 - accuracy: 0.4286 - 5ms/epoch - 5ms/step\n",
      "Epoch 6/10\n",
      "1/1 - 0s - loss: 0.6888 - accuracy: 0.5714 - 5ms/epoch - 5ms/step\n",
      "Epoch 7/10\n",
      "1/1 - 0s - loss: 0.6852 - accuracy: 0.5714 - 5ms/epoch - 5ms/step\n",
      "Epoch 8/10\n",
      "1/1 - 0s - loss: 0.6834 - accuracy: 0.5714 - 5ms/epoch - 5ms/step\n",
      "Epoch 9/10\n",
      "1/1 - 0s - loss: 0.6829 - accuracy: 0.5714 - 5ms/epoch - 5ms/step\n",
      "Epoch 10/10\n",
      "1/1 - 0s - loss: 0.6830 - accuracy: 0.5714 - 5ms/epoch - 5ms/step\n"
     ]
    }
   ],
   "source": [
    "history1=model1.fit(train_padded,y_train,epochs=10,verbose=2,batch_size=15)"
   ]
  },
  {
   "cell_type": "code",
   "execution_count": 43,
   "id": "22dbad8d",
   "metadata": {},
   "outputs": [
    {
     "name": "stdout",
     "output_type": "stream",
     "text": [
      "1/1 [==============================] - 0s 171ms/step - loss: 0.7659 - accuracy: 0.3333\n"
     ]
    },
    {
     "data": {
      "text/plain": [
       "[0.765855073928833, 0.3333333432674408]"
      ]
     },
     "execution_count": 43,
     "metadata": {},
     "output_type": "execute_result"
    }
   ],
   "source": [
    "model1.evaluate(val_padded,y_val)"
   ]
  },
  {
   "cell_type": "code",
   "execution_count": 44,
   "id": "ff6c8670",
   "metadata": {},
   "outputs": [
    {
     "data": {
      "image/png": "[encoded data removed]",
      "text/plain": [
       "<Figure size 432x288 with 1 Axes>"
      ]
     },
     "metadata": {
      "needs_background": "light"
     },
     "output_type": "display_data"
    }
   ],
   "source": [
    "plt.plot(history1.history['accuracy'])\n",
    "plt.title('Model Accuracy')\n",
    "plt.ylabel('accuracy')\n",
    "plt.xlabel('epoch')\n",
    "plt.show()"
   ]
  },
  {
   "cell_type": "code",
   "execution_count": 45,
   "id": "5cbd258c",
   "metadata": {},
   "outputs": [
    {
     "data": {
      "image/png": "[encoded data removed]",
      "text/plain": [
       "<Figure size 432x288 with 1 Axes>"
      ]
     },
     "metadata": {
      "needs_background": "light"
     },
     "output_type": "display_data"
    }
   ],
   "source": [
    "plt.plot(history1.history['loss'])\n",
    "plt.title('Model Loss')\n",
    "plt.ylabel('loss')\n",
    "plt.xlabel('epoch')\n",
    "plt.show()"
   ]
  },
  {
   "cell_type": "code",
   "execution_count": 46,
   "id": "7cb3fb85",
   "metadata": {},
   "outputs": [
    {
     "name": "stdout",
     "output_type": "stream",
     "text": [
      "1/1 [==============================] - 0s 134ms/step\n",
      "[[0.5857922 ]\n",
      " [0.5857922 ]\n",
      " [0.5857922 ]\n",
      " [0.5857922 ]\n",
      " [0.5857922 ]\n",
      " [0.5857922 ]\n",
      " [0.5857922 ]\n",
      " [0.5857922 ]\n",
      " [0.5857922 ]\n",
      " [0.5857922 ]\n",
      " [0.5857922 ]\n",
      " [0.5857922 ]\n",
      " [0.5857922 ]\n",
      " [0.5857922 ]\n",
      " [0.5857922 ]\n",
      " [0.5857922 ]\n",
      " [0.5857922 ]\n",
      " [0.5857922 ]\n",
      " [0.58579224]\n",
      " [0.58579224]] negative\n"
     ]
    },
    {
     "name": "stderr",
     "output_type": "stream",
     "text": [
      "C:\\Users\\online.CSCENTER\\AppData\\Local\\Temp\\ipykernel_8432\\2701450631.py:3: DeprecationWarning: In future, it will be an error for 'np.bool_' scalars to be interpreted as an index\n",
      "  print(res,label[np.argmax(trail_pad)>50])\n"
     ]
    }
   ],
   "source": [
    "res = model1.predict(trail_pad)\n",
    "label = ['positive','negative']\n",
    "print(res,label[np.argmax(trail_pad)>50])"
   ]
  },
  {
   "cell_type": "markdown",
   "id": "f531c76c",
   "metadata": {},
   "source": [
    "### Model 3"
   ]
  },
  {
   "cell_type": "code",
   "execution_count": 47,
   "id": "3eb48860",
   "metadata": {},
   "outputs": [],
   "source": [
    "model2 = Sequential()\n",
    "# Embedding layer\n",
    "model2.add(Embedding(4000,128,input_length=100))\n",
    "model2.add(SimpleRNN(64,activation='tanh'))\n",
    "model2.add(Embedding(4000,128,input_length=100))\n",
    "model2.add(SimpleRNN(64,activation='relu' ))\n",
    "model2.add(Embedding(4000,128,input_length=100))\n",
    "model2.add(SimpleRNN(64,activation='tanh' ))\n",
    "model2.add(Dense('1',activation='sigmoid'))"
   ]
  },
  {
   "cell_type": "code",
   "execution_count": 48,
   "id": "fcbf9674",
   "metadata": {},
   "outputs": [
    {
     "name": "stdout",
     "output_type": "stream",
     "text": [
      "Model: \"sequential_2\"\n",
      "_________________________________________________________________\n",
      " Layer (type)                Output Shape              Param #   \n",
      "=================================================================\n",
      " embedding_3 (Embedding)     (None, 100, 128)          512000    \n",
      "                                                                 \n",
      " simple_rnn_3 (SimpleRNN)    (None, 64)                12352     \n",
      "                                                                 \n",
      " embedding_4 (Embedding)     (None, 64, 128)           512000    \n",
      "                                                                 \n",
      " simple_rnn_4 (SimpleRNN)    (None, 64)                12352     \n",
      "                                                                 \n",
      " embedding_5 (Embedding)     (None, 64, 128)           512000    \n",
      "                                                                 \n",
      " simple_rnn_5 (SimpleRNN)    (None, 64)                12352     \n",
      "                                                                 \n",
      " dense_2 (Dense)             (None, 1)                 65        \n",
      "                                                                 \n",
      "=================================================================\n",
      "Total params: 1,573,121\n",
      "Trainable params: 1,573,121\n",
      "Non-trainable params: 0\n",
      "_________________________________________________________________\n"
     ]
    }
   ],
   "source": [
    "model2.summary()"
   ]
  },
  {
   "cell_type": "code",
   "execution_count": 49,
   "id": "7ca7546a",
   "metadata": {},
   "outputs": [],
   "source": [
    "model2.compile(optimizer='adam',loss='binary_crossentropy',metrics=['accuracy'])"
   ]
  },
  {
   "cell_type": "code",
   "execution_count": 50,
   "id": "0002e70a",
   "metadata": {},
   "outputs": [
    {
     "name": "stdout",
     "output_type": "stream",
     "text": [
      "Epoch 1/10\n",
      "WARNING:tensorflow:Gradients do not exist for variables ['embedding_3/embeddings:0', 'simple_rnn_3/simple_rnn_cell_3/kernel:0', 'simple_rnn_3/simple_rnn_cell_3/recurrent_kernel:0', 'simple_rnn_3/simple_rnn_cell_3/bias:0', 'embedding_4/embeddings:0', 'simple_rnn_4/simple_rnn_cell_4/kernel:0', 'simple_rnn_4/simple_rnn_cell_4/recurrent_kernel:0', 'simple_rnn_4/simple_rnn_cell_4/bias:0'] when minimizing the loss. If you're using `model.compile()`, did you forget to provide a `loss`argument?\n",
      "WARNING:tensorflow:Gradients do not exist for variables ['embedding_3/embeddings:0', 'simple_rnn_3/simple_rnn_cell_3/kernel:0', 'simple_rnn_3/simple_rnn_cell_3/recurrent_kernel:0', 'simple_rnn_3/simple_rnn_cell_3/bias:0', 'embedding_4/embeddings:0', 'simple_rnn_4/simple_rnn_cell_4/kernel:0', 'simple_rnn_4/simple_rnn_cell_4/recurrent_kernel:0', 'simple_rnn_4/simple_rnn_cell_4/bias:0'] when minimizing the loss. If you're using `model.compile()`, did you forget to provide a `loss`argument?\n",
      "1/1 - 1s - loss: 0.6897 - accuracy: 0.5714 - 755ms/epoch - 755ms/step\n",
      "Epoch 2/10\n",
      "1/1 - 0s - loss: 0.6834 - accuracy: 0.5714 - 11ms/epoch - 11ms/step\n",
      "Epoch 3/10\n",
      "1/1 - 0s - loss: 0.6858 - accuracy: 0.5714 - 11ms/epoch - 11ms/step\n",
      "Epoch 4/10\n",
      "1/1 - 0s - loss: 0.6842 - accuracy: 0.5714 - 11ms/epoch - 11ms/step\n",
      "Epoch 5/10\n",
      "1/1 - 0s - loss: 0.6829 - accuracy: 0.5714 - 10ms/epoch - 10ms/step\n",
      "Epoch 6/10\n",
      "1/1 - 0s - loss: 0.6838 - accuracy: 0.5714 - 10ms/epoch - 10ms/step\n",
      "Epoch 7/10\n",
      "1/1 - 0s - loss: 0.6838 - accuracy: 0.5714 - 10ms/epoch - 10ms/step\n",
      "Epoch 8/10\n",
      "1/1 - 0s - loss: 0.6832 - accuracy: 0.5714 - 10ms/epoch - 10ms/step\n",
      "Epoch 9/10\n",
      "1/1 - 0s - loss: 0.6829 - accuracy: 0.5714 - 11ms/epoch - 11ms/step\n",
      "Epoch 10/10\n",
      "1/1 - 0s - loss: 0.6830 - accuracy: 0.5714 - 10ms/epoch - 10ms/step\n"
     ]
    }
   ],
   "source": [
    "history2=model2.fit(train_padded,y_train,epochs=10,verbose=2,batch_size=15)"
   ]
  },
  {
   "cell_type": "code",
   "execution_count": 51,
   "id": "f81db54e",
   "metadata": {},
   "outputs": [
    {
     "name": "stdout",
     "output_type": "stream",
     "text": [
      "1/1 [==============================] - 0s 224ms/step - loss: 0.7592 - accuracy: 0.3333\n"
     ]
    },
    {
     "data": {
      "text/plain": [
       "[0.7591899037361145, 0.3333333432674408]"
      ]
     },
     "execution_count": 51,
     "metadata": {},
     "output_type": "execute_result"
    }
   ],
   "source": [
    "model2.evaluate(val_padded,y_val)"
   ]
  },
  {
   "cell_type": "code",
   "execution_count": 52,
   "id": "b5a4388f",
   "metadata": {},
   "outputs": [
    {
     "data": {
      "image/png": "[encoded data removed]",
      "text/plain": [
       "<Figure size 432x288 with 1 Axes>"
      ]
     },
     "metadata": {
      "needs_background": "light"
     },
     "output_type": "display_data"
    }
   ],
   "source": [
    "plt.plot(history2.history['accuracy'])\n",
    "plt.title('Model Accuracy')\n",
    "plt.ylabel('accuracy')\n",
    "plt.xlabel('epoch')\n",
    "plt.show()"
   ]
  },
  {
   "cell_type": "code",
   "execution_count": 53,
   "id": "3b071041",
   "metadata": {},
   "outputs": [
    {
     "data": {
      "image/png": "[encoded data removed]",
      "text/plain": [
       "<Figure size 432x288 with 1 Axes>"
      ]
     },
     "metadata": {
      "needs_background": "light"
     },
     "output_type": "display_data"
    }
   ],
   "source": [
    "plt.plot(history2.history['loss'])\n",
    "plt.title('Model Loss')\n",
    "plt.ylabel('loss')\n",
    "plt.xlabel('epoch')\n",
    "plt.show()"
   ]
  },
  {
   "cell_type": "code",
   "execution_count": 54,
   "id": "a6563c06",
   "metadata": {},
   "outputs": [
    {
     "name": "stdout",
     "output_type": "stream",
     "text": [
      "1/1 [==============================] - 0s 191ms/step\n",
      "[[0.57928824]\n",
      " [0.57928824]\n",
      " [0.57928824]\n",
      " [0.57928824]\n",
      " [0.57928824]\n",
      " [0.57928824]\n",
      " [0.57928824]\n",
      " [0.57928824]\n",
      " [0.57928824]\n",
      " [0.57928824]\n",
      " [0.57928824]\n",
      " [0.57928824]\n",
      " [0.57928824]\n",
      " [0.57928824]\n",
      " [0.57928824]\n",
      " [0.57928824]\n",
      " [0.57928824]\n",
      " [0.57928824]\n",
      " [0.5792881 ]\n",
      " [0.5792881 ]] negative\n"
     ]
    },
    {
     "name": "stderr",
     "output_type": "stream",
     "text": [
      "C:\\Users\\online.CSCENTER\\AppData\\Local\\Temp\\ipykernel_8432\\479605851.py:3: DeprecationWarning: In future, it will be an error for 'np.bool_' scalars to be interpreted as an index\n",
      "  print(res,label[np.argmax(trail_pad)>50])\n"
     ]
    }
   ],
   "source": [
    "res = model2.predict(trail_pad)\n",
    "label = ['positive','negative']\n",
    "print(res,label[np.argmax(trail_pad)>50])"
   ]
  },
  {
   "cell_type": "code",
   "execution_count": null,
   "id": "9e612461",
   "metadata": {},
   "outputs": [],
   "source": []
  }
 ],
 "metadata": {
  "kernelspec": {
   "display_name": "Python 3 (ipykernel)",
   "language": "python",
   "name": "python3"
  },
  "language_info": {
   "codemirror_mode": {
    "name": "ipython",
    "version": 3
   },
   "file_extension": ".py",
   "mimetype": "text/x-python",
   "name": "python",
   "nbconvert_exporter": "python",
   "pygments_lexer": "ipython3",
   "version": "3.9.12"
  }
 },
 "nbformat": 4,
 "nbformat_minor": 5
}
