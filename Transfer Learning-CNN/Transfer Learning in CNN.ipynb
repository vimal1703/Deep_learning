{
 "cells": [
  {
   "cell_type": "markdown",
   "metadata": {
    "id": "QNqBKyReHdId"
   },
   "source": [
    "# Transfer Learning in CNN"
   ]
  },
  {
   "cell_type": "markdown",
   "metadata": {
    "id": "siRMg-HtHurL"
   },
   "source": [
    "# Step-1:"
   ]
  },
  {
   "cell_type": "code",
   "execution_count": 1,
   "metadata": {
    "id": "6wZueN23GTN2"
   },
   "outputs": [],
   "source": [
    "import pandas as pd\n",
    "import datetime\n",
    "import keras\n",
    "from keras.datasets import mnist\n",
    "from keras.models import Sequential\n",
    "from keras.layers import Dense, Dropout, Activation, Flatten, Conv2D, MaxPooling2D"
   ]
  },
  {
   "cell_type": "markdown",
   "metadata": {
    "id": "tva2jgzKIKYi"
   },
   "source": [
    "# Step-2:"
   ]
  },
  {
   "cell_type": "code",
   "execution_count": 2,
   "metadata": {
    "id": "6iKOmf-BHgI1"
   },
   "outputs": [],
   "source": [
    "now = datetime.datetime.now\n",
    "\n",
    "batch_size = 128\n",
    "num_classes = 5\n",
    "epochs = 5\n",
    "\n",
    "img_rows, img_cols = 28,28\n",
    "filters = 32\n",
    "pool_size = 2\n",
    "kernel_size = 3"
   ]
  },
  {
   "cell_type": "markdown",
   "metadata": {
    "id": "-QfMxvnEIr3L"
   },
   "source": [
    "# Step-3:"
   ]
  },
  {
   "cell_type": "code",
   "execution_count": 3,
   "metadata": {
    "id": "KeXHzm-JIVFz"
   },
   "outputs": [],
   "source": [
    "(x_train, y_train), (x_test, y_test) = mnist.load_data()"
   ]
  },
  {
   "cell_type": "code",
   "execution_count": 4,
   "metadata": {
    "id": "1P-cwbnfI6DL"
   },
   "outputs": [],
   "source": [
    "x_train_lt5 = x_train[y_train < 5]\n",
    "y_train_lt5 = y_train[y_train < 5]\n",
    "x_test_lt5 = x_test[y_test < 5]\n",
    "y_test_lt5 = y_test[y_test < 5]\n",
    "\n",
    "x_train_gt5 = x_train[y_train >= 5]\n",
    "y_train_gt5 = y_train[y_train >= 5]-5\n",
    "x_test_gt5 = x_test[y_test >= 5]\n",
    "y_test_gt5 = y_test[y_test >= 5]-5"
   ]
  },
  {
   "cell_type": "code",
   "execution_count": 5,
   "metadata": {
    "colab": {
     "base_uri": "https://localhost:8080/"
    },
    "id": "SzCjMdSbLQ6R",
    "outputId": "e15f32e3-2ec1-4653-bbd3-c654b254d656"
   },
   "outputs": [
    {
     "data": {
      "text/plain": [
       "(30596, 28, 28)"
      ]
     },
     "execution_count": 5,
     "metadata": {},
     "output_type": "execute_result"
    }
   ],
   "source": [
    "x_train_lt5.shape"
   ]
  },
  {
   "cell_type": "code",
   "execution_count": 6,
   "metadata": {
    "colab": {
     "base_uri": "https://localhost:8080/"
    },
    "id": "QycmTHUFLk_Z",
    "outputId": "549ade22-f339-4fa1-b9c7-717f8c666e09"
   },
   "outputs": [
    {
     "data": {
      "text/plain": [
       "(29404, 28, 28)"
      ]
     },
     "execution_count": 6,
     "metadata": {},
     "output_type": "execute_result"
    }
   ],
   "source": [
    "x_train_gt5.shape"
   ]
  },
  {
   "cell_type": "markdown",
   "metadata": {
    "id": "LZekXcPIJsjD"
   },
   "source": [
    "# Step-4:"
   ]
  },
  {
   "cell_type": "code",
   "execution_count": 7,
   "metadata": {
    "id": "um3WmdfXJrpE"
   },
   "outputs": [],
   "source": [
    "feature_layers = [\n",
    "    Conv2D(filters=filters, kernel_size=kernel_size, activation='relu', padding='same', input_shape=(img_rows, img_cols, 1)),\n",
    "    Conv2D(filters=filters, kernel_size=kernel_size, activation='relu'),\n",
    "    MaxPooling2D(pool_size=pool_size),\n",
    "    Dropout(0.25),\n",
    "    Flatten()                                                             \n",
    "]"
   ]
  },
  {
   "cell_type": "markdown",
   "metadata": {
    "id": "rtiMIBDwOCXa"
   },
   "source": [
    "# Step-5:"
   ]
  },
  {
   "cell_type": "code",
   "execution_count": 8,
   "metadata": {
    "id": "YVkp9x2mMMti"
   },
   "outputs": [],
   "source": [
    "classification_layers = [\n",
    "    Dense(128, activation='relu'),\n",
    "    Dropout(0.5),\n",
    "    Dense(num_classes, activation='softmax')                                                             \n",
    "]"
   ]
  },
  {
   "cell_type": "markdown",
   "metadata": {
    "id": "4abzCLJdPPSB"
   },
   "source": [
    "# Step-6:"
   ]
  },
  {
   "cell_type": "code",
   "execution_count": 9,
   "metadata": {
    "id": "EyEsO67vPJrg"
   },
   "outputs": [],
   "source": [
    "model = Sequential(feature_layers + classification_layers)"
   ]
  },
  {
   "cell_type": "code",
   "execution_count": 10,
   "metadata": {
    "colab": {
     "base_uri": "https://localhost:8080/"
    },
    "id": "zzmS4RqxPv0R",
    "outputId": "dd8f482f-efc8-4801-9f46-7e735f1435ee"
   },
   "outputs": [
    {
     "name": "stdout",
     "output_type": "stream",
     "text": [
      "Model: \"sequential\"\n",
      "_________________________________________________________________\n",
      " Layer (type)                Output Shape              Param #   \n",
      "=================================================================\n",
      " conv2d (Conv2D)             (None, 28, 28, 32)        320       \n",
      "                                                                 \n",
      " conv2d_1 (Conv2D)           (None, 26, 26, 32)        9248      \n",
      "                                                                 \n",
      " max_pooling2d (MaxPooling2D  (None, 13, 13, 32)       0         \n",
      " )                                                               \n",
      "                                                                 \n",
      " dropout (Dropout)           (None, 13, 13, 32)        0         \n",
      "                                                                 \n",
      " flatten (Flatten)           (None, 5408)              0         \n",
      "                                                                 \n",
      " dense (Dense)               (None, 128)               692352    \n",
      "                                                                 \n",
      " dropout_1 (Dropout)         (None, 128)               0         \n",
      "                                                                 \n",
      " dense_1 (Dense)             (None, 5)                 645       \n",
      "                                                                 \n",
      "=================================================================\n",
      "Total params: 702,565\n",
      "Trainable params: 702,565\n",
      "Non-trainable params: 0\n",
      "_________________________________________________________________\n"
     ]
    }
   ],
   "source": [
    "model.summary()"
   ]
  },
  {
   "cell_type": "markdown",
   "metadata": {
    "id": "YSpNMgJxSFUn"
   },
   "source": [
    "# Step-7:"
   ]
  },
  {
   "cell_type": "code",
   "execution_count": 11,
   "metadata": {
    "id": "4WUBgxbTPx2n"
   },
   "outputs": [],
   "source": [
    "def train_model(model, train, test, num_classes):\n",
    "\n",
    "    train[0] = train[0].reshape(train[0].shape[0], img_rows, img_cols, 1).astype('float32') / 255\n",
    "    test[0] = test[0].reshape(test[0].shape[0], img_rows, img_cols, 1).astype('float32') / 255\n",
    "\n",
    "    print(train[0].shape)\n",
    "    print(test[0].shape)\n",
    "\n",
    "    s = pd.Series(train[1])\n",
    "    train[1] = pd.get_dummies(s)\n",
    "    train[1] = train[1].values\n",
    "\n",
    "    s = pd.Series(test[1])\n",
    "    test[1] = pd.get_dummies(s)\n",
    "    test[1] = test[1].values\n",
    "\n",
    "    model.compile(optimizer='adadelta', loss='categorical_crossentropy', metrics=['accuracy'])\n",
    "    train_start_time = now()\n",
    "    model.fit(train[0], train[1], epochs=epochs, batch_size=batch_size, verbose=2)\n",
    "\n",
    "    print('\\n')\n",
    "    print('--------------------------------------------------------------------------------')\n",
    "    print('\\n')\n",
    "\n",
    "    print('Training time: %s' % (now() - train_start_time))\n",
    "\n",
    "    score = model.evaluate(test[0], test[1], verbose=0)\n",
    "\n",
    "    print('Test loss =', score[0])\n",
    "    print('Test accuracy =', score[1]*100)"
   ]
  },
  {
   "cell_type": "markdown",
   "metadata": {
    "id": "bU6BYiI9UwYu"
   },
   "source": [
    "# Step-8:"
   ]
  },
  {
   "cell_type": "code",
   "execution_count": 12,
   "metadata": {
    "colab": {
     "base_uri": "https://localhost:8080/"
    },
    "id": "6ou30m3eUy__",
    "outputId": "69f01cdb-e865-4152-e51c-42c23842312b"
   },
   "outputs": [
    {
     "name": "stdout",
     "output_type": "stream",
     "text": [
      "(29404, 28, 28, 1)\n",
      "(4861, 28, 28, 1)\n",
      "Epoch 1/5\n",
      "230/230 - 15s - loss: 1.6072 - accuracy: 0.2205 - 15s/epoch - 67ms/step\n",
      "Epoch 2/5\n",
      "230/230 - 15s - loss: 1.5902 - accuracy: 0.2822 - 15s/epoch - 67ms/step\n",
      "Epoch 3/5\n",
      "230/230 - 15s - loss: 1.5697 - accuracy: 0.3564 - 15s/epoch - 64ms/step\n",
      "Epoch 4/5\n",
      "230/230 - 15s - loss: 1.5493 - accuracy: 0.4221 - 15s/epoch - 64ms/step\n",
      "Epoch 5/5\n",
      "230/230 - 15s - loss: 1.5219 - accuracy: 0.4864 - 15s/epoch - 64ms/step\n",
      "\n",
      "\n",
      "--------------------------------------------------------------------------------\n",
      "\n",
      "\n",
      "Training time: 0:01:15.014763\n",
      "Test loss = 1.493734359741211\n",
      "Test accuracy = 77.28862166404724\n"
     ]
    }
   ],
   "source": [
    "train_model(model, [x_train_gt5, y_train_gt5], [x_test_gt5, y_test_gt5], num_classes)"
   ]
  },
  {
   "cell_type": "markdown",
   "metadata": {
    "id": "wxQ1UwkTWkC9"
   },
   "source": [
    "# Step-9:"
   ]
  },
  {
   "cell_type": "code",
   "execution_count": 13,
   "metadata": {
    "id": "6crQM9vVWCNU"
   },
   "outputs": [],
   "source": [
    "for layers in feature_layers:\n",
    "    layers.trainable = False"
   ]
  },
  {
   "cell_type": "markdown",
   "metadata": {
    "id": "H_hnJmpRXXWl"
   },
   "source": [
    "# Step-10:"
   ]
  },
  {
   "cell_type": "code",
   "execution_count": 14,
   "metadata": {
    "colab": {
     "base_uri": "https://localhost:8080/"
    },
    "id": "HbHpy0vdXZME",
    "outputId": "367c0e5c-f450-4e9a-b666-8d05cba500dd"
   },
   "outputs": [
    {
     "name": "stdout",
     "output_type": "stream",
     "text": [
      "Model: \"sequential\"\n",
      "_________________________________________________________________\n",
      " Layer (type)                Output Shape              Param #   \n",
      "=================================================================\n",
      " conv2d (Conv2D)             (None, 28, 28, 32)        320       \n",
      "                                                                 \n",
      " conv2d_1 (Conv2D)           (None, 26, 26, 32)        9248      \n",
      "                                                                 \n",
      " max_pooling2d (MaxPooling2D  (None, 13, 13, 32)       0         \n",
      " )                                                               \n",
      "                                                                 \n",
      " dropout (Dropout)           (None, 13, 13, 32)        0         \n",
      "                                                                 \n",
      " flatten (Flatten)           (None, 5408)              0         \n",
      "                                                                 \n",
      " dense (Dense)               (None, 128)               692352    \n",
      "                                                                 \n",
      " dropout_1 (Dropout)         (None, 128)               0         \n",
      "                                                                 \n",
      " dense_1 (Dense)             (None, 5)                 645       \n",
      "                                                                 \n",
      "=================================================================\n",
      "Total params: 702,565\n",
      "Trainable params: 692,997\n",
      "Non-trainable params: 9,568\n",
      "_________________________________________________________________\n"
     ]
    }
   ],
   "source": [
    "model.summary()"
   ]
  },
  {
   "cell_type": "markdown",
   "metadata": {
    "id": "n6Z7bzb1XhLs"
   },
   "source": [
    "# Step-11:"
   ]
  },
  {
   "cell_type": "code",
   "execution_count": 15,
   "metadata": {
    "colab": {
     "base_uri": "https://localhost:8080/"
    },
    "id": "3VzXJMjDXjE7",
    "outputId": "eaad527b-7928-4c6b-ee7c-1e2fdb94d01c"
   },
   "outputs": [
    {
     "name": "stdout",
     "output_type": "stream",
     "text": [
      "(30596, 28, 28, 1)\n",
      "(5139, 28, 28, 1)\n",
      "Epoch 1/5\n",
      "240/240 - 4s - loss: 1.5795 - accuracy: 0.2919 - 4s/epoch - 16ms/step\n",
      "Epoch 2/5\n",
      "240/240 - 4s - loss: 1.5451 - accuracy: 0.3821 - 4s/epoch - 15ms/step\n",
      "Epoch 3/5\n",
      "240/240 - 4s - loss: 1.5087 - accuracy: 0.4656 - 4s/epoch - 15ms/step\n",
      "Epoch 4/5\n",
      "240/240 - 4s - loss: 1.4731 - accuracy: 0.5346 - 4s/epoch - 15ms/step\n",
      "Epoch 5/5\n",
      "240/240 - 4s - loss: 1.4378 - accuracy: 0.5912 - 4s/epoch - 15ms/step\n",
      "\n",
      "\n",
      "--------------------------------------------------------------------------------\n",
      "\n",
      "\n",
      "Training time: 0:00:18.337648\n",
      "Test loss = 1.4002854824066162\n",
      "Test accuracy = 82.19497799873352\n"
     ]
    }
   ],
   "source": [
    "train_model(model, [x_train_lt5, y_train_lt5], [x_test_lt5, y_test_lt5], num_classes)"
   ]
  },
  {
   "cell_type": "markdown",
   "metadata": {
    "id": "mIiBaXSeYBPG"
   },
   "source": [
    "# Step-12:"
   ]
  },
  {
   "cell_type": "code",
   "execution_count": 16,
   "metadata": {
    "id": "sLc8FnIQZuw9"
   },
   "outputs": [],
   "source": [
    "feature_layers_reverse = [\n",
    "    Conv2D(filters=filters, kernel_size=kernel_size, activation='relu', padding='same', input_shape=(img_rows, img_cols, 1)),\n",
    "    Conv2D(filters=filters, kernel_size=kernel_size, activation='relu'),\n",
    "    MaxPooling2D(pool_size=pool_size),\n",
    "    Dropout(0.25),\n",
    "    Flatten()                                                             \n",
    "]"
   ]
  },
  {
   "cell_type": "code",
   "execution_count": 17,
   "metadata": {
    "id": "D3v6igw8Z4TA"
   },
   "outputs": [],
   "source": [
    "classification_layers_reverse = [\n",
    "    Dense(128, activation='relu'),\n",
    "    Dropout(0.5),\n",
    "    Dense(num_classes, activation='softmax')                                                             \n",
    "]"
   ]
  },
  {
   "cell_type": "code",
   "execution_count": 18,
   "metadata": {
    "id": "LqdojstwYFdH"
   },
   "outputs": [
    {
     "name": "stdout",
     "output_type": "stream",
     "text": [
      "Model: \"sequential_1\"\n",
      "_________________________________________________________________\n",
      " Layer (type)                Output Shape              Param #   \n",
      "=================================================================\n",
      " conv2d_2 (Conv2D)           (None, 28, 28, 32)        320       \n",
      "                                                                 \n",
      " conv2d_3 (Conv2D)           (None, 26, 26, 32)        9248      \n",
      "                                                                 \n",
      " max_pooling2d_1 (MaxPooling  (None, 13, 13, 32)       0         \n",
      " 2D)                                                             \n",
      "                                                                 \n",
      " dropout_2 (Dropout)         (None, 13, 13, 32)        0         \n",
      "                                                                 \n",
      " flatten_1 (Flatten)         (None, 5408)              0         \n",
      "                                                                 \n",
      " dense_2 (Dense)             (None, 128)               692352    \n",
      "                                                                 \n",
      " dropout_3 (Dropout)         (None, 128)               0         \n",
      "                                                                 \n",
      " dense_3 (Dense)             (None, 5)                 645       \n",
      "                                                                 \n",
      "=================================================================\n",
      "Total params: 702,565\n",
      "Trainable params: 702,565\n",
      "Non-trainable params: 0\n",
      "_________________________________________________________________\n"
     ]
    }
   ],
   "source": [
    "model_reverse = Sequential(feature_layers_reverse + classification_layers_reverse)\n",
    "model_reverse.summary()"
   ]
  },
  {
   "cell_type": "code",
   "execution_count": null,
   "metadata": {
    "id": "m-LGoruiYFf2"
   },
   "outputs": [
    {
     "name": "stdout",
     "output_type": "stream",
     "text": [
      "(30596, 28, 28, 1)\n",
      "(5139, 28, 28, 1)\n",
      "Epoch 1/5\n",
      "240/240 - 16s - loss: 1.5973 - accuracy: 0.2872 - 16s/epoch - 68ms/step\n",
      "Epoch 2/5\n",
      "240/240 - 16s - loss: 1.5579 - accuracy: 0.3699 - 16s/epoch - 65ms/step\n",
      "Epoch 3/5\n",
      "240/240 - 16s - loss: 1.5157 - accuracy: 0.4693 - 16s/epoch - 67ms/step\n",
      "Epoch 4/5\n"
     ]
    }
   ],
   "source": [
    "train_model(model_reverse, [x_train_lt5, y_train_lt5], [x_test_lt5, y_test_lt5], num_classes)"
   ]
  },
  {
   "cell_type": "code",
   "execution_count": null,
   "metadata": {
    "id": "pEl48vCIYFiG"
   },
   "outputs": [],
   "source": [
    "for layers in feature_layers_reverse:\n",
    "    layers.trainable = False"
   ]
  },
  {
   "cell_type": "code",
   "execution_count": null,
   "metadata": {
    "id": "Dnc5tetLYLzw"
   },
   "outputs": [],
   "source": [
    "model_reverse.summary()"
   ]
  },
  {
   "cell_type": "code",
   "execution_count": null,
   "metadata": {
    "id": "u3VK8iaLYL2f"
   },
   "outputs": [],
   "source": [
    "train_model(model_reverse, [x_train_gt5, y_train_gt5], [x_test_gt5, y_test_gt5], num_classes)"
   ]
  },
  {
   "cell_type": "code",
   "execution_count": null,
   "metadata": {
    "id": "DWgBI6unYL82"
   },
   "outputs": [],
   "source": []
  }
 ],
 "metadata": {
  "colab": {
   "collapsed_sections": [],
   "provenance": []
  },
  "kernelspec": {
   "display_name": "Python 3 (ipykernel)",
   "language": "python",
   "name": "python3"
  },
  "language_info": {
   "codemirror_mode": {
    "name": "ipython",
    "version": 3
   },
   "file_extension": ".py",
   "mimetype": "text/x-python",
   "name": "python",
   "nbconvert_exporter": "python",
   "pygments_lexer": "ipython3",
   "version": "3.9.12"
  }
 },
 "nbformat": 4,
 "nbformat_minor": 1
}
